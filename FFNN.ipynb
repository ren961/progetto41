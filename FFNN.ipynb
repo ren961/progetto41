{
  "cells": [
    {
      "cell_type": "code",
      "execution_count": 1,
      "metadata": {
        "colab": {
          "base_uri": "https://localhost:8080/"
        },
        "id": "5gfjzReGDGih",
        "outputId": "4fc56fa6-2767-4cfc-934f-467b89dc9749"
      },
      "outputs": [
        {
          "output_type": "stream",
          "name": "stdout",
          "text": [
            "Requirement already satisfied: torchio in /usr/local/lib/python3.10/dist-packages (0.19.1)\n",
            "Requirement already satisfied: Deprecated in /usr/local/lib/python3.10/dist-packages (from torchio) (1.2.14)\n",
            "Requirement already satisfied: SimpleITK!=2.0.*,!=2.1.1.1 in /usr/local/lib/python3.10/dist-packages (from torchio) (2.2.1)\n",
            "Requirement already satisfied: humanize in /usr/local/lib/python3.10/dist-packages (from torchio) (4.7.0)\n",
            "Requirement already satisfied: nibabel in /usr/local/lib/python3.10/dist-packages (from torchio) (4.0.2)\n",
            "Requirement already satisfied: numpy>=1.15 in /usr/local/lib/python3.10/dist-packages (from torchio) (1.23.5)\n",
            "Requirement already satisfied: scipy in /usr/local/lib/python3.10/dist-packages (from torchio) (1.10.1)\n",
            "Requirement already satisfied: torch>=1.1 in /usr/local/lib/python3.10/dist-packages (from torchio) (2.0.1+cu118)\n",
            "Requirement already satisfied: tqdm in /usr/local/lib/python3.10/dist-packages (from torchio) (4.66.1)\n",
            "Requirement already satisfied: typer[all] in /usr/local/lib/python3.10/dist-packages (from torchio) (0.9.0)\n",
            "Requirement already satisfied: filelock in /usr/local/lib/python3.10/dist-packages (from torch>=1.1->torchio) (3.12.2)\n",
            "Requirement already satisfied: typing-extensions in /usr/local/lib/python3.10/dist-packages (from torch>=1.1->torchio) (4.7.1)\n",
            "Requirement already satisfied: sympy in /usr/local/lib/python3.10/dist-packages (from torch>=1.1->torchio) (1.12)\n",
            "Requirement already satisfied: networkx in /usr/local/lib/python3.10/dist-packages (from torch>=1.1->torchio) (3.1)\n",
            "Requirement already satisfied: jinja2 in /usr/local/lib/python3.10/dist-packages (from torch>=1.1->torchio) (3.1.2)\n",
            "Requirement already satisfied: triton==2.0.0 in /usr/local/lib/python3.10/dist-packages (from torch>=1.1->torchio) (2.0.0)\n",
            "Requirement already satisfied: cmake in /usr/local/lib/python3.10/dist-packages (from triton==2.0.0->torch>=1.1->torchio) (3.27.2)\n",
            "Requirement already satisfied: lit in /usr/local/lib/python3.10/dist-packages (from triton==2.0.0->torch>=1.1->torchio) (16.0.6)\n",
            "Requirement already satisfied: wrapt<2,>=1.10 in /usr/local/lib/python3.10/dist-packages (from Deprecated->torchio) (1.14.1)\n",
            "Requirement already satisfied: packaging>=17.0 in /usr/local/lib/python3.10/dist-packages (from nibabel->torchio) (23.1)\n",
            "Requirement already satisfied: setuptools in /usr/local/lib/python3.10/dist-packages (from nibabel->torchio) (67.7.2)\n",
            "Requirement already satisfied: click<9.0.0,>=7.1.1 in /usr/local/lib/python3.10/dist-packages (from typer[all]->torchio) (8.1.7)\n",
            "Requirement already satisfied: colorama<0.5.0,>=0.4.3 in /usr/local/lib/python3.10/dist-packages (from typer[all]->torchio) (0.4.6)\n",
            "Requirement already satisfied: shellingham<2.0.0,>=1.3.0 in /usr/local/lib/python3.10/dist-packages (from typer[all]->torchio) (1.5.3)\n",
            "Requirement already satisfied: rich<14.0.0,>=10.11.0 in /usr/local/lib/python3.10/dist-packages (from typer[all]->torchio) (13.5.2)\n",
            "Requirement already satisfied: markdown-it-py>=2.2.0 in /usr/local/lib/python3.10/dist-packages (from rich<14.0.0,>=10.11.0->typer[all]->torchio) (3.0.0)\n",
            "Requirement already satisfied: pygments<3.0.0,>=2.13.0 in /usr/local/lib/python3.10/dist-packages (from rich<14.0.0,>=10.11.0->typer[all]->torchio) (2.16.1)\n",
            "Requirement already satisfied: MarkupSafe>=2.0 in /usr/local/lib/python3.10/dist-packages (from jinja2->torch>=1.1->torchio) (2.1.3)\n",
            "Requirement already satisfied: mpmath>=0.19 in /usr/local/lib/python3.10/dist-packages (from sympy->torch>=1.1->torchio) (1.3.0)\n",
            "Requirement already satisfied: mdurl~=0.1 in /usr/local/lib/python3.10/dist-packages (from markdown-it-py>=2.2.0->rich<14.0.0,>=10.11.0->typer[all]->torchio) (0.1.2)\n"
          ]
        }
      ],
      "source": [
        "!pip install torchio"
      ]
    },
    {
      "cell_type": "code",
      "execution_count": 2,
      "metadata": {
        "colab": {
          "base_uri": "https://localhost:8080/"
        },
        "id": "EZRzTSUoBVkK",
        "outputId": "be8af7a8-b414-4dfd-f52f-34a27c6e6dc3"
      },
      "outputs": [
        {
          "output_type": "stream",
          "name": "stdout",
          "text": [
            "Drive already mounted at /content/drive; to attempt to forcibly remount, call drive.mount(\"/content/drive\", force_remount=True).\n"
          ]
        }
      ],
      "source": [
        "from google.colab import drive\n",
        "drive.mount('/content/drive')"
      ]
    },
    {
      "cell_type": "code",
      "execution_count": 3,
      "metadata": {
        "id": "430qAZhJCFux"
      },
      "outputs": [],
      "source": [
        "import os\n",
        "import torch\n",
        "import torchvision\n",
        "import tarfile\n",
        "import pandas as pd\n",
        "import torch.nn as nn\n",
        "import numpy as np\n",
        "import os.path\n",
        "import shutil\n",
        "import torchio as tio\n",
        "import torch.nn.functional as F\n",
        "import torchvision.transforms as tt\n",
        "from torch.utils.data import random_split\n",
        "from torch.utils.data.dataloader import DataLoader\n",
        "from torchvision.utils import make_grid\n",
        "import matplotlib\n",
        "import matplotlib.pyplot as plt\n",
        "import nibabel as nib\n",
        "%matplotlib inline\n",
        "\n",
        "matplotlib.rcParams['figure.facecolor'] = '#ffffff'"
      ]
    },
    {
      "cell_type": "code",
      "execution_count": 4,
      "metadata": {
        "colab": {
          "base_uri": "https://localhost:8080/"
        },
        "id": "y-nr8bgDCMeB",
        "outputId": "23fee071-bd16-4c26-ca99-d607f52e22b9"
      },
      "outputs": [
        {
          "output_type": "stream",
          "name": "stdout",
          "text": [
            "                    OS\n",
            "ID                    \n",
            "UPENN-GBM-00002_11   0\n",
            "UPENN-GBM-00006_11   1\n",
            "UPENN-GBM-00008_11   1\n",
            "UPENN-GBM-00009_11   1\n",
            "UPENN-GBM-00011_11   1\n",
            "...                 ..\n",
            "UPENN-GBM-00597_11   0\n",
            "UPENN-GBM-00601_11   0\n",
            "UPENN-GBM-00602_11   0\n",
            "UPENN-GBM-00604_11   0\n",
            "UPENN-GBM-00611_11   1\n",
            "\n",
            "[334 rows x 1 columns]\n"
          ]
        }
      ],
      "source": [
        "df = pd.read_csv('/content/drive/MyDrive/informazioni_pazienti.csv', index_col = 'ID')\n",
        "print(df)"
      ]
    },
    {
      "cell_type": "code",
      "execution_count": 5,
      "metadata": {
        "colab": {
          "base_uri": "https://localhost:8080/"
        },
        "id": "CcNbSAZwxMmd",
        "outputId": "85f85da9-25f9-48ae-b8ea-305f2ceb70ac"
      },
      "outputs": [
        {
          "output_type": "stream",
          "name": "stdout",
          "text": [
            "['UPENN-GBM-00006_11', 'UPENN-GBM-00009_11', 'UPENN-GBM-00011_11', 'UPENN-GBM-00002_11', 'UPENN-GBM-00014_11', 'UPENN-GBM-00012_11', 'UPENN-GBM-00020_11', 'UPENN-GBM-00016_11', 'UPENN-GBM-00008_11', 'UPENN-GBM-00018_11', 'UPENN-GBM-00040_11', 'UPENN-GBM-00033_11', 'UPENN-GBM-00041_11', 'UPENN-GBM-00021_11', 'UPENN-GBM-00034_11', 'UPENN-GBM-00035_11', 'UPENN-GBM-00031_11', 'UPENN-GBM-00029_11', 'UPENN-GBM-00022_11', 'UPENN-GBM-00030_11', 'UPENN-GBM-00054_11', 'UPENN-GBM-00043_11', 'UPENN-GBM-00059_11', 'UPENN-GBM-00062_11', 'UPENN-GBM-00047_11', 'UPENN-GBM-00060_11', 'UPENN-GBM-00063_11', 'UPENN-GBM-00058_11', 'UPENN-GBM-00045_11', 'UPENN-GBM-00057_11', 'UPENN-GBM-00065_11', 'UPENN-GBM-00068_11', 'UPENN-GBM-00076_11', 'UPENN-GBM-00072_11', 'UPENN-GBM-00077_11', 'UPENN-GBM-00064_11', 'UPENN-GBM-00069_11', 'UPENN-GBM-00073_11', 'UPENN-GBM-00066_11', 'UPENN-GBM-00075_11', 'UPENN-GBM-00082_11', 'UPENN-GBM-00091_11', 'UPENN-GBM-00083_11', 'UPENN-GBM-00081_11', 'UPENN-GBM-00086_11', 'UPENN-GBM-00089_11', 'UPENN-GBM-00087_11', 'UPENN-GBM-00078_11', 'UPENN-GBM-00088_11', 'UPENN-GBM-00080_11', 'UPENN-GBM-00101_11', 'UPENN-GBM-00098_11', 'UPENN-GBM-00108_11', 'UPENN-GBM-00105_11', 'UPENN-GBM-00112_11', 'UPENN-GBM-00102_11', 'UPENN-GBM-00106_11', 'UPENN-GBM-00113_11', 'UPENN-GBM-00107_11', 'UPENN-GBM-00100_11', 'UPENN-GBM-00119_11', 'UPENN-GBM-00127_11', 'UPENN-GBM-00122_11', 'UPENN-GBM-00114_11', 'UPENN-GBM-00129_11', 'UPENN-GBM-00115_11', 'UPENN-GBM-00128_11', 'UPENN-GBM-00125_11', 'UPENN-GBM-00126_11', 'UPENN-GBM-00121_11', 'UPENN-GBM-00135_11', 'UPENN-GBM-00139_11', 'UPENN-GBM-00137_11', 'UPENN-GBM-00133_11', 'UPENN-GBM-00138_11', 'UPENN-GBM-00141_11', 'UPENN-GBM-00134_11', 'UPENN-GBM-00140_11', 'UPENN-GBM-00132_11', 'UPENN-GBM-00131_11', 'UPENN-GBM-00149_11', 'UPENN-GBM-00148_11', 'UPENN-GBM-00152_11', 'UPENN-GBM-00146_11', 'UPENN-GBM-00150_11', 'UPENN-GBM-00154_11', 'UPENN-GBM-00143_11', 'UPENN-GBM-00144_11', 'UPENN-GBM-00151_11', 'UPENN-GBM-00145_11', 'UPENN-GBM-00156_11', 'UPENN-GBM-00158_11', 'UPENN-GBM-00157_11', 'UPENN-GBM-00168_11', 'UPENN-GBM-00162_11', 'UPENN-GBM-00166_11', 'UPENN-GBM-00165_11', 'UPENN-GBM-00167_11', 'UPENN-GBM-00164_11', 'UPENN-GBM-00161_11', 'UPENN-GBM-00174_11', 'UPENN-GBM-00175_11', 'UPENN-GBM-00169_11', 'UPENN-GBM-00177_11', 'UPENN-GBM-00178_11', 'UPENN-GBM-00173_11', 'UPENN-GBM-00171_11', 'UPENN-GBM-00170_11', 'UPENN-GBM-00176_11', 'UPENN-GBM-00172_11', 'UPENN-GBM-00194_11', 'UPENN-GBM-00185_11', 'UPENN-GBM-00195_11', 'UPENN-GBM-00183_11', 'UPENN-GBM-00180_11', 'UPENN-GBM-00192_11', 'UPENN-GBM-00193_11', 'UPENN-GBM-00191_11', 'UPENN-GBM-00190_11', 'UPENN-GBM-00187_11', 'UPENN-GBM-00208_11', 'UPENN-GBM-00196_11', 'UPENN-GBM-00204_11', 'UPENN-GBM-00207_11', 'UPENN-GBM-00197_11', 'UPENN-GBM-00203_11', 'UPENN-GBM-00205_11', 'UPENN-GBM-00206_11', 'UPENN-GBM-00201_11', 'UPENN-GBM-00198_11', 'UPENN-GBM-00213_11', 'UPENN-GBM-00217_11', 'UPENN-GBM-00225_11', 'UPENN-GBM-00224_11', 'UPENN-GBM-00216_11', 'UPENN-GBM-00219_11', 'UPENN-GBM-00210_11', 'UPENN-GBM-00226_11', 'UPENN-GBM-00215_11', 'UPENN-GBM-00227_11', 'UPENN-GBM-00242_11', 'UPENN-GBM-00240_11', 'UPENN-GBM-00235_11', 'UPENN-GBM-00236_11', 'UPENN-GBM-00228_11', 'UPENN-GBM-00232_11', 'UPENN-GBM-00237_11', 'UPENN-GBM-00234_11', 'UPENN-GBM-00238_11', 'UPENN-GBM-00243_11', 'UPENN-GBM-00253_11', 'UPENN-GBM-00246_11', 'UPENN-GBM-00251_11', 'UPENN-GBM-00250_11', 'UPENN-GBM-00249_11', 'UPENN-GBM-00256_11', 'UPENN-GBM-00252_11', 'UPENN-GBM-00254_11', 'UPENN-GBM-00255_11', 'UPENN-GBM-00244_11', 'UPENN-GBM-00265_11', 'UPENN-GBM-00261_11', 'UPENN-GBM-00264_11', 'UPENN-GBM-00266_11', 'UPENN-GBM-00262_11', 'UPENN-GBM-00268_11', 'UPENN-GBM-00259_11', 'UPENN-GBM-00270_11', 'UPENN-GBM-00267_11', 'UPENN-GBM-00263_11', 'UPENN-GBM-00284_11', 'UPENN-GBM-00274_11', 'UPENN-GBM-00277_11', 'UPENN-GBM-00282_11', 'UPENN-GBM-00290_11', 'UPENN-GBM-00271_11', 'UPENN-GBM-00288_11', 'UPENN-GBM-00287_11', 'UPENN-GBM-00285_11', 'UPENN-GBM-00275_11', 'UPENN-GBM-00295_11', 'UPENN-GBM-00291_11', 'UPENN-GBM-00304_11', 'UPENN-GBM-00294_11', 'UPENN-GBM-00303_11', 'UPENN-GBM-00301_11', 'UPENN-GBM-00307_11', 'UPENN-GBM-00305_11', 'UPENN-GBM-00302_11', 'UPENN-GBM-00296_11', 'UPENN-GBM-00328_11', 'UPENN-GBM-00312_11', 'UPENN-GBM-00325_11', 'UPENN-GBM-00308_11', 'UPENN-GBM-00324_11', 'UPENN-GBM-00316_11', 'UPENN-GBM-00310_11', 'UPENN-GBM-00315_11', 'UPENN-GBM-00313_11', 'UPENN-GBM-00323_11', 'UPENN-GBM-00342_11', 'UPENN-GBM-00330_11', 'UPENN-GBM-00340_11', 'UPENN-GBM-00332_11', 'UPENN-GBM-00334_11', 'UPENN-GBM-00335_11', 'UPENN-GBM-00336_11', 'UPENN-GBM-00337_11', 'UPENN-GBM-00338_11', 'UPENN-GBM-00345_11', 'UPENN-GBM-00348_11', 'UPENN-GBM-00349_11', 'UPENN-GBM-00360_11', 'UPENN-GBM-00362_11', 'UPENN-GBM-00354_11', 'UPENN-GBM-00350_11', 'UPENN-GBM-00355_11', 'UPENN-GBM-00352_11', 'UPENN-GBM-00356_11', 'UPENN-GBM-00346_11', 'UPENN-GBM-00364_11', 'UPENN-GBM-00376_11', 'UPENN-GBM-00369_11', 'UPENN-GBM-00370_11', 'UPENN-GBM-00368_11', 'UPENN-GBM-00373_11', 'UPENN-GBM-00363_11', 'UPENN-GBM-00374_11', 'UPENN-GBM-00375_11', 'UPENN-GBM-00367_11', 'UPENN-GBM-00379_11', 'UPENN-GBM-00380_11', 'UPENN-GBM-00382_11', 'UPENN-GBM-00389_11', 'UPENN-GBM-00378_11', 'UPENN-GBM-00387_11', 'UPENN-GBM-00385_11', 'UPENN-GBM-00377_11', 'UPENN-GBM-00384_11', 'UPENN-GBM-00388_11', 'UPENN-GBM-00408_11', 'UPENN-GBM-00393_11', 'UPENN-GBM-00391_11', 'UPENN-GBM-00407_11', 'UPENN-GBM-00398_11', 'UPENN-GBM-00405_11', 'UPENN-GBM-00406_11', 'UPENN-GBM-00404_11', 'UPENN-GBM-00403_11', 'UPENN-GBM-00399_11', 'UPENN-GBM-00411_11', 'UPENN-GBM-00412_11', 'UPENN-GBM-00421_11', 'UPENN-GBM-00419_11', 'UPENN-GBM-00423_11', 'UPENN-GBM-00417_11', 'UPENN-GBM-00413_11', 'UPENN-GBM-00409_11', 'UPENN-GBM-00426_11', 'UPENN-GBM-00418_11', 'UPENN-GBM-00428_11', 'UPENN-GBM-00442_11', 'UPENN-GBM-00435_11', 'UPENN-GBM-00437_11', 'UPENN-GBM-00439_11', 'UPENN-GBM-00434_11', 'UPENN-GBM-00436_11', 'UPENN-GBM-00431_11', 'UPENN-GBM-00427_11', 'UPENN-GBM-00432_11', 'UPENN-GBM-00454_11', 'UPENN-GBM-00459_11', 'UPENN-GBM-00456_11', 'UPENN-GBM-00455_11', 'UPENN-GBM-00443_11', 'UPENN-GBM-00448_11', 'UPENN-GBM-00449_11', 'UPENN-GBM-00445_11', 'UPENN-GBM-00464_11', 'UPENN-GBM-00463_11', 'UPENN-GBM-00468_11', 'UPENN-GBM-00473_11', 'UPENN-GBM-00469_11', 'UPENN-GBM-00475_11', 'UPENN-GBM-00490_11', 'UPENN-GBM-00471_11', 'UPENN-GBM-00470_11', 'UPENN-GBM-00467_11', 'UPENN-GBM-00476_11', 'UPENN-GBM-00466_11', 'UPENN-GBM-00513_11', 'UPENN-GBM-00510_11', 'UPENN-GBM-00519_11', 'UPENN-GBM-00514_11', 'UPENN-GBM-00508_11', 'UPENN-GBM-00496_11', 'UPENN-GBM-00516_11', 'UPENN-GBM-00520_11', 'UPENN-GBM-00491_11', 'UPENN-GBM-00499_11', 'UPENN-GBM-00527_11', 'UPENN-GBM-00535_11', 'UPENN-GBM-00534_11', 'UPENN-GBM-00529_11', 'UPENN-GBM-00528_11', 'UPENN-GBM-00533_11', 'UPENN-GBM-00526_11', 'UPENN-GBM-00540_11', 'UPENN-GBM-00541_11', 'UPENN-GBM-00530_11', 'UPENN-GBM-00545_11', 'UPENN-GBM-00551_11', 'UPENN-GBM-00550_11', 'UPENN-GBM-00559_11', 'UPENN-GBM-00552_11', 'UPENN-GBM-00554_11', 'UPENN-GBM-00560_11', 'UPENN-GBM-00556_11', 'UPENN-GBM-00549_11', 'UPENN-GBM-00546_11', 'UPENN-GBM-00597_11', 'UPENN-GBM-00572_11', 'UPENN-GBM-00596_11', 'UPENN-GBM-00590_11', 'UPENN-GBM-00588_11', 'UPENN-GBM-00561_11', 'UPENN-GBM-00575_11', 'UPENN-GBM-00583_11', 'UPENN-GBM-00576_11', 'UPENN-GBM-00581_11', 'UPENN-GBM-00611_11', 'UPENN-GBM-00602_11', 'UPENN-GBM-00601_11', 'UPENN-GBM-00604_11']\n"
          ]
        }
      ],
      "source": [
        "patients_list = [f.name for f in os.scandir('/content/drive/MyDrive/dataset') if f.is_dir()]\n",
        "subjects_list = []\n",
        "print(patients_list)"
      ]
    },
    {
      "cell_type": "code",
      "execution_count": 6,
      "metadata": {
        "id": "PmdvNwBdCQMo"
      },
      "outputs": [],
      "source": [
        "for current in patients_list:\n",
        "  image_path = '/content/drive/MyDrive/dataset/'+current+'/'+current+'_img.nii.gz/'\n",
        "  image_name = current\n",
        "\n",
        "  subject_dict = {'Images': tio.ScalarImage('/content/drive/MyDrive/dataset/'+current+'/'+current+'_img.nii.gz/'),\n",
        "                  'ImagesName': image_name ,#aggiunto per bilanciamento\n",
        "\n",
        "                 'OS':  df.loc[current, 'OS']\n",
        "                 }\n",
        "  subject = tio.Subject(subject_dict)\n",
        "  subjects_list.append(subject)"
      ]
    },
    {
      "cell_type": "code",
      "execution_count": 7,
      "metadata": {
        "colab": {
          "base_uri": "https://localhost:8080/"
        },
        "id": "FeR5l6bHCRYu",
        "outputId": "de95ef1d-c383-4963-f44e-02da9590a429"
      },
      "outputs": [
        {
          "output_type": "stream",
          "name": "stdout",
          "text": [
            "Subject(Keys: ('Images', 'ImagesName', 'OS'); images: 1)\n"
          ]
        },
        {
          "output_type": "execute_result",
          "data": {
            "text/plain": [
              "<torchio.data.dataset.SubjectsDataset at 0x7e7092704970>"
            ]
          },
          "metadata": {},
          "execution_count": 7
        }
      ],
      "source": [
        "subjects_dataset = tio.SubjectsDataset(subjects_list)\n",
        "prova = subjects_dataset[1]\n",
        "print(prova)\n",
        "subjects_dataset"
      ]
    },
    {
      "cell_type": "code",
      "execution_count": 8,
      "metadata": {
        "colab": {
          "base_uri": "https://localhost:8080/"
        },
        "id": "ua-LUMn57wi1",
        "outputId": "1bf81f40-cf9a-424e-f181-8c04a0b0918c"
      },
      "outputs": [
        {
          "output_type": "stream",
          "name": "stdout",
          "text": [
            "203\n",
            "131\n"
          ]
        }
      ],
      "source": [
        "class_0_indices = []\n",
        "class_1_indices = []\n",
        "for current in subjects_dataset:\n",
        "    labels = current['OS']\n",
        "    inputs = current['Images'][tio.DATA]\n",
        "    name = current['ImagesName']\n",
        "\n",
        "    if ( labels == 0):\n",
        "        class_0_indices.append(name)\n",
        "    else:\n",
        "      class_1_indices.append(name)\n",
        "\n",
        "print(len(class_0_indices))\n",
        "print(len(class_1_indices))\n",
        "\n",
        "class_0_size=len(class_0_indices)\n",
        "class_1_size=len(class_1_indices)"
      ]
    },
    {
      "cell_type": "code",
      "execution_count": 9,
      "metadata": {
        "id": "zspCO2Zy8A6K"
      },
      "outputs": [],
      "source": [
        "subjects_0 = []\n",
        "for current in class_0_indices:\n",
        "  image_path = '/content/drive/MyDrive/dataset/'+current+'/'+current+'_img.nii.gz/'\n",
        "  image_name = current\n",
        "\n",
        "  subject_dict = {'Images': tio.ScalarImage('/content/drive/MyDrive/dataset/'+current+'/'+current+'_img.nii.gz/'),\n",
        "                 'ImagesName': image_name ,\n",
        "                 'OS': df.loc[current, 'OS']\n",
        "                 }\n",
        "  subject = tio.Subject(subject_dict)\n",
        "  subjects_0.append(subject)"
      ]
    },
    {
      "cell_type": "code",
      "execution_count": 10,
      "metadata": {
        "id": "dDapiAp38FBG"
      },
      "outputs": [],
      "source": [
        "subjects_1 = []\n",
        "for current in class_1_indices:\n",
        "  image_path = '/content/drive/MyDrive/dataset/'+current+'/'+current+'_img.nii.gz/'\n",
        "  image_name = current\n",
        "\n",
        "  subject_dict = {'Images': tio.ScalarImage('/content/drive/MyDrive/dataset/'+current+'/'+current+'_img.nii.gz/'),\n",
        "                 'ImagesName': image_name ,\n",
        "                 'OS': df.loc[current, 'OS']\n",
        "                 }\n",
        "  subject = tio.Subject(subject_dict)\n",
        "  subjects_1.append(subject)"
      ]
    },
    {
      "cell_type": "code",
      "execution_count": 11,
      "metadata": {
        "id": "iqFM2ELG33q8"
      },
      "outputs": [],
      "source": [
        "data_transforms = tio.Compose([\n",
        "    tio.RandomFlip(),\n",
        "    tio.Resample(5)\n",
        "    #tio.RandomNoise(p = 0.2),\n",
        "    #tio.RandomMotion(p = 0.2)  ho tolto queste perchè non mi bastava la RAM\n",
        "])"
      ]
    },
    {
      "cell_type": "code",
      "execution_count": 12,
      "metadata": {
        "id": "PLYNdG-t9B7w"
      },
      "outputs": [],
      "source": [
        "augmented_subjects_1 = []\n",
        "\n",
        "for img in subjects_1:\n",
        "    augmented_subjects_1.append(img)\n",
        "    augmented_img = data_transforms(img)\n",
        "    augmented_subjects_1.append(augmented_img)"
      ]
    },
    {
      "cell_type": "code",
      "execution_count": 13,
      "metadata": {
        "id": "nlaIJkh6-RpW",
        "colab": {
          "base_uri": "https://localhost:8080/"
        },
        "outputId": "cc5f57cd-24dc-481f-9a88-8ef78ec32dda"
      },
      "outputs": [
        {
          "output_type": "execute_result",
          "data": {
            "text/plain": [
              "262"
            ]
          },
          "metadata": {},
          "execution_count": 13
        }
      ],
      "source": [
        "len(augmented_subjects_1)"
      ]
    },
    {
      "cell_type": "code",
      "execution_count": 14,
      "metadata": {
        "id": "hkMGjUXVFtgw"
      },
      "outputs": [],
      "source": [
        "class_augmented_1_size=len(augmented_subjects_1)"
      ]
    },
    {
      "cell_type": "code",
      "execution_count": 15,
      "metadata": {
        "id": "fr2pE6NyDKgT",
        "colab": {
          "base_uri": "https://localhost:8080/"
        },
        "outputId": "bdb213cc-30a3-40f1-cff7-d4252f0c3080"
      },
      "outputs": [
        {
          "output_type": "stream",
          "name": "stdout",
          "text": [
            "203\n"
          ]
        }
      ],
      "source": [
        "min_class = min(len(class_0_indices), len(augmented_subjects_1))\n",
        "print (min_class)\n",
        "#min_class_indices = class_0_indices if len(class_0_indices) == min_class else class_1_indices\n",
        "\n",
        "random_seed = 11\n",
        "torch.manual_seed(random_seed)\n",
        "subjs_0, _ = random_split(subjects_0, [min_class, class_0_size - min_class])\n",
        "subjs_1, _ = random_split(augmented_subjects_1, [min_class, class_augmented_1_size - min_class])\n",
        "\n",
        "#subjs_bilanciato = tio.SubjectsDataset(subjs_0 + subjs_1)"
      ]
    },
    {
      "cell_type": "code",
      "execution_count": 16,
      "metadata": {
        "id": "q2q2lPXTEGPK"
      },
      "outputs": [],
      "source": [
        "training_Transform = tio.Compose([\n",
        "    tio.Resample(5), #sarebbe piu comodo se immagini quadrate\n",
        "    tio.ToCanonical(),\n",
        "    #tio.RandomFlip(),\n",
        "    #tio.RandomNoise(p = 0.2),\n",
        "    #tio.RandomMotion(p = 0.2) #dovrei usarle per augmentation\n",
        "])\n",
        "\n",
        "validation_Transform = tio.Compose([\n",
        "    tio.Resample(5),\n",
        "    tio.ToCanonical()\n",
        "])"
      ]
    },
    {
      "cell_type": "code",
      "execution_count": 17,
      "metadata": {
        "id": "Idal1KKHyCK0",
        "colab": {
          "base_uri": "https://localhost:8080/"
        },
        "outputId": "40fec3fa-5411-4fa2-97a7-0b657a58f10d"
      },
      "outputs": [
        {
          "output_type": "stream",
          "name": "stdout",
          "text": [
            "torch.Size([6, 150, 200, 155])\n"
          ]
        }
      ],
      "source": [
        "for a in subjects_dataset:\n",
        "\n",
        "  inputs=a['Images'][tio.DATA]\n",
        "  print(inputs.shape)\n",
        "  #inputs=a['Images'][tio.DATA].reshape(27900000)\n",
        "  #print(inputs.shape)\n",
        "\n",
        "  #labels=a['OS']\n",
        "  #print(labels)\n",
        "\n",
        "  break"
      ]
    },
    {
      "cell_type": "code",
      "execution_count": 18,
      "metadata": {
        "id": "4KH5xDJLXi4Z"
      },
      "outputs": [],
      "source": [
        "#visualizzare la distribuzione assoluta dei sample e bilanaciare il sample sui 3 dataset prima di crearli"
      ]
    },
    {
      "cell_type": "code",
      "execution_count": 19,
      "metadata": {
        "id": "fTHZFWBMUVno"
      },
      "outputs": [],
      "source": [
        "from torch.utils.data import ConcatDataset"
      ]
    },
    {
      "cell_type": "code",
      "execution_count": 20,
      "metadata": {
        "id": "r0KoYA8mXQoz",
        "colab": {
          "base_uri": "https://localhost:8080/"
        },
        "outputId": "f5f8f5d6-029a-4ee1-87cb-53a004e55552"
      },
      "outputs": [
        {
          "output_type": "execute_result",
          "data": {
            "text/plain": [
              "203"
            ]
          },
          "metadata": {},
          "execution_count": 20
        }
      ],
      "source": [
        "len(subjs_1)"
      ]
    },
    {
      "cell_type": "code",
      "execution_count": 21,
      "metadata": {
        "id": "3utubR0MEGQ0",
        "colab": {
          "base_uri": "https://localhost:8080/"
        },
        "outputId": "e68f27cb-e938-4fdf-c606-10a0c5b9f6ca"
      },
      "outputs": [
        {
          "output_type": "stream",
          "name": "stdout",
          "text": [
            "Training set:  284  pazienti\n",
            "Validation set:  82  pazienti\n",
            "Test set:  40  pazienti\n"
          ]
        }
      ],
      "source": [
        "class_augmented_1_size=len(subjs_1)\n",
        "class_0_size=len(subjs_0)\n",
        "total_size= class_augmented_1_size + class_0_size\n",
        "\n",
        "val_size = int(round(class_augmented_1_size*0.2))\n",
        "train_size = int(round(class_augmented_1_size*0.7))\n",
        "test_size = class_augmented_1_size- val_size- train_size\n",
        "\n",
        "random_seed = 11\n",
        "torch.manual_seed(random_seed)\n",
        "train1_subjs, val1_subjs, test1_subjs = random_split(subjs_1, [train_size, val_size, test_size])\n",
        "\n",
        "train0_subjs, val0_subjs, test0_subjs = random_split(subjs_0, [train_size, val_size, test_size])\n",
        "\n",
        "train_subjs_combined = ConcatDataset([train1_subjs, train0_subjs])\n",
        "val_subjs_combined = ConcatDataset([val1_subjs, val0_subjs])\n",
        "test_subjs_combined = ConcatDataset([test1_subjs, test0_subjs])\n",
        "\n",
        "train_ds = tio.SubjectsDataset(train_subjs_combined, transform = training_Transform)\n",
        "val_ds = tio.SubjectsDataset(val_subjs_combined, transform = validation_Transform)\n",
        "test_ds = tio.SubjectsDataset(test_subjs_combined, transform = validation_Transform)\n",
        "\n",
        "print('Training set: ', len(train_ds), ' pazienti')\n",
        "print('Validation set: ', len(val_ds), ' pazienti')\n",
        "print('Test set: ', len(test_ds), ' pazienti')\n"
      ]
    },
    {
      "cell_type": "code",
      "execution_count": 22,
      "metadata": {
        "id": "aWPDdJjlo8o4",
        "colab": {
          "base_uri": "https://localhost:8080/"
        },
        "outputId": "d26675db-f993-4c8b-cba1-2ec7478eb04a"
      },
      "outputs": [
        {
          "output_type": "execute_result",
          "data": {
            "text/plain": [
              "(6, 30, 40, 31)"
            ]
          },
          "metadata": {},
          "execution_count": 22
        }
      ],
      "source": [
        "train_ds[0].shape\n",
        "val_ds[0].shape"
      ]
    },
    {
      "cell_type": "code",
      "execution_count": 23,
      "metadata": {
        "id": "R99d5vLibqvf"
      },
      "outputs": [],
      "source": [
        "batch_size = 10"
      ]
    },
    {
      "cell_type": "code",
      "execution_count": 24,
      "metadata": {
        "id": "mmKzBZriEghi"
      },
      "outputs": [],
      "source": [
        "#train_dl = DataLoader(train_ds, batch_size, shuffle = True, num_workers = 0) lo cambio per il bilan\n",
        "train_dl = DataLoader(train_ds, batch_size, shuffle=True, num_workers = 0)\n",
        "\n",
        "val_dl = DataLoader(val_ds, batch_size,  shuffle=True, num_workers = 0)\n",
        "test_dl = DataLoader(test_ds, batch_size, num_workers = 0)"
      ]
    },
    {
      "cell_type": "markdown",
      "metadata": {
        "id": "nA38epgKTsz0"
      },
      "source": [
        "BASE MODEL"
      ]
    },
    {
      "cell_type": "code",
      "execution_count": 25,
      "metadata": {
        "id": "u_xr5d8Lga-v"
      },
      "outputs": [],
      "source": [
        "def get_default_device():\n",
        "    \"\"\"Pick GPU if available, else CPU\"\"\"\n",
        "    if torch.cuda.is_available():\n",
        "        return torch.device('cuda')\n",
        "    else:\n",
        "        return torch.device('cpu')"
      ]
    },
    {
      "cell_type": "code",
      "execution_count": 26,
      "metadata": {
        "id": "Isu7OdazghQd",
        "colab": {
          "base_uri": "https://localhost:8080/"
        },
        "outputId": "db325983-3d6e-4c99-e16e-adfef5c58ae5"
      },
      "outputs": [
        {
          "output_type": "execute_result",
          "data": {
            "text/plain": [
              "device(type='cpu')"
            ]
          },
          "metadata": {},
          "execution_count": 26
        }
      ],
      "source": [
        "device = get_default_device()\n",
        "device"
      ]
    },
    {
      "cell_type": "code",
      "execution_count": 27,
      "metadata": {
        "id": "P4IBzHhVg_jS"
      },
      "outputs": [],
      "source": [
        "def to_device(data, device):\n",
        "    \"\"\"Move tensor(s) to chosen device\"\"\"\n",
        "    if isinstance(data, (list,tuple)):\n",
        "        return [to_device(x, device) for x in data]\n",
        "    return data.to(device, non_blocking=True)"
      ]
    },
    {
      "cell_type": "code",
      "execution_count": 28,
      "metadata": {
        "id": "uGFRZzFXhKuZ"
      },
      "outputs": [],
      "source": [
        "class DeviceDataLoader():\n",
        "    \"\"\"Wrap a dataloader to move data to a device\"\"\"\n",
        "    def __init__(self, dl, device): #prendo dataloader e device\n",
        "        self.dl = dl\n",
        "        self.device = device\n",
        "\n",
        "    def __iter__(self): #return un batch di dati\n",
        "        \"\"\"Yield a batch of data after moving it to device\"\"\"\n",
        "        for b in self.dl:\n",
        "            yield to_device(b, self.device) #li sposta al device\n",
        "\n",
        "    def __len__(self):\n",
        "        \"\"\"Number of batches\"\"\"\n",
        "        return len(self.dl)"
      ]
    },
    {
      "cell_type": "code",
      "execution_count": 29,
      "metadata": {
        "id": "BiFGCqgfnw0M"
      },
      "outputs": [],
      "source": [
        "def prepare_batch(batch, device):\n",
        "    inputs = batch['Images'][tio.DATA].to(device)\n",
        "    inputs= inputs.reshape(-1,223200)\n",
        "    labels = batch['OS'].to(device)\n",
        "    return inputs, labels"
      ]
    },
    {
      "cell_type": "code",
      "execution_count": 30,
      "metadata": {
        "id": "6NIv-5VFvW_t",
        "colab": {
          "base_uri": "https://localhost:8080/"
        },
        "outputId": "bcab1fd1-1a44-4ae0-b79c-8f2929459c9d"
      },
      "outputs": [
        {
          "output_type": "stream",
          "name": "stdout",
          "text": [
            "223200\n",
            "2\n"
          ]
        }
      ],
      "source": [
        "input_size=223200\n",
        "hidden_size = 100\n",
        "hidden_size1 = 50\n",
        "hidden_size2= 25\n",
        "hidden_size3 = 10\n",
        "print(input_size)\n",
        "output_size = 2\n",
        "print(output_size)"
      ]
    },
    {
      "cell_type": "code",
      "execution_count": 30,
      "metadata": {
        "id": "BMhJavnMqVv1"
      },
      "outputs": [],
      "source": []
    },
    {
      "cell_type": "code",
      "execution_count": 30,
      "metadata": {
        "id": "m_U7EETwTsz9"
      },
      "outputs": [],
      "source": []
    },
    {
      "cell_type": "markdown",
      "metadata": {
        "id": "1TbgbhHNUqLa"
      },
      "source": []
    },
    {
      "cell_type": "code",
      "execution_count": 31,
      "metadata": {
        "id": "9M-3DJPxVL2o"
      },
      "outputs": [],
      "source": [
        "def accuracy(outputs, labels):\n",
        "    _, preds = torch.max(outputs, dim=1)\n",
        "    print('\\noutputs dei due neuroni: ', outputs)\n",
        "    return torch.tensor(torch.sum(preds == labels).item()/ len(preds))"
      ]
    },
    {
      "cell_type": "code",
      "execution_count": 32,
      "metadata": {
        "id": "aFpkNkYmObGp"
      },
      "outputs": [],
      "source": [
        "class_index= 1"
      ]
    },
    {
      "cell_type": "code",
      "execution_count": 33,
      "metadata": {
        "id": "_c_LrFiOOVh6"
      },
      "outputs": [],
      "source": [
        "def precision(outputs, labels, class_index):\n",
        "    _, preds = torch.max(outputs, dim=1) #stiamo assegnando solo l'output degli indici a preds utilizzando l'underscore _ per ignorare l'output dei valori massimi.\n",
        "    print('\\nprecision preds: ', preds)\n",
        "    print('\\nprecision targets: ', labels)\n",
        "\n",
        "\n",
        "    class_preds = torch.eq(preds, class_index) # confronta previsioni e class index = 1 se sono uguali\n",
        "    class_labels = torch.eq(labels, class_index) #stessa cosa, confronta labels e class index, se sono uguali true(1), diversi false(0)\n",
        "\n",
        "    true_positives = torch.logical_and(class_preds, class_labels).sum().item() # se label e preds sono 1 allora sono veri positivi\n",
        "    total_positives = class_preds.sum().item() #tutte le previsioni che ti vengono uguali a 1\n",
        "\n",
        "    precision = true_positives / total_positives if total_positives != 0 else 0\n",
        "\n",
        "    return torch.tensor(precision)\n"
      ]
    },
    {
      "cell_type": "code",
      "execution_count": 34,
      "metadata": {
        "id": "6Djjee3fUq4K"
      },
      "outputs": [],
      "source": [
        "class FFN(nn.Module):\n",
        "    \"\"\"Feedfoward neural network with 1 hidden layer\"\"\"\n",
        "    def __init__(self, input_size, hidden_size, hidden_size1, hidden_size2, hidden_size3, output_size):\n",
        "        super().__init__()\n",
        "        # hidden layer\n",
        "        self.linear1 = nn.Linear(input_size, hidden_size)\n",
        "        #hidden_layer 1\n",
        "        self.linear2 = nn.Linear(hidden_size, hidden_size1)\n",
        "        #hidden_layer 2\n",
        "        self.linear3 = nn.Linear(hidden_size1, hidden_size2)\n",
        "        #hidden_layer 3\n",
        "        self.linear4 = nn.Linear(hidden_size2, hidden_size3)\n",
        "        # output layer\n",
        "        self.linear5 = nn.Linear(hidden_size3, output_size)\n",
        "\n",
        "\n",
        "\n",
        "\n",
        "    def forward(self, inputs):\n",
        "        # Flatten the image tensors\n",
        "        #flatt= inputs.reshape(-1,3510000)\n",
        "        # Get intermediate outputs using hidden layer\n",
        "        out = self.linear1(inputs)\n",
        "        # Apply activation function\n",
        "        out = F.relu(out)\n",
        "        # Get predictions using output layer\n",
        "        out = self.linear2(out)\n",
        "        out = F.relu(out)\n",
        "        out = self.linear3(out)\n",
        "        out = F.relu(out)\n",
        "        out = self.linear4(out)\n",
        "        out = F.relu(out)\n",
        "        out = self.linear5(out)\n",
        "\n",
        "\n",
        "\n",
        "        return out\n",
        "\n",
        "    def training_step(self, batch):\n",
        "        inputs, labels = prepare_batch(batch, device)\n",
        "        out = self(inputs)                  # Generate predictions\n",
        "        loss = F.cross_entropy(out, labels) # Calculate loss\n",
        "        return loss\n",
        "\n",
        "    def validation_step(self, batch):\n",
        "        inputs, labels = prepare_batch(batch, device)\n",
        "        out = self(inputs)                    # Generate predictions\n",
        "        loss = F.cross_entropy(out, labels)   # Calculate loss\n",
        "        acc = accuracy(out, labels)           # Calculate accuracy\n",
        "        prec = precision(out, labels, class_index)\n",
        "\n",
        "        print('\\nvalidation step loss: ', loss)\n",
        "        print('\\nvalidation step accuracy: ', acc)\n",
        "        print('\\nvalidation step precision: ', prec)\n",
        "\n",
        "        return {'val_loss': loss, 'val_acc': acc, 'val_prec': prec}\n",
        "\n",
        "    def validation_epoch_end(self, outputs):\n",
        "        batch_losses = [x['val_loss'] for x in outputs]\n",
        "        epoch_loss = torch.stack(batch_losses).mean()   # Combine losses\n",
        "        batch_accs = [x['val_acc'] for x in outputs]\n",
        "        epoch_acc = torch.stack(batch_accs).mean()      # Combine accuracies\n",
        "        batch_precs = [x['val_prec'] for x in outputs]\n",
        "        batch_precs = [prec.float() for prec in batch_precs] #AGGIUNTO DOPO PER PROB FLOAT\n",
        "        epoch_prec = torch.stack(batch_precs).mean()\n",
        "\n",
        "        print('\\nvalidation_epoch_end loss: ', epoch_loss)\n",
        "        print('\\nvalidation_epoch_end accuracy: ', epoch_acc)\n",
        "        print('\\nvalidation_epoch_end precision: ', epoch_prec)\n",
        "\n",
        "        return {'val_loss': epoch_loss.item(), 'val_acc': epoch_acc.item(), 'val_prec': epoch_prec.item()}\n",
        "\n",
        "    def epoch_end(self, epoch, result):\n",
        "        print(\"Epoch [{}], val_loss: {:.4f}, val_acc: {:.4f}, val_prec: {:.4f}\".format(epoch, result['val_loss'], result['val_acc'], result['val_prec']))"
      ]
    },
    {
      "cell_type": "code",
      "execution_count": 35,
      "metadata": {
        "id": "NFfYtohFVc-Z"
      },
      "outputs": [],
      "source": [
        "model = FFN(input_size, hidden_size, hidden_size1, hidden_size2, hidden_size3, output_size)"
      ]
    },
    {
      "cell_type": "code",
      "execution_count": 36,
      "metadata": {
        "id": "tWuzaKv_vMte",
        "colab": {
          "base_uri": "https://localhost:8080/"
        },
        "outputId": "bdeb23d5-5871-4e82-803e-ed4d6c34d138"
      },
      "outputs": [
        {
          "output_type": "execute_result",
          "data": {
            "text/plain": [
              "FFN(\n",
              "  (linear1): Linear(in_features=223200, out_features=100, bias=True)\n",
              "  (linear2): Linear(in_features=100, out_features=50, bias=True)\n",
              "  (linear3): Linear(in_features=50, out_features=25, bias=True)\n",
              "  (linear4): Linear(in_features=25, out_features=10, bias=True)\n",
              "  (linear5): Linear(in_features=10, out_features=2, bias=True)\n",
              ")"
            ]
          },
          "metadata": {},
          "execution_count": 36
        }
      ],
      "source": [
        "model = to_device(model, device)\n",
        "model"
      ]
    },
    {
      "cell_type": "code",
      "execution_count": 37,
      "metadata": {
        "id": "hmWieXl9HqFH",
        "colab": {
          "base_uri": "https://localhost:8080/"
        },
        "outputId": "985437c5-4fe1-4cc0-9fbb-13dd714526a2"
      },
      "outputs": [
        {
          "output_type": "stream",
          "name": "stdout",
          "text": [
            "cpu\n",
            "cpu\n"
          ]
        }
      ],
      "source": [
        "train_loader = DeviceDataLoader(train_dl, device)\n",
        "\n",
        "val_loader = DeviceDataLoader(val_dl, device)\n",
        "\n",
        "print (train_loader.device)\n",
        "print (val_loader.device)\n"
      ]
    },
    {
      "cell_type": "code",
      "execution_count": 38,
      "metadata": {
        "id": "gQwkdi6RB19Q"
      },
      "outputs": [],
      "source": [
        "class SaveBestModel:\n",
        "    \"\"\"\n",
        "    Class to save the best model while training. If the current epoch's\n",
        "    validation loss is less than the previous least less, then save the\n",
        "    model state.\n",
        "    \"\"\"\n",
        "    def __init__(\n",
        "        self, best_valid_loss=float('inf')\n",
        "    ):\n",
        "        self.best_valid_loss = best_valid_loss\n",
        "\n",
        "    def __call__(\n",
        "        self, current_valid_loss,\n",
        "        epoch, model, optimizer, scheduler, criterion, path_name\n",
        "    ):\n",
        "        if current_valid_loss < self.best_valid_loss:\n",
        "            self.best_valid_loss = current_valid_loss\n",
        "            print(f\"\\nBest validation loss: {self.best_valid_loss}\")\n",
        "            print(f\"\\nSaving best model for epoch: {epoch+1}\\n\")\n",
        "            torch.save({\n",
        "                'epoch': epoch+1,\n",
        "                'model_state_dict': model.state_dict(),\n",
        "                'optimizer_state_dict': optimizer.state_dict(),\n",
        "                'scheduler_state_dict': scheduler.state_dict(),\n",
        "                'loss': criterion,\n",
        "                }, path_name+'.pth')"
      ]
    },
    {
      "cell_type": "code",
      "execution_count": 39,
      "metadata": {
        "id": "jPJezPHcDX0R"
      },
      "outputs": [],
      "source": [
        "criterion = nn.CrossEntropyLoss()\n",
        "optimizer = torch.optim.Adam(model.parameters(), lr=0.01, weight_decay=0.1) #il weight decay deve stare tra 0.001 e 0.1 di solito\n",
        "save_best_model = SaveBestModel()\n",
        "scheduler = torch.optim.lr_scheduler.OneCycleLR(optimizer, max_lr = 0.01, epochs = 5, steps_per_epoch = len(train_dl))"
      ]
    },
    {
      "cell_type": "markdown",
      "metadata": {
        "id": "mlucKnUtVA8R"
      },
      "source": [
        "TRAIN MODELLO"
      ]
    },
    {
      "cell_type": "code",
      "execution_count": 40,
      "metadata": {
        "id": "xvOipGt0IzUH"
      },
      "outputs": [],
      "source": [
        "@torch.no_grad()\n",
        "def evaluate(model, val_dl):\n",
        "  #model.eval()\n",
        "  outputs = [model.validation_step(batch) for batch in val_dl]\n",
        "  return model.validation_epoch_end(outputs)\n",
        "\n",
        "def get_lr(optimizer):\n",
        "  for param_group in optimizer.param_groups:\n",
        "    return param_group['lr']\n",
        "\n",
        "def fit(epochs, max_lr, model, train_loader, val_loader, weight_decay=0, grad_clip=None, opt_func=torch.optim.SGD, path_name='prova'):\n",
        "  torch.cuda.empty_cache()\n",
        "  history = []\n",
        "\n",
        "  optimizer = opt_func(model.parameters(), max_lr, weight_decay = weight_decay)\n",
        "  sched = torch.optim.lr_scheduler.OneCycleLR(optimizer, max_lr, epochs = epochs, steps_per_epoch = len(train_dl))\n",
        "\n",
        "  for epoch in range(epochs):\n",
        "    print(epoch)\n",
        "    model.train()\n",
        "    train_losses = []\n",
        "    lrs = []\n",
        "\n",
        "    for batch in train_dl:\n",
        "      loss = model.training_step(batch)\n",
        "      train_losses.append(loss)\n",
        "      loss.backward()\n",
        "\n",
        "      if grad_clip:\n",
        "        nn.utils.clip_grad_value_(model.parameters(), grad_clip)\n",
        "\n",
        "      optimizer.step()\n",
        "      optimizer.zero_grad()\n",
        "      lrs.append(get_lr(optimizer))\n",
        "      sched.step()\n",
        "\n",
        "    result = evaluate(model, val_dl)\n",
        "    result['train_loss'] = torch.stack(train_losses).mean().item()\n",
        "    result['lrs'] = lrs\n",
        "    model.epoch_end(epoch, result)\n",
        "    history.append(result)\n",
        "    print('prova val loss: ', result['val_loss'])\n",
        "\n",
        "    save_best_model(result['val_loss'], epoch, model, optimizer, scheduler, criterion, path_name)\n",
        "  return history"
      ]
    },
    {
      "cell_type": "code",
      "execution_count": 41,
      "metadata": {
        "id": "m6Z66fl9JUHM",
        "colab": {
          "base_uri": "https://localhost:8080/"
        },
        "outputId": "0c70f33e-b87b-4758-de5c-cbff1a7a5c09"
      },
      "outputs": [
        {
          "output_type": "stream",
          "name": "stdout",
          "text": [
            "\n",
            "outputs dei due neuroni:  tensor([[-0.1931,  0.1434],\n",
            "        [-0.1875,  0.1413],\n",
            "        [-0.1957,  0.1510],\n",
            "        [-0.1879,  0.1398],\n",
            "        [-0.1819,  0.1387],\n",
            "        [-0.1953,  0.1492],\n",
            "        [-0.1699,  0.1222],\n",
            "        [-0.1816,  0.1391],\n",
            "        [-0.2000,  0.1489],\n",
            "        [-0.1728,  0.1257]])\n",
            "\n",
            "precision preds:  tensor([1, 1, 1, 1, 1, 1, 1, 1, 1, 1])\n",
            "\n",
            "precision targets:  tensor([0, 0, 0, 1, 1, 1, 1, 0, 1, 0])\n",
            "\n",
            "validation step loss:  tensor(0.7063)\n",
            "\n",
            "validation step accuracy:  tensor(0.5000)\n",
            "\n",
            "validation step precision:  tensor(0.5000)\n",
            "\n",
            "outputs dei due neuroni:  tensor([[-0.1920,  0.1454],\n",
            "        [-0.1819,  0.1303],\n",
            "        [-0.2026,  0.1506],\n",
            "        [-0.1903,  0.1443],\n",
            "        [-0.1986,  0.1470],\n",
            "        [-0.1960,  0.1485],\n",
            "        [-0.1685,  0.1307],\n",
            "        [-0.1716,  0.1255],\n",
            "        [-0.1860,  0.1457],\n",
            "        [-0.1931,  0.1398]])\n",
            "\n",
            "precision preds:  tensor([1, 1, 1, 1, 1, 1, 1, 1, 1, 1])\n",
            "\n",
            "precision targets:  tensor([0, 0, 0, 0, 1, 1, 0, 1, 1, 1])\n",
            "\n",
            "validation step loss:  tensor(0.7059)\n",
            "\n",
            "validation step accuracy:  tensor(0.5000)\n",
            "\n",
            "validation step precision:  tensor(0.5000)\n",
            "\n",
            "outputs dei due neuroni:  tensor([[-0.2005,  0.1595],\n",
            "        [-0.1995,  0.1490],\n",
            "        [-0.1849,  0.1404],\n",
            "        [-0.1872,  0.1395],\n",
            "        [-0.1860,  0.1327],\n",
            "        [-0.2027,  0.1557],\n",
            "        [-0.1712,  0.1242],\n",
            "        [-0.1961,  0.1454],\n",
            "        [-0.1738,  0.1279],\n",
            "        [-0.1950,  0.1473]])\n",
            "\n",
            "precision preds:  tensor([1, 1, 1, 1, 1, 1, 1, 1, 1, 1])\n",
            "\n",
            "precision targets:  tensor([1, 0, 1, 1, 0, 0, 1, 0, 1, 0])\n",
            "\n",
            "validation step loss:  tensor(0.7119)\n",
            "\n",
            "validation step accuracy:  tensor(0.5000)\n",
            "\n",
            "validation step precision:  tensor(0.5000)\n",
            "\n",
            "outputs dei due neuroni:  tensor([[-0.1885,  0.1411],\n",
            "        [-0.2002,  0.1494],\n",
            "        [-0.1989,  0.1520],\n",
            "        [-0.1906,  0.1443],\n",
            "        [-0.1657,  0.1204],\n",
            "        [-0.1898,  0.1395],\n",
            "        [-0.1852,  0.1355],\n",
            "        [-0.1875,  0.1395],\n",
            "        [-0.2090,  0.1555],\n",
            "        [-0.1778,  0.1323]])\n",
            "\n",
            "precision preds:  tensor([1, 1, 1, 1, 1, 1, 1, 1, 1, 1])\n",
            "\n",
            "precision targets:  tensor([1, 0, 0, 0, 1, 1, 1, 0, 0, 1])\n",
            "\n",
            "validation step loss:  tensor(0.7143)\n",
            "\n",
            "validation step accuracy:  tensor(0.5000)\n",
            "\n",
            "validation step precision:  tensor(0.5000)\n",
            "\n",
            "outputs dei due neuroni:  tensor([[-0.1846,  0.1375],\n",
            "        [-0.1966,  0.1502],\n",
            "        [-0.2016,  0.1478],\n",
            "        [-0.2034,  0.1519],\n",
            "        [-0.1802,  0.1341],\n",
            "        [-0.1831,  0.1377],\n",
            "        [-0.1871,  0.1445],\n",
            "        [-0.1924,  0.1417],\n",
            "        [-0.1833,  0.1350],\n",
            "        [-0.1892,  0.1438]])\n",
            "\n",
            "precision preds:  tensor([1, 1, 1, 1, 1, 1, 1, 1, 1, 1])\n",
            "\n",
            "precision targets:  tensor([1, 0, 0, 1, 1, 0, 1, 0, 1, 1])\n",
            "\n",
            "validation step loss:  tensor(0.6758)\n",
            "\n",
            "validation step accuracy:  tensor(0.6000)\n",
            "\n",
            "validation step precision:  tensor(0.6000)\n",
            "\n",
            "outputs dei due neuroni:  tensor([[-0.1886,  0.1420],\n",
            "        [-0.2013,  0.1471],\n",
            "        [-0.1868,  0.1359],\n",
            "        [-0.1947,  0.1459],\n",
            "        [-0.1917,  0.1424],\n",
            "        [-0.1847,  0.1414],\n",
            "        [-0.1880,  0.1408],\n",
            "        [-0.2014,  0.1500],\n",
            "        [-0.1926,  0.1459],\n",
            "        [-0.1888,  0.1417]])\n",
            "\n",
            "precision preds:  tensor([1, 1, 1, 1, 1, 1, 1, 1, 1, 1])\n",
            "\n",
            "precision targets:  tensor([0, 1, 0, 1, 1, 0, 1, 0, 0, 0])\n",
            "\n",
            "validation step loss:  tensor(0.7395)\n",
            "\n",
            "validation step accuracy:  tensor(0.4000)\n",
            "\n",
            "validation step precision:  tensor(0.4000)\n",
            "\n",
            "outputs dei due neuroni:  tensor([[-0.2015,  0.1506],\n",
            "        [-0.1871,  0.1386],\n",
            "        [-0.2020,  0.1553],\n",
            "        [-0.2047,  0.1507],\n",
            "        [-0.1931,  0.1398],\n",
            "        [-0.1964,  0.1513],\n",
            "        [-0.1980,  0.1529],\n",
            "        [-0.2177,  0.1637],\n",
            "        [-0.1866,  0.1371],\n",
            "        [-0.1842,  0.1382]])\n",
            "\n",
            "precision preds:  tensor([1, 1, 1, 1, 1, 1, 1, 1, 1, 1])\n",
            "\n",
            "precision targets:  tensor([0, 0, 1, 0, 1, 0, 0, 1, 1, 0])\n",
            "\n",
            "validation step loss:  tensor(0.7409)\n",
            "\n",
            "validation step accuracy:  tensor(0.4000)\n",
            "\n",
            "validation step precision:  tensor(0.4000)\n",
            "\n",
            "outputs dei due neuroni:  tensor([[-0.1994,  0.1466],\n",
            "        [-0.1940,  0.1421],\n",
            "        [-0.1957,  0.1479],\n",
            "        [-0.2031,  0.1535],\n",
            "        [-0.1781,  0.1305],\n",
            "        [-0.1867,  0.1391],\n",
            "        [-0.1909,  0.1423],\n",
            "        [-0.1800,  0.1375],\n",
            "        [-0.1746,  0.1254],\n",
            "        [-0.1917,  0.1432]])\n",
            "\n",
            "precision preds:  tensor([1, 1, 1, 1, 1, 1, 1, 1, 1, 1])\n",
            "\n",
            "precision targets:  tensor([1, 1, 1, 0, 1, 0, 1, 1, 0, 0])\n",
            "\n",
            "validation step loss:  tensor(0.6734)\n",
            "\n",
            "validation step accuracy:  tensor(0.6000)\n",
            "\n",
            "validation step precision:  tensor(0.6000)\n",
            "\n",
            "outputs dei due neuroni:  tensor([[-0.1828,  0.1342],\n",
            "        [-0.1806,  0.1338]])\n",
            "\n",
            "precision preds:  tensor([1, 1])\n",
            "\n",
            "precision targets:  tensor([1, 0])\n",
            "\n",
            "validation step loss:  tensor(0.7049)\n",
            "\n",
            "validation step accuracy:  tensor(0.5000)\n",
            "\n",
            "validation step precision:  tensor(0.5000)\n",
            "\n",
            "validation_epoch_end loss:  tensor(0.7081)\n",
            "\n",
            "validation_epoch_end accuracy:  tensor(0.5000)\n",
            "\n",
            "validation_epoch_end precision:  tensor(0.5000)\n"
          ]
        },
        {
          "output_type": "execute_result",
          "data": {
            "text/plain": [
              "[{'val_loss': 0.7081049680709839, 'val_acc': 0.5, 'val_prec': 0.5}]"
            ]
          },
          "metadata": {},
          "execution_count": 41
        }
      ],
      "source": [
        "#vediamo le performance prima del training\n",
        "history = [evaluate(model, val_dl)]\n",
        "history"
      ]
    },
    {
      "cell_type": "code",
      "execution_count": 42,
      "metadata": {
        "id": "5MXJwPC8BPMQ",
        "colab": {
          "base_uri": "https://localhost:8080/"
        },
        "outputId": "87ee2fee-6f98-4fbd-b1da-9817b52b4176"
      },
      "outputs": [
        {
          "output_type": "stream",
          "name": "stdout",
          "text": [
            "223200\n"
          ]
        }
      ],
      "source": [
        "print(input_size)"
      ]
    },
    {
      "cell_type": "code",
      "execution_count": 42,
      "metadata": {
        "id": "4Iv3aD2YFOf3"
      },
      "outputs": [],
      "source": []
    },
    {
      "cell_type": "code",
      "execution_count": 43,
      "metadata": {
        "id": "hs70TUGKE_45",
        "colab": {
          "base_uri": "https://localhost:8080/"
        },
        "outputId": "3c74a884-551c-4c23-88e3-afb65ceba242"
      },
      "outputs": [
        {
          "output_type": "stream",
          "name": "stdout",
          "text": [
            "1\n"
          ]
        }
      ],
      "source": [
        " print(labels.size)"
      ]
    },
    {
      "cell_type": "code",
      "execution_count": 44,
      "metadata": {
        "id": "DhNq_xSuJcT6",
        "colab": {
          "base_uri": "https://localhost:8080/"
        },
        "outputId": "f2a7075b-f8cb-4294-fdcd-4e92b8a273de"
      },
      "outputs": [
        {
          "output_type": "stream",
          "name": "stdout",
          "text": [
            "0\n",
            "\n",
            "outputs dei due neuroni:  tensor([[8.3227, 6.1107],\n",
            "        [6.5594, 4.6801],\n",
            "        [7.7616, 5.5762],\n",
            "        [6.8318, 5.0076],\n",
            "        [6.9850, 5.0963],\n",
            "        [6.8539, 5.1431],\n",
            "        [6.2891, 4.4654],\n",
            "        [6.4681, 4.6756],\n",
            "        [6.7335, 4.8365],\n",
            "        [7.1980, 5.1520]])\n",
            "\n",
            "precision preds:  tensor([0, 0, 0, 0, 0, 0, 0, 0, 0, 0])\n",
            "\n",
            "precision targets:  tensor([1, 1, 0, 1, 0, 1, 1, 1, 1, 0])\n",
            "\n",
            "validation step loss:  tensor(1.4514)\n",
            "\n",
            "validation step accuracy:  tensor(0.3000)\n",
            "\n",
            "validation step precision:  tensor(0)\n",
            "\n",
            "outputs dei due neuroni:  tensor([[6.3083, 4.4321],\n",
            "        [6.7686, 5.0684],\n",
            "        [7.1585, 5.2013],\n",
            "        [7.0787, 5.1584],\n",
            "        [7.6339, 5.3140],\n",
            "        [7.6311, 5.5479],\n",
            "        [7.6133, 5.4815],\n",
            "        [7.5387, 5.5690],\n",
            "        [7.2138, 5.1684],\n",
            "        [6.0976, 4.3619]])\n",
            "\n",
            "precision preds:  tensor([0, 0, 0, 0, 0, 0, 0, 0, 0, 0])\n",
            "\n",
            "precision targets:  tensor([0, 1, 1, 1, 0, 1, 1, 1, 0, 0])\n",
            "\n",
            "validation step loss:  tensor(1.3079)\n",
            "\n",
            "validation step accuracy:  tensor(0.4000)\n",
            "\n",
            "validation step precision:  tensor(0)\n",
            "\n",
            "outputs dei due neuroni:  tensor([[6.0199, 4.5324],\n",
            "        [7.6991, 5.4894],\n",
            "        [7.4653, 5.3553],\n",
            "        [6.1718, 4.6035],\n",
            "        [6.6560, 4.7887],\n",
            "        [6.1634, 4.4379],\n",
            "        [7.5241, 5.6363],\n",
            "        [6.0901, 4.6460],\n",
            "        [7.0892, 5.3436],\n",
            "        [7.2515, 5.1581]])\n",
            "\n",
            "precision preds:  tensor([0, 0, 0, 0, 0, 0, 0, 0, 0, 0])\n",
            "\n",
            "precision targets:  tensor([1, 0, 1, 0, 1, 0, 0, 1, 1, 0])\n",
            "\n",
            "validation step loss:  tensor(1.0204)\n",
            "\n",
            "validation step accuracy:  tensor(0.5000)\n",
            "\n",
            "validation step precision:  tensor(0)\n",
            "\n",
            "outputs dei due neuroni:  tensor([[6.2420, 4.5755],\n",
            "        [5.5866, 4.1022],\n",
            "        [7.0486, 5.1670],\n",
            "        [5.9960, 4.5169],\n",
            "        [6.2196, 4.4457],\n",
            "        [7.1231, 5.0595],\n",
            "        [5.8054, 4.2721],\n",
            "        [6.8403, 5.0819],\n",
            "        [6.4925, 4.6029],\n",
            "        [7.5096, 5.3363]])\n",
            "\n",
            "precision preds:  tensor([0, 0, 0, 0, 0, 0, 0, 0, 0, 0])\n",
            "\n",
            "precision targets:  tensor([0, 1, 1, 1, 0, 0, 0, 0, 1, 1])\n",
            "\n",
            "validation step loss:  tensor(1.0512)\n",
            "\n",
            "validation step accuracy:  tensor(0.5000)\n",
            "\n",
            "validation step precision:  tensor(0)\n",
            "\n",
            "outputs dei due neuroni:  tensor([[7.8012, 5.7673],\n",
            "        [6.6843, 4.8623],\n",
            "        [7.0329, 5.1443],\n",
            "        [6.0472, 4.4535],\n",
            "        [7.8196, 5.5922],\n",
            "        [6.6692, 4.8243],\n",
            "        [6.0231, 4.3334],\n",
            "        [7.2517, 5.1803],\n",
            "        [6.2532, 4.6071],\n",
            "        [6.8037, 4.8650]])\n",
            "\n",
            "precision preds:  tensor([0, 0, 0, 0, 0, 0, 0, 0, 0, 0])\n",
            "\n",
            "precision targets:  tensor([0, 1, 1, 1, 1, 0, 1, 0, 1, 1])\n",
            "\n",
            "validation step loss:  tensor(1.4253)\n",
            "\n",
            "validation step accuracy:  tensor(0.3000)\n",
            "\n",
            "validation step precision:  tensor(0)\n",
            "\n",
            "outputs dei due neuroni:  tensor([[7.8993, 5.8946],\n",
            "        [7.0172, 4.9589],\n",
            "        [6.4372, 4.5485],\n",
            "        [6.4925, 4.6029],\n",
            "        [7.2167, 5.4067],\n",
            "        [7.0046, 5.0973],\n",
            "        [6.4866, 4.7501],\n",
            "        [7.5231, 5.4015],\n",
            "        [6.8044, 4.8575],\n",
            "        [6.5383, 4.6818]])\n",
            "\n",
            "precision preds:  tensor([0, 0, 0, 0, 0, 0, 0, 0, 0, 0])\n",
            "\n",
            "precision targets:  tensor([1, 0, 0, 1, 1, 0, 1, 1, 0, 0])\n",
            "\n",
            "validation step loss:  tensor(1.0934)\n",
            "\n",
            "validation step accuracy:  tensor(0.5000)\n",
            "\n",
            "validation step precision:  tensor(0)\n",
            "\n",
            "outputs dei due neuroni:  tensor([[7.2007, 5.1233],\n",
            "        [6.9474, 5.0625],\n",
            "        [6.3854, 4.4933],\n",
            "        [5.9566, 4.2623],\n",
            "        [5.4950, 4.2418],\n",
            "        [6.9518, 4.8950],\n",
            "        [6.2796, 4.5460],\n",
            "        [7.5944, 5.2993],\n",
            "        [7.4244, 5.5171],\n",
            "        [6.1524, 4.6411]])\n",
            "\n",
            "precision preds:  tensor([0, 0, 0, 0, 0, 0, 0, 0, 0, 0])\n",
            "\n",
            "precision targets:  tensor([1, 1, 0, 0, 1, 0, 0, 0, 1, 0])\n",
            "\n",
            "validation step loss:  tensor(0.8659)\n",
            "\n",
            "validation step accuracy:  tensor(0.6000)\n",
            "\n",
            "validation step precision:  tensor(0)\n",
            "\n",
            "outputs dei due neuroni:  tensor([[7.5893, 5.7769],\n",
            "        [7.7465, 5.6165],\n",
            "        [6.7700, 4.9841],\n",
            "        [6.9527, 4.9071],\n",
            "        [7.0015, 5.1023],\n",
            "        [6.3875, 4.7058],\n",
            "        [6.6293, 4.6690],\n",
            "        [6.6107, 4.7154],\n",
            "        [6.3541, 4.5758],\n",
            "        [6.5281, 4.6029]])\n",
            "\n",
            "precision preds:  tensor([0, 0, 0, 0, 0, 0, 0, 0, 0, 0])\n",
            "\n",
            "precision targets:  tensor([1, 0, 0, 0, 0, 0, 0, 0, 0, 0])\n",
            "\n",
            "validation step loss:  tensor(0.3227)\n",
            "\n",
            "validation step accuracy:  tensor(0.9000)\n",
            "\n",
            "validation step precision:  tensor(0)\n",
            "\n",
            "outputs dei due neuroni:  tensor([[6.3476, 4.6940],\n",
            "        [7.0327, 5.3461]])\n",
            "\n",
            "precision preds:  tensor([0, 0])\n",
            "\n",
            "precision targets:  tensor([0, 1])\n",
            "\n",
            "validation step loss:  tensor(1.0158)\n",
            "\n",
            "validation step accuracy:  tensor(0.5000)\n",
            "\n",
            "validation step precision:  tensor(0)\n",
            "\n",
            "validation_epoch_end loss:  tensor(1.0615)\n",
            "\n",
            "validation_epoch_end accuracy:  tensor(0.5000)\n",
            "\n",
            "validation_epoch_end precision:  tensor(0.)\n",
            "Epoch [0], val_loss: 1.0615, val_acc: 0.5000, val_prec: 0.0000\n",
            "prova val loss:  1.0615410804748535\n",
            "\n",
            "Best validation loss: 1.0615410804748535\n",
            "\n",
            "Saving best model for epoch: 1\n",
            "\n",
            "1\n",
            "\n",
            "outputs dei due neuroni:  tensor([[-14.4813, -14.6254],\n",
            "        [-13.4611, -13.8440],\n",
            "        [-13.8614, -14.2722],\n",
            "        [-14.4766, -14.6672],\n",
            "        [-16.9221, -17.1757],\n",
            "        [-13.5720, -13.9909],\n",
            "        [-13.8372, -14.1801],\n",
            "        [-13.5491, -13.7407],\n",
            "        [-13.0620, -13.2091],\n",
            "        [-13.1288, -13.4962]])\n",
            "\n",
            "precision preds:  tensor([0, 0, 0, 0, 0, 0, 0, 0, 0, 0])\n",
            "\n",
            "precision targets:  tensor([1, 0, 0, 1, 1, 0, 1, 1, 1, 0])\n",
            "\n",
            "validation step loss:  tensor(0.6891)\n",
            "\n",
            "validation step accuracy:  tensor(0.4000)\n",
            "\n",
            "validation step precision:  tensor(0)\n",
            "\n",
            "outputs dei due neuroni:  tensor([[-15.8666, -16.1260],\n",
            "        [-13.3327, -13.5628],\n",
            "        [-14.9539, -15.3018],\n",
            "        [-12.5571, -12.8202],\n",
            "        [-11.8509, -12.2508],\n",
            "        [-13.6598, -14.0850],\n",
            "        [-12.4448, -12.8208],\n",
            "        [-12.2698, -12.4600],\n",
            "        [-12.3522, -12.6199],\n",
            "        [-14.4425, -14.8737]])\n",
            "\n",
            "precision preds:  tensor([0, 0, 0, 0, 0, 0, 0, 0, 0, 0])\n",
            "\n",
            "precision targets:  tensor([1, 1, 1, 1, 1, 1, 1, 0, 0, 0])\n",
            "\n",
            "validation step loss:  tensor(0.7773)\n",
            "\n",
            "validation step accuracy:  tensor(0.3000)\n",
            "\n",
            "validation step precision:  tensor(0)\n",
            "\n",
            "outputs dei due neuroni:  tensor([[-13.5125, -13.9177],\n",
            "        [-15.0004, -15.3838],\n",
            "        [-15.3737, -15.8471],\n",
            "        [-13.5419, -13.7830],\n",
            "        [-15.7958, -16.0574],\n",
            "        [-15.0944, -15.3932],\n",
            "        [-13.3422, -13.6856],\n",
            "        [-14.7603, -15.1980],\n",
            "        [-14.8305, -15.2168],\n",
            "        [-16.3036, -16.8802]])\n",
            "\n",
            "precision preds:  tensor([0, 0, 0, 0, 0, 0, 0, 0, 0, 0])\n",
            "\n",
            "precision targets:  tensor([1, 1, 0, 0, 1, 0, 1, 0, 0, 0])\n",
            "\n",
            "validation step loss:  tensor(0.6613)\n",
            "\n",
            "validation step accuracy:  tensor(0.6000)\n",
            "\n",
            "validation step precision:  tensor(0)\n",
            "\n",
            "outputs dei due neuroni:  tensor([[-16.1450, -16.6943],\n",
            "        [-15.8399, -16.3535],\n",
            "        [-13.8502, -14.1018],\n",
            "        [-14.0250, -14.4191],\n",
            "        [-12.1907, -12.3813],\n",
            "        [-15.0559, -15.3776],\n",
            "        [-14.3115, -14.5191],\n",
            "        [-12.9923, -13.1747],\n",
            "        [-14.8047, -15.1546],\n",
            "        [-15.2874, -15.7665]])\n",
            "\n",
            "precision preds:  tensor([0, 0, 0, 0, 0, 0, 0, 0, 0, 0])\n",
            "\n",
            "precision targets:  tensor([0, 0, 0, 1, 0, 0, 1, 0, 1, 1])\n",
            "\n",
            "validation step loss:  tensor(0.6810)\n",
            "\n",
            "validation step accuracy:  tensor(0.6000)\n",
            "\n",
            "validation step precision:  tensor(0)\n",
            "\n",
            "outputs dei due neuroni:  tensor([[-14.9488, -15.5384],\n",
            "        [-15.3847, -15.8719],\n",
            "        [-15.9574, -16.3491],\n",
            "        [-13.4385, -13.6477],\n",
            "        [-13.2529, -13.6821],\n",
            "        [-16.2217, -16.7054],\n",
            "        [-17.0559, -17.4781],\n",
            "        [-15.1105, -15.4376],\n",
            "        [-12.5625, -12.9966],\n",
            "        [-16.9172, -17.3058]])\n",
            "\n",
            "precision preds:  tensor([0, 0, 0, 0, 0, 0, 0, 0, 0, 0])\n",
            "\n",
            "precision targets:  tensor([0, 1, 1, 1, 1, 0, 0, 1, 0, 1])\n",
            "\n",
            "validation step loss:  tensor(0.7309)\n",
            "\n",
            "validation step accuracy:  tensor(0.4000)\n",
            "\n",
            "validation step precision:  tensor(0)\n",
            "\n",
            "outputs dei due neuroni:  tensor([[-13.0341, -13.2926],\n",
            "        [-14.3554, -14.7070],\n",
            "        [-12.8159, -13.0300],\n",
            "        [-12.0201, -12.1396],\n",
            "        [-13.9949, -14.2809],\n",
            "        [-15.0286, -15.3804],\n",
            "        [-12.8755, -13.2125],\n",
            "        [-12.2453, -12.5777],\n",
            "        [-13.8856, -14.1840],\n",
            "        [-11.7887, -11.9387]])\n",
            "\n",
            "precision preds:  tensor([0, 0, 0, 0, 0, 0, 0, 0, 0, 0])\n",
            "\n",
            "precision targets:  tensor([0, 0, 0, 0, 0, 0, 0, 1, 0, 1])\n",
            "\n",
            "validation step loss:  tensor(0.6163)\n",
            "\n",
            "validation step accuracy:  tensor(0.8000)\n",
            "\n",
            "validation step precision:  tensor(0)\n",
            "\n",
            "outputs dei due neuroni:  tensor([[-15.1143, -15.3532],\n",
            "        [-13.1194, -13.5395],\n",
            "        [-12.1082, -12.3292],\n",
            "        [-13.3544, -13.7798],\n",
            "        [-17.7643, -18.3045],\n",
            "        [-13.0881, -13.4949],\n",
            "        [-13.3556, -13.6957],\n",
            "        [-15.9006, -16.2100],\n",
            "        [-12.6756, -12.9316],\n",
            "        [-11.9965, -12.1443]])\n",
            "\n",
            "precision preds:  tensor([0, 0, 0, 0, 0, 0, 0, 0, 0, 0])\n",
            "\n",
            "precision targets:  tensor([1, 1, 1, 0, 1, 0, 0, 1, 1, 1])\n",
            "\n",
            "validation step loss:  tensor(0.7563)\n",
            "\n",
            "validation step accuracy:  tensor(0.3000)\n",
            "\n",
            "validation step precision:  tensor(0)\n",
            "\n",
            "outputs dei due neuroni:  tensor([[-15.5923, -15.8146],\n",
            "        [-12.5580, -12.9280],\n",
            "        [-11.9376, -12.1834],\n",
            "        [-12.7585, -12.9445],\n",
            "        [-13.6323, -14.0649],\n",
            "        [-12.5974, -12.7184],\n",
            "        [-14.6778, -14.9376],\n",
            "        [-12.6776, -12.9880],\n",
            "        [-14.1424, -14.4517],\n",
            "        [-12.5957, -12.7004]])\n",
            "\n",
            "precision preds:  tensor([0, 0, 0, 0, 0, 0, 0, 0, 0, 0])\n",
            "\n",
            "precision targets:  tensor([1, 0, 0, 1, 0, 1, 1, 0, 0, 0])\n",
            "\n",
            "validation step loss:  tensor(0.6533)\n",
            "\n",
            "validation step accuracy:  tensor(0.6000)\n",
            "\n",
            "validation step precision:  tensor(0)\n",
            "\n",
            "outputs dei due neuroni:  tensor([[-13.5125, -13.9177],\n",
            "        [-12.5998, -12.8381]])\n",
            "\n",
            "precision preds:  tensor([0, 0])\n",
            "\n",
            "precision targets:  tensor([1, 0])\n",
            "\n",
            "validation step loss:  tensor(0.7486)\n",
            "\n",
            "validation step accuracy:  tensor(0.5000)\n",
            "\n",
            "validation step precision:  tensor(0)\n",
            "\n",
            "validation_epoch_end loss:  tensor(0.7016)\n",
            "\n",
            "validation_epoch_end accuracy:  tensor(0.5000)\n",
            "\n",
            "validation_epoch_end precision:  tensor(0.)\n",
            "Epoch [1], val_loss: 0.7016, val_acc: 0.5000, val_prec: 0.0000\n",
            "prova val loss:  0.7015673518180847\n",
            "\n",
            "Best validation loss: 0.7015673518180847\n",
            "\n",
            "Saving best model for epoch: 2\n",
            "\n",
            "2\n",
            "\n",
            "outputs dei due neuroni:  tensor([[-10.0133,  -8.9272],\n",
            "        [-11.1435,  -9.8651],\n",
            "        [-12.7860, -11.4365],\n",
            "        [-14.7234, -13.1369],\n",
            "        [-13.0037, -11.6836],\n",
            "        [-10.9394,  -9.8276],\n",
            "        [-12.1107, -10.8404],\n",
            "        [-11.0498, -10.1341],\n",
            "        [-10.4760,  -9.3058],\n",
            "        [-11.4006, -10.3862]])\n",
            "\n",
            "precision preds:  tensor([1, 1, 1, 1, 1, 1, 1, 1, 1, 1])\n",
            "\n",
            "precision targets:  tensor([1, 1, 1, 1, 1, 0, 1, 1, 1, 1])\n",
            "\n",
            "validation step loss:  tensor(0.3750)\n",
            "\n",
            "validation step accuracy:  tensor(0.9000)\n",
            "\n",
            "validation step precision:  tensor(0.9000)\n",
            "\n",
            "outputs dei due neuroni:  tensor([[-10.0700,  -9.1617],\n",
            "        [-10.6779,  -9.4593],\n",
            "        [-12.9298, -11.8589],\n",
            "        [-11.5596, -10.4158],\n",
            "        [-12.1475, -11.3073],\n",
            "        [-11.8106, -10.7345],\n",
            "        [-13.0606, -11.7746],\n",
            "        [-10.3360,  -9.4598],\n",
            "        [-11.2941, -10.1124],\n",
            "        [-10.5770,  -9.7515]])\n",
            "\n",
            "precision preds:  tensor([1, 1, 1, 1, 1, 1, 1, 1, 1, 1])\n",
            "\n",
            "precision targets:  tensor([0, 1, 0, 0, 0, 0, 1, 0, 0, 0])\n",
            "\n",
            "validation step loss:  tensor(1.0967)\n",
            "\n",
            "validation step accuracy:  tensor(0.2000)\n",
            "\n",
            "validation step precision:  tensor(0.2000)\n",
            "\n",
            "outputs dei due neuroni:  tensor([[-11.3577, -10.2865],\n",
            "        [-10.8105,  -9.9258],\n",
            "        [-12.3784, -11.2120],\n",
            "        [-10.8199,  -9.7811],\n",
            "        [-13.6234, -12.4158],\n",
            "        [-11.7921, -10.5757],\n",
            "        [-11.0725, -10.1371],\n",
            "        [-13.5057, -12.2181],\n",
            "        [-13.4741, -11.9755],\n",
            "        [-11.4676, -10.3494]])\n",
            "\n",
            "precision preds:  tensor([1, 1, 1, 1, 1, 1, 1, 1, 1, 1])\n",
            "\n",
            "precision targets:  tensor([0, 0, 1, 1, 0, 1, 1, 1, 1, 1])\n",
            "\n",
            "validation step loss:  tensor(0.5958)\n",
            "\n",
            "validation step accuracy:  tensor(0.7000)\n",
            "\n",
            "validation step precision:  tensor(0.7000)\n",
            "\n",
            "outputs dei due neuroni:  tensor([[-10.7270,  -9.6662],\n",
            "        [-12.5756, -11.3690],\n",
            "        [-10.0773,  -9.0885],\n",
            "        [-13.5125, -12.0600],\n",
            "        [-10.7326,  -9.8690],\n",
            "        [-12.7004, -11.5133],\n",
            "        [-11.0498, -10.1341],\n",
            "        [-13.8258, -12.4618],\n",
            "        [-12.6009, -11.2692],\n",
            "        [-11.2422, -10.2767]])\n",
            "\n",
            "precision preds:  tensor([1, 1, 1, 1, 1, 1, 1, 1, 1, 1])\n",
            "\n",
            "precision targets:  tensor([0, 0, 0, 1, 1, 1, 1, 0, 1, 0])\n",
            "\n",
            "validation step loss:  tensor(0.8411)\n",
            "\n",
            "validation step accuracy:  tensor(0.5000)\n",
            "\n",
            "validation step precision:  tensor(0.5000)\n",
            "\n",
            "outputs dei due neuroni:  tensor([[-10.0846,  -9.3627],\n",
            "        [-11.0713, -10.0593],\n",
            "        [-11.6435, -10.5809],\n",
            "        [-10.3112,  -9.3644],\n",
            "        [-13.7312, -12.1286],\n",
            "        [-13.6257, -12.4944],\n",
            "        [-11.9185, -10.9574],\n",
            "        [-10.3962,  -9.4110],\n",
            "        [ -9.6256,  -8.8643],\n",
            "        [-12.1443, -10.8113]])\n",
            "\n",
            "precision preds:  tensor([1, 1, 1, 1, 1, 1, 1, 1, 1, 1])\n",
            "\n",
            "precision targets:  tensor([0, 0, 0, 1, 1, 0, 0, 1, 1, 0])\n",
            "\n",
            "validation step loss:  tensor(0.9274)\n",
            "\n",
            "validation step accuracy:  tensor(0.4000)\n",
            "\n",
            "validation step precision:  tensor(0.4000)\n",
            "\n",
            "outputs dei due neuroni:  tensor([[-11.4213, -10.2115],\n",
            "        [-10.4228,  -9.2785],\n",
            "        [-10.1954,  -9.3917],\n",
            "        [-14.6098, -13.1159],\n",
            "        [-12.4232, -11.2141],\n",
            "        [-10.4662,  -9.4501],\n",
            "        [-12.1993, -11.1983],\n",
            "        [ -9.6805,  -8.8158],\n",
            "        [-11.5645, -10.5214],\n",
            "        [-12.4402, -11.1938]])\n",
            "\n",
            "precision preds:  tensor([1, 1, 1, 1, 1, 1, 1, 1, 1, 1])\n",
            "\n",
            "precision targets:  tensor([1, 0, 0, 0, 0, 0, 0, 0, 1, 1])\n",
            "\n",
            "validation step loss:  tensor(1.0432)\n",
            "\n",
            "validation step accuracy:  tensor(0.3000)\n",
            "\n",
            "validation step precision:  tensor(0.3000)\n",
            "\n",
            "outputs dei due neuroni:  tensor([[-11.0224,  -9.8253],\n",
            "        [-15.0169, -13.1680],\n",
            "        [-12.4140, -11.2205],\n",
            "        [-12.7946, -11.2717],\n",
            "        [-11.5252, -10.3326],\n",
            "        [-15.1401, -13.6636],\n",
            "        [-10.4457,  -9.4384],\n",
            "        [-12.5705, -11.3591],\n",
            "        [-11.0474,  -9.8141],\n",
            "        [ -9.9309,  -9.0112]])\n",
            "\n",
            "precision preds:  tensor([1, 1, 1, 1, 1, 1, 1, 1, 1, 1])\n",
            "\n",
            "precision targets:  tensor([0, 1, 0, 1, 0, 1, 0, 0, 1, 0])\n",
            "\n",
            "validation step loss:  tensor(0.9228)\n",
            "\n",
            "validation step accuracy:  tensor(0.4000)\n",
            "\n",
            "validation step precision:  tensor(0.4000)\n",
            "\n",
            "outputs dei due neuroni:  tensor([[-10.5274,  -9.4140],\n",
            "        [ -9.9847,  -8.8924],\n",
            "        [-13.0159, -11.8116],\n",
            "        [-12.6378, -11.4212],\n",
            "        [-11.3461, -10.1855],\n",
            "        [-11.7406, -10.6564],\n",
            "        [ -9.7812,  -8.8269],\n",
            "        [-10.5300,  -9.5159],\n",
            "        [-13.1639, -11.9501],\n",
            "        [-11.2319, -10.2705]])\n",
            "\n",
            "precision preds:  tensor([1, 1, 1, 1, 1, 1, 1, 1, 1, 1])\n",
            "\n",
            "precision targets:  tensor([1, 1, 0, 1, 1, 1, 0, 1, 1, 0])\n",
            "\n",
            "validation step loss:  tensor(0.5998)\n",
            "\n",
            "validation step accuracy:  tensor(0.7000)\n",
            "\n",
            "validation step precision:  tensor(0.7000)\n",
            "\n",
            "outputs dei due neuroni:  tensor([[-11.4647, -10.4261],\n",
            "        [-11.0757, -10.1212]])\n",
            "\n",
            "precision preds:  tensor([1, 1])\n",
            "\n",
            "precision targets:  tensor([0, 0])\n",
            "\n",
            "validation step loss:  tensor(1.3109)\n",
            "\n",
            "validation step accuracy:  tensor(0.)\n",
            "\n",
            "validation step precision:  tensor(0.)\n",
            "\n",
            "validation_epoch_end loss:  tensor(0.8570)\n",
            "\n",
            "validation_epoch_end accuracy:  tensor(0.4556)\n",
            "\n",
            "validation_epoch_end precision:  tensor(0.4556)\n",
            "Epoch [2], val_loss: 0.8570, val_acc: 0.4556, val_prec: 0.4556\n",
            "prova val loss:  0.8569616675376892\n",
            "3\n",
            "\n",
            "outputs dei due neuroni:  tensor([[-7.3057, -7.6732],\n",
            "        [-6.5817, -7.3486],\n",
            "        [-6.1772, -6.5344],\n",
            "        [-6.1749, -6.5561],\n",
            "        [-6.9630, -7.7683],\n",
            "        [-7.2933, -7.8565],\n",
            "        [-5.7396, -6.1435],\n",
            "        [-6.6143, -6.8445],\n",
            "        [-6.5479, -7.2389],\n",
            "        [-7.5322, -8.2539]])\n",
            "\n",
            "precision preds:  tensor([0, 0, 0, 0, 0, 0, 0, 0, 0, 0])\n",
            "\n",
            "precision targets:  tensor([0, 0, 1, 0, 0, 0, 0, 0, 0, 0])\n",
            "\n",
            "validation step loss:  tensor(0.5034)\n",
            "\n",
            "validation step accuracy:  tensor(0.9000)\n",
            "\n",
            "validation step precision:  tensor(0)\n",
            "\n",
            "outputs dei due neuroni:  tensor([[-5.8059, -6.0056],\n",
            "        [-7.6652, -7.8469],\n",
            "        [-5.8009, -6.0923],\n",
            "        [-7.0938, -7.3003],\n",
            "        [-7.1417, -7.5825],\n",
            "        [-6.4571, -7.0082],\n",
            "        [-7.5844, -7.5590],\n",
            "        [-8.0264, -8.1689],\n",
            "        [-6.7632, -6.7323],\n",
            "        [-6.0155, -6.3557]])\n",
            "\n",
            "precision preds:  tensor([0, 0, 0, 0, 0, 0, 1, 0, 1, 0])\n",
            "\n",
            "precision targets:  tensor([0, 1, 0, 0, 0, 0, 1, 1, 1, 1])\n",
            "\n",
            "validation step loss:  tensor(0.6495)\n",
            "\n",
            "validation step accuracy:  tensor(0.7000)\n",
            "\n",
            "validation step precision:  tensor(1.)\n",
            "\n",
            "outputs dei due neuroni:  tensor([[-6.3946, -6.8537],\n",
            "        [-7.9405, -8.0877],\n",
            "        [-5.9020, -6.1484],\n",
            "        [-6.0406, -6.3999],\n",
            "        [-5.8196, -6.5989],\n",
            "        [-5.8517, -6.4870],\n",
            "        [-8.0465, -8.1594],\n",
            "        [-6.4306, -6.4654],\n",
            "        [-7.4500, -8.2346],\n",
            "        [-8.3930, -8.8076]])\n",
            "\n",
            "precision preds:  tensor([0, 0, 0, 0, 0, 0, 0, 0, 0, 0])\n",
            "\n",
            "precision targets:  tensor([1, 1, 0, 1, 1, 1, 1, 1, 0, 1])\n",
            "\n",
            "validation step loss:  tensor(0.8161)\n",
            "\n",
            "validation step accuracy:  tensor(0.2000)\n",
            "\n",
            "validation step precision:  tensor(0)\n",
            "\n",
            "outputs dei due neuroni:  tensor([[-5.9126, -6.2998],\n",
            "        [-5.9576, -6.3021],\n",
            "        [-5.1470, -5.8192],\n",
            "        [-6.9749, -7.1545],\n",
            "        [-8.3645, -8.3367],\n",
            "        [-7.5603, -7.7495],\n",
            "        [-6.0450, -6.2328],\n",
            "        [-6.2180, -6.7618],\n",
            "        [-6.4143, -6.8789],\n",
            "        [-6.7482, -6.9625]])\n",
            "\n",
            "precision preds:  tensor([0, 0, 0, 0, 1, 0, 0, 0, 0, 0])\n",
            "\n",
            "precision targets:  tensor([1, 0, 1, 1, 1, 1, 1, 1, 0, 1])\n",
            "\n",
            "validation step loss:  tensor(0.7871)\n",
            "\n",
            "validation step accuracy:  tensor(0.3000)\n",
            "\n",
            "validation step precision:  tensor(1.)\n",
            "\n",
            "outputs dei due neuroni:  tensor([[-6.2990, -6.7094],\n",
            "        [-6.5065, -7.0444],\n",
            "        [-7.2611, -7.8208],\n",
            "        [-5.8556, -6.5178],\n",
            "        [-5.8196, -6.5989],\n",
            "        [-5.9496, -6.3094],\n",
            "        [-5.8586, -6.2253],\n",
            "        [-6.6036, -7.0759],\n",
            "        [-5.7307, -6.2544],\n",
            "        [-6.0297, -6.0902]])\n",
            "\n",
            "precision preds:  tensor([0, 0, 0, 0, 0, 0, 0, 0, 0, 0])\n",
            "\n",
            "precision targets:  tensor([0, 1, 1, 0, 1, 0, 1, 1, 0, 1])\n",
            "\n",
            "validation step loss:  tensor(0.7660)\n",
            "\n",
            "validation step accuracy:  tensor(0.4000)\n",
            "\n",
            "validation step precision:  tensor(0)\n",
            "\n",
            "outputs dei due neuroni:  tensor([[-5.8439, -6.0101],\n",
            "        [-6.2161, -6.7649],\n",
            "        [-5.7128, -6.4198],\n",
            "        [-8.0029, -8.3851],\n",
            "        [-9.2147, -9.0955],\n",
            "        [-5.5123, -5.8838],\n",
            "        [-8.6547, -9.1808],\n",
            "        [-6.3757, -6.3969],\n",
            "        [-5.9395, -6.6374],\n",
            "        [-6.1252, -6.4558]])\n",
            "\n",
            "precision preds:  tensor([0, 0, 0, 0, 1, 0, 0, 0, 0, 0])\n",
            "\n",
            "precision targets:  tensor([1, 0, 0, 1, 1, 0, 1, 0, 0, 0])\n",
            "\n",
            "validation step loss:  tensor(0.6317)\n",
            "\n",
            "validation step accuracy:  tensor(0.7000)\n",
            "\n",
            "validation step precision:  tensor(1.)\n",
            "\n",
            "outputs dei due neuroni:  tensor([[-7.1416, -7.5361],\n",
            "        [-6.3896, -6.9061],\n",
            "        [-6.9552, -7.0184],\n",
            "        [-8.3999, -8.8100],\n",
            "        [-7.2332, -7.5497],\n",
            "        [-8.1276, -7.9511],\n",
            "        [-6.5360, -6.6908],\n",
            "        [-7.1551, -7.5538],\n",
            "        [-6.6683, -7.1643],\n",
            "        [-6.7727, -7.0951]])\n",
            "\n",
            "precision preds:  tensor([0, 0, 0, 0, 0, 1, 0, 0, 0, 0])\n",
            "\n",
            "precision targets:  tensor([0, 1, 1, 0, 1, 1, 0, 0, 0, 0])\n",
            "\n",
            "validation step loss:  tensor(0.6359)\n",
            "\n",
            "validation step accuracy:  tensor(0.7000)\n",
            "\n",
            "validation step precision:  tensor(1.)\n",
            "\n",
            "outputs dei due neuroni:  tensor([[-7.0888, -7.8166],\n",
            "        [-6.6979, -7.0015],\n",
            "        [-7.3561, -7.7720],\n",
            "        [-5.4105, -6.1520],\n",
            "        [-5.4589, -6.1644],\n",
            "        [-7.1878, -7.5447],\n",
            "        [-6.3199, -7.4007],\n",
            "        [-6.2450, -6.8173],\n",
            "        [-7.5603, -8.2369],\n",
            "        [-7.4431, -7.7636]])\n",
            "\n",
            "precision preds:  tensor([0, 0, 0, 0, 0, 0, 0, 0, 0, 0])\n",
            "\n",
            "precision targets:  tensor([1, 0, 1, 0, 0, 1, 0, 0, 0, 1])\n",
            "\n",
            "validation step loss:  tensor(0.6292)\n",
            "\n",
            "validation step accuracy:  tensor(0.6000)\n",
            "\n",
            "validation step precision:  tensor(0)\n",
            "\n",
            "outputs dei due neuroni:  tensor([[-6.5585, -6.9631],\n",
            "        [-6.5861, -6.7061]])\n",
            "\n",
            "precision preds:  tensor([0, 0])\n",
            "\n",
            "precision targets:  tensor([0, 1])\n",
            "\n",
            "validation step loss:  tensor(0.6331)\n",
            "\n",
            "validation step accuracy:  tensor(0.5000)\n",
            "\n",
            "validation step precision:  tensor(0)\n",
            "\n",
            "validation_epoch_end loss:  tensor(0.6725)\n",
            "\n",
            "validation_epoch_end accuracy:  tensor(0.5556)\n",
            "\n",
            "validation_epoch_end precision:  tensor(0.4444)\n",
            "Epoch [3], val_loss: 0.6725, val_acc: 0.5556, val_prec: 0.4444\n",
            "prova val loss:  0.6724509000778198\n",
            "\n",
            "Best validation loss: 0.6724509000778198\n",
            "\n",
            "Saving best model for epoch: 4\n",
            "\n",
            "4\n",
            "\n",
            "outputs dei due neuroni:  tensor([[-5.8395, -5.7229],\n",
            "        [-5.3573, -5.6285],\n",
            "        [-5.7451, -5.5839],\n",
            "        [-6.0835, -6.1503],\n",
            "        [-6.2961, -6.2929],\n",
            "        [-5.7712, -5.7141],\n",
            "        [-6.5418, -6.5180],\n",
            "        [-6.1023, -5.9908],\n",
            "        [-5.7554, -5.9128],\n",
            "        [-8.2831, -7.6703]])\n",
            "\n",
            "precision preds:  tensor([1, 0, 1, 0, 1, 1, 1, 1, 0, 1])\n",
            "\n",
            "precision targets:  tensor([0, 0, 0, 1, 1, 1, 0, 0, 1, 1])\n",
            "\n",
            "validation step loss:  tensor(0.6844)\n",
            "\n",
            "validation step accuracy:  tensor(0.4000)\n",
            "\n",
            "validation step precision:  tensor(0.4286)\n",
            "\n",
            "outputs dei due neuroni:  tensor([[-7.7635, -7.3962],\n",
            "        [-6.3369, -5.9234],\n",
            "        [-5.6224, -5.6877],\n",
            "        [-6.5155, -6.1527],\n",
            "        [-7.3045, -7.0973],\n",
            "        [-6.1524, -6.0878],\n",
            "        [-5.5687, -5.5548],\n",
            "        [-7.9319, -7.4954],\n",
            "        [-7.0444, -6.9053],\n",
            "        [-7.1748, -7.0172]])\n",
            "\n",
            "precision preds:  tensor([1, 1, 0, 1, 1, 1, 1, 1, 1, 1])\n",
            "\n",
            "precision targets:  tensor([1, 1, 0, 1, 1, 0, 0, 1, 0, 0])\n",
            "\n",
            "validation step loss:  tensor(0.6283)\n",
            "\n",
            "validation step accuracy:  tensor(0.6000)\n",
            "\n",
            "validation step precision:  tensor(0.5556)\n",
            "\n",
            "outputs dei due neuroni:  tensor([[-5.0574, -5.2968],\n",
            "        [-5.3430, -5.3160],\n",
            "        [-5.8564, -5.7731],\n",
            "        [-6.3617, -6.3822],\n",
            "        [-5.3472, -5.6116],\n",
            "        [-7.2766, -7.1206],\n",
            "        [-7.0200, -6.9201],\n",
            "        [-7.0405, -6.8869],\n",
            "        [-6.4094, -6.4200],\n",
            "        [-6.4449, -6.5988]])\n",
            "\n",
            "precision preds:  tensor([0, 1, 1, 0, 0, 1, 1, 1, 0, 0])\n",
            "\n",
            "precision targets:  tensor([1, 0, 1, 0, 0, 1, 0, 0, 1, 0])\n",
            "\n",
            "validation step loss:  tensor(0.6885)\n",
            "\n",
            "validation step accuracy:  tensor(0.5000)\n",
            "\n",
            "validation step precision:  tensor(0.4000)\n",
            "\n",
            "outputs dei due neuroni:  tensor([[-6.5019, -6.2459],\n",
            "        [-7.5352, -7.1837],\n",
            "        [-7.9679, -7.5039],\n",
            "        [-7.5645, -7.5701],\n",
            "        [-5.6191, -5.8585],\n",
            "        [-7.8505, -7.6736],\n",
            "        [-8.3735, -8.1094],\n",
            "        [-7.2038, -7.1745],\n",
            "        [-5.7615, -5.9496],\n",
            "        [-6.4513, -6.3461]])\n",
            "\n",
            "precision preds:  tensor([1, 1, 1, 0, 0, 1, 1, 1, 0, 1])\n",
            "\n",
            "precision targets:  tensor([0, 1, 1, 0, 0, 1, 1, 0, 0, 0])\n",
            "\n",
            "validation step loss:  tensor(0.6358)\n",
            "\n",
            "validation step accuracy:  tensor(0.7000)\n",
            "\n",
            "validation step precision:  tensor(0.5714)\n",
            "\n",
            "outputs dei due neuroni:  tensor([[-5.8811, -6.0679],\n",
            "        [-6.3993, -6.2995],\n",
            "        [-6.3220, -6.2889],\n",
            "        [-8.5754, -8.4234],\n",
            "        [-6.0190, -5.9171],\n",
            "        [-6.4953, -6.7015],\n",
            "        [-7.4440, -7.1139],\n",
            "        [-7.4546, -7.5483],\n",
            "        [-5.6612, -5.4671],\n",
            "        [-6.5951, -6.3957]])\n",
            "\n",
            "precision preds:  tensor([0, 1, 1, 1, 1, 0, 1, 0, 1, 1])\n",
            "\n",
            "precision targets:  tensor([0, 1, 0, 1, 1, 0, 1, 0, 0, 0])\n",
            "\n",
            "validation step loss:  tensor(0.6599)\n",
            "\n",
            "validation step accuracy:  tensor(0.7000)\n",
            "\n",
            "validation step precision:  tensor(0.5714)\n",
            "\n",
            "outputs dei due neuroni:  tensor([[-6.1154, -6.1850],\n",
            "        [-6.5897, -6.4551],\n",
            "        [-6.0847, -6.1394],\n",
            "        [-6.7844, -6.3990],\n",
            "        [-9.1542, -8.4044],\n",
            "        [-7.0654, -7.1577],\n",
            "        [-5.9356, -5.8265],\n",
            "        [-6.2787, -6.7651],\n",
            "        [-5.7416, -5.4775],\n",
            "        [-6.8518, -7.0659]])\n",
            "\n",
            "precision preds:  tensor([0, 1, 0, 1, 1, 0, 1, 0, 1, 0])\n",
            "\n",
            "precision targets:  tensor([0, 0, 0, 1, 1, 1, 1, 0, 1, 0])\n",
            "\n",
            "validation step loss:  tensor(0.6015)\n",
            "\n",
            "validation step accuracy:  tensor(0.8000)\n",
            "\n",
            "validation step precision:  tensor(0.8000)\n",
            "\n",
            "outputs dei due neuroni:  tensor([[-7.0325, -6.8756],\n",
            "        [-6.0198, -5.8738],\n",
            "        [-5.6495, -5.5342],\n",
            "        [-5.9085, -5.5568],\n",
            "        [-7.2267, -7.1751],\n",
            "        [-5.8397, -5.7447],\n",
            "        [-5.8064, -6.0491],\n",
            "        [-6.6252, -6.3622],\n",
            "        [-5.8271, -5.7020],\n",
            "        [-6.2309, -5.8329]])\n",
            "\n",
            "precision preds:  tensor([1, 1, 1, 1, 1, 1, 0, 1, 1, 1])\n",
            "\n",
            "precision targets:  tensor([1, 0, 0, 1, 1, 0, 1, 1, 1, 0])\n",
            "\n",
            "validation step loss:  tensor(0.7017)\n",
            "\n",
            "validation step accuracy:  tensor(0.5000)\n",
            "\n",
            "validation step precision:  tensor(0.5556)\n",
            "\n",
            "outputs dei due neuroni:  tensor([[-6.6243, -6.1542],\n",
            "        [-7.3874, -6.9129],\n",
            "        [-5.8064, -6.0491],\n",
            "        [-8.3625, -8.1109],\n",
            "        [-6.8276, -6.5215],\n",
            "        [-7.1749, -6.9213],\n",
            "        [-6.4981, -6.4475],\n",
            "        [-7.3500, -7.5245],\n",
            "        [-7.0267, -6.7019],\n",
            "        [-8.0081, -7.3168]])\n",
            "\n",
            "precision preds:  tensor([1, 1, 0, 1, 1, 1, 1, 0, 1, 1])\n",
            "\n",
            "precision targets:  tensor([1, 1, 1, 0, 1, 1, 1, 0, 0, 1])\n",
            "\n",
            "validation step loss:  tensor(0.6297)\n",
            "\n",
            "validation step accuracy:  tensor(0.7000)\n",
            "\n",
            "validation step precision:  tensor(0.7500)\n",
            "\n",
            "outputs dei due neuroni:  tensor([[-5.9934, -5.7203],\n",
            "        [-6.4227, -6.1125]])\n",
            "\n",
            "precision preds:  tensor([1, 1])\n",
            "\n",
            "precision targets:  tensor([1, 0])\n",
            "\n",
            "validation step loss:  tensor(0.7131)\n",
            "\n",
            "validation step accuracy:  tensor(0.5000)\n",
            "\n",
            "validation step precision:  tensor(0.5000)\n",
            "\n",
            "validation_epoch_end loss:  tensor(0.6603)\n",
            "\n",
            "validation_epoch_end accuracy:  tensor(0.6000)\n",
            "\n",
            "validation_epoch_end precision:  tensor(0.5703)\n",
            "Epoch [4], val_loss: 0.6603, val_acc: 0.6000, val_prec: 0.5703\n",
            "prova val loss:  0.6603139042854309\n",
            "\n",
            "Best validation loss: 0.6603139042854309\n",
            "\n",
            "Saving best model for epoch: 5\n",
            "\n"
          ]
        }
      ],
      "source": [
        "#ora addestro\n",
        "history += fit(5, 0.001, model, train_dl, val_dl,weight_decay=0.01, grad_clip=10, opt_func=torch.optim.Adam, path_name='FFN')"
      ]
    },
    {
      "cell_type": "code",
      "execution_count": 45,
      "metadata": {
        "id": "ijLWA74TyX8q"
      },
      "outputs": [],
      "source": [
        "#history += fit(5, 0.001, model, train_dl, val_dl,weight_decay=0.01, grad_clip=10, opt_func=torch.optim.Adam, path_name='FFN')"
      ]
    },
    {
      "cell_type": "code",
      "source": [
        "#history += fit(5, 0.0001, model, train_dl, val_dl,weight_decay=0.01, grad_clip=10, opt_func=torch.optim.Adam, path_name='FFN')"
      ],
      "metadata": {
        "id": "xAIa2FVRaMSq"
      },
      "execution_count": 46,
      "outputs": []
    },
    {
      "cell_type": "code",
      "execution_count": 47,
      "metadata": {
        "id": "dqc9LzfmqsQg"
      },
      "outputs": [],
      "source": [
        "#history += fit(10, 0.001, model, train_dl, val_dl)"
      ]
    },
    {
      "cell_type": "code",
      "execution_count": 48,
      "metadata": {
        "id": "M8qkh_Cv8YMG"
      },
      "outputs": [],
      "source": [
        "#history += fit(9, 0.001, model, train_dl, val_dl)"
      ]
    },
    {
      "cell_type": "code",
      "execution_count": 49,
      "metadata": {
        "id": "ulpkljRRsi87"
      },
      "outputs": [],
      "source": [
        "#history += fit(10, 0.00001, model, train_dl, val_dl)"
      ]
    },
    {
      "cell_type": "code",
      "execution_count": 50,
      "metadata": {
        "id": "Oc_5yyALcMpC"
      },
      "outputs": [],
      "source": [
        "#model_path= '/content/drive/MyDrive/model.pth'\n",
        "\n",
        "#model = torch.load(model_path)"
      ]
    },
    {
      "cell_type": "code",
      "execution_count": 51,
      "metadata": {
        "id": "NfStcH9ucSt8"
      },
      "outputs": [],
      "source": [
        "#model_path= '/content/drive/MyDrive/model.pth'\n",
        "#torch.save(model.state_dict(), model_path)"
      ]
    },
    {
      "cell_type": "code",
      "execution_count": 52,
      "metadata": {
        "id": "1jeP6febJlPY",
        "colab": {
          "base_uri": "https://localhost:8080/",
          "height": 489
        },
        "outputId": "c591c4d6-428a-4166-d5df-4341f901a5ab"
      },
      "outputs": [
        {
          "output_type": "execute_result",
          "data": {
            "text/plain": [
              "Text(0.5, 1.0, 'Val_loss vs. No. di Epoche')"
            ]
          },
          "metadata": {},
          "execution_count": 52
        },
        {
          "output_type": "display_data",
          "data": {
            "text/plain": [
              "<Figure size 640x480 with 1 Axes>"
            ],
            "image/png": "[encoded data removed]"
          },
          "metadata": {}
        }
      ],
      "source": [
        "losses = [x['val_loss'] for x in history]\n",
        "plt.plot(losses, '-x')\n",
        "plt.xlabel('Epoche')\n",
        "plt.ylabel('Val_loss')\n",
        "plt.title('Val_loss vs. No. di Epoche')"
      ]
    },
    {
      "cell_type": "code",
      "execution_count": 53,
      "metadata": {
        "id": "5VSydbt_OvlC",
        "colab": {
          "base_uri": "https://localhost:8080/",
          "height": 472
        },
        "outputId": "6704984a-6d5d-4b59-b897-fa8b2eac0130"
      },
      "outputs": [
        {
          "output_type": "display_data",
          "data": {
            "text/plain": [
              "<Figure size 640x480 with 1 Axes>"
            ],
            "image/png": "[encoded data removed]"
          },
          "metadata": {}
        }
      ],
      "source": [
        "accuracies = [x['val_acc'] for x in history]\n",
        "plt.plot(accuracies, '-x')\n",
        "plt.xlabel('epoch')\n",
        "plt.ylabel('accuracy')\n",
        "plt.title('Accuracy vs. No. of epochs');"
      ]
    },
    {
      "cell_type": "code",
      "execution_count": 54,
      "metadata": {
        "id": "1NaIAqcrI1b3",
        "colab": {
          "base_uri": "https://localhost:8080/",
          "height": 472
        },
        "outputId": "2523a7c4-41fb-4327-eef4-7339c70be8b0"
      },
      "outputs": [
        {
          "output_type": "display_data",
          "data": {
            "text/plain": [
              "<Figure size 640x480 with 1 Axes>"
            ],
            "image/png": "[encoded data removed]"
          },
          "metadata": {}
        }
      ],
      "source": [
        "precision1 = [x['val_prec'] for x in history]\n",
        "plt.plot(precision1, '-x')\n",
        "plt.xlabel('epoch')\n",
        "plt.ylabel('precision')\n",
        "plt.title('precision vs. No. of epochs');"
      ]
    },
    {
      "cell_type": "markdown",
      "source": [
        "TESTING"
      ],
      "metadata": {
        "id": "2nWpWpDHoN0b"
      }
    },
    {
      "cell_type": "code",
      "source": [
        "test_loader = DeviceDataLoader(test_dl, device)"
      ],
      "metadata": {
        "id": "Ri3iRupYo34A"
      },
      "execution_count": 55,
      "outputs": []
    },
    {
      "cell_type": "code",
      "source": [
        "print (test_loader.device)"
      ],
      "metadata": {
        "id": "QGb95lxMsQlR",
        "colab": {
          "base_uri": "https://localhost:8080/"
        },
        "outputId": "110ab032-f16f-4c57-cec6-3c61742e6ce1"
      },
      "execution_count": 56,
      "outputs": [
        {
          "output_type": "stream",
          "name": "stdout",
          "text": [
            "cpu\n"
          ]
        }
      ]
    },
    {
      "cell_type": "code",
      "source": [],
      "metadata": {
        "id": "dRouifb1Ed9T"
      },
      "execution_count": 56,
      "outputs": []
    },
    {
      "cell_type": "markdown",
      "source": [
        "SALVA IL  MODELLO"
      ],
      "metadata": {
        "id": "ZWuAdUEe4-3T"
      }
    },
    {
      "cell_type": "code",
      "source": [
        "model_path= '/content/drive/MyDrive/model.pth'\n",
        "torch.save(model.state_dict(), model_path)"
      ],
      "metadata": {
        "id": "1xSkiVAp0e_d"
      },
      "execution_count": 57,
      "outputs": []
    },
    {
      "cell_type": "code",
      "source": [
        "print(model.state_dict())"
      ],
      "metadata": {
        "id": "ebReFBX31eSG",
        "colab": {
          "base_uri": "https://localhost:8080/"
        },
        "outputId": "9b6b6308-7ad9-4a58-97a9-8c7c8b521333"
      },
      "execution_count": 58,
      "outputs": [
        {
          "output_type": "stream",
          "name": "stdout",
          "text": [
            "OrderedDict([('linear1.weight', tensor([[ 6.3529e-04, -2.1947e-04, -7.4667e-04,  ..., -4.4842e-04,\n",
            "         -4.1174e-04,  1.1884e-03],\n",
            "        [-1.3601e-03, -9.1271e-04, -1.7238e-03,  ..., -1.5006e-03,\n",
            "         -1.4000e-03, -1.3154e-03],\n",
            "        [-2.4953e-03,  5.7755e-04,  7.5570e-04,  ...,  2.3375e-04,\n",
            "         -4.0253e-04, -1.6720e-04],\n",
            "        ...,\n",
            "        [-2.5135e-04,  9.6492e-06, -1.5611e-04,  ..., -8.8248e-04,\n",
            "          2.5592e-06, -1.4179e-04],\n",
            "        [-3.6518e-04,  1.0419e-03,  9.1289e-04,  ...,  5.1977e-04,\n",
            "          5.2685e-04, -1.5554e-04],\n",
            "        [ 5.7060e-04,  1.6871e-04,  2.9040e-04,  ...,  1.1962e-04,\n",
            "         -1.5502e-05, -7.8066e-06]])), ('linear1.bias', tensor([-9.5274e-04,  1.1024e-03,  5.2060e-05,  2.5729e-06,  3.5562e-04,\n",
            "        -4.8030e-04, -4.8714e-04,  1.3407e-07, -5.4828e-04,  1.2096e-06,\n",
            "         2.3577e-04,  2.7057e-05,  3.2036e-06, -6.4002e-05,  3.2193e-04,\n",
            "         2.1510e-06, -2.7563e-04,  9.8654e-06,  1.1553e-04,  4.5549e-04,\n",
            "        -3.4295e-04, -3.5510e-05, -9.2745e-05, -3.9198e-05,  1.1704e-03,\n",
            "         3.4321e-04,  7.6006e-06,  6.9511e-04,  4.3362e-05,  1.2423e-05,\n",
            "        -1.7680e-06,  1.5995e-04,  6.3044e-04,  1.2240e-04, -3.7271e-04,\n",
            "         8.5367e-06, -7.8681e-07, -4.3153e-04, -2.4042e-04, -1.3544e-06,\n",
            "         3.3300e-06, -1.2615e-03, -7.9750e-04, -1.5628e-06,  2.0642e-06,\n",
            "        -1.3559e-04, -6.8222e-04,  2.0852e-04,  7.4178e-06,  1.3275e-04,\n",
            "         4.4060e-07, -6.4831e-04,  8.3465e-04, -3.7446e-05, -1.7851e-06,\n",
            "        -4.4199e-04, -4.0147e-07,  1.7670e-06, -1.4205e-06,  5.3757e-04,\n",
            "        -7.6949e-05, -6.7831e-04,  6.8172e-07, -4.7644e-04, -3.4266e-07,\n",
            "        -2.9635e-06, -6.0491e-06, -9.4968e-04,  8.2320e-05, -2.4327e-05,\n",
            "        -1.5424e-04, -7.5380e-04,  6.6307e-06,  1.1528e-04,  1.2179e-06,\n",
            "        -8.2052e-04, -4.5459e-06, -1.9398e-04,  2.7084e-03, -6.6423e-04,\n",
            "         1.5412e-05,  9.5050e-04,  6.0226e-06, -9.2207e-04, -2.7326e-04,\n",
            "        -3.3850e-05, -1.9441e-05,  3.9106e-04,  1.7003e-03, -5.8803e-06,\n",
            "        -4.0278e-04, -8.8999e-04,  2.1579e-03, -8.1729e-05, -1.2516e-03,\n",
            "         6.0179e-04,  2.2743e-04,  1.0882e-04, -3.2549e-06,  6.8030e-06])), ('linear2.weight', tensor([[-2.9508e-02, -4.4670e-02,  6.4413e-02,  ...,  6.6034e-02,\n",
            "          1.3247e-02, -1.6515e-03],\n",
            "        [ 8.9505e-02, -1.2952e-02,  9.8783e-02,  ...,  1.2988e-02,\n",
            "         -4.4610e-02, -6.6645e-03],\n",
            "        [ 7.2476e-02, -1.6635e-03,  1.8685e-02,  ..., -6.0887e-05,\n",
            "          9.0669e-02, -3.2874e-02],\n",
            "        ...,\n",
            "        [ 3.0787e-02, -3.1696e-02,  2.6908e-02,  ...,  7.5577e-02,\n",
            "          5.8610e-02, -2.1052e-02],\n",
            "        [-9.9114e-02, -1.7249e-02,  8.6949e-02,  ...,  6.4948e-02,\n",
            "          6.2287e-02, -2.4127e-02],\n",
            "        [-3.2132e-02, -1.7947e-02, -8.4009e-02,  ...,  7.6302e-02,\n",
            "          5.0181e-02,  1.0755e-02]])), ('linear2.bias', tensor([-0.0164, -0.0602, -0.0276,  0.0273, -0.0377,  0.0224, -0.0187,  0.0527,\n",
            "        -0.0171,  0.0657, -0.0009,  0.0431,  0.0448,  0.0039,  0.0591, -0.0682,\n",
            "         0.0506, -0.0209, -0.0520,  0.0005,  0.0270,  0.0172,  0.0532, -0.0174,\n",
            "         0.0283,  0.0431, -0.0364,  0.0649, -0.0070, -0.0569, -0.0697, -0.0535,\n",
            "         0.0087, -0.0261, -0.0520,  0.0624, -0.0479,  0.0323,  0.0354,  0.0520,\n",
            "         0.0729, -0.0218,  0.0411, -0.0100,  0.0047,  0.0286,  0.0057,  0.0415,\n",
            "        -0.0536,  0.0375])), ('linear3.weight', tensor([[-1.4121e-01, -1.3630e-02,  1.0341e-01,  ...,  1.2782e-01,\n",
            "         -1.1917e-01,  1.9603e-02],\n",
            "        [ 9.4613e-03,  1.0121e-01, -9.2829e-02,  ...,  7.4154e-02,\n",
            "         -5.5391e-02, -4.0444e-02],\n",
            "        [ 9.6698e-03, -5.3038e-02,  3.3666e-02,  ...,  7.8660e-02,\n",
            "         -1.5419e-05,  3.7010e-05],\n",
            "        ...,\n",
            "        [-3.9196e-02,  7.2190e-02,  5.1141e-02,  ..., -8.1990e-03,\n",
            "         -4.2800e-02, -5.0244e-03],\n",
            "        [-1.1137e-01,  1.3729e-02,  1.5223e-02,  ...,  9.4989e-02,\n",
            "         -1.1632e-01,  3.8793e-02],\n",
            "        [ 7.0835e-02,  1.2638e-01, -9.0669e-02,  ..., -6.4293e-02,\n",
            "         -9.8673e-02,  1.0601e-01]])), ('linear3.bias', tensor([-0.0717, -0.0453,  0.0048,  0.0962,  0.0624, -0.0513,  0.0890,  0.0939,\n",
            "         0.0808, -0.0039, -0.0217,  0.1078,  0.0226,  0.0295,  0.0414,  0.0767,\n",
            "         0.0133, -0.0572,  0.0089,  0.0441, -0.0404,  0.0483,  0.0957,  0.0713,\n",
            "         0.0716])), ('linear4.weight', tensor([[ 1.8297e-01,  3.2539e-02, -7.1763e-03,  1.6997e-01, -8.3682e-02,\n",
            "          1.2405e-01, -1.4554e-01, -1.0740e-01, -9.7913e-02,  5.5346e-02,\n",
            "         -5.2075e-02, -4.1554e-02, -1.3610e-01, -1.7749e-01,  4.3107e-02,\n",
            "         -3.5196e-02, -7.9947e-02,  8.9638e-02, -5.8194e-02,  1.9341e-01,\n",
            "          8.9770e-02, -7.5732e-06,  7.8485e-02,  1.2031e-01,  1.8655e-01],\n",
            "        [-4.3965e-02,  1.8434e-01, -8.9540e-07, -1.2380e-01,  3.4480e-02,\n",
            "          1.6968e-01,  1.5009e-02, -1.2644e-01,  3.8577e-02, -2.6055e-02,\n",
            "          1.3451e-01, -4.8924e-02,  3.8434e-02, -9.4984e-02,  4.9506e-04,\n",
            "         -1.5140e-01, -8.7928e-02, -1.3523e-01,  2.2159e-02,  1.1767e-01,\n",
            "          8.5442e-02, -1.3152e-01, -6.1555e-02, -4.8704e-02, -5.1433e-02],\n",
            "        [ 5.7065e-02, -1.5798e-01,  3.8235e-02, -9.5203e-02,  1.4142e-02,\n",
            "         -2.5481e-02, -1.2824e-01, -4.5255e-02,  7.0578e-02,  4.2041e-02,\n",
            "          1.3399e-01,  1.1896e-01, -6.7358e-02,  1.3042e-02,  8.8149e-05,\n",
            "         -1.5696e-01, -1.6678e-01, -1.8624e-01,  4.2279e-02,  1.0114e-01,\n",
            "         -1.2629e-01,  5.6765e-02, -1.2624e-01,  1.6534e-02,  6.0879e-02],\n",
            "        [ 1.9807e-01, -3.4270e-02, -1.2093e-01, -7.3883e-02, -6.9636e-02,\n",
            "         -3.7014e-02, -1.5194e-02, -6.4087e-02,  1.0058e-01,  8.0433e-02,\n",
            "         -1.0446e-01, -8.8863e-02,  1.2695e-01,  5.7533e-02,  4.6694e-02,\n",
            "         -1.1248e-02,  9.7271e-02, -9.6141e-02,  1.5756e-01, -1.4301e-01,\n",
            "          7.9041e-02,  6.8636e-02, -5.4745e-02, -1.5802e-01, -1.9167e-01],\n",
            "        [-3.6498e-02,  1.5427e-01, -1.3141e-01, -1.1263e-01, -3.7479e-03,\n",
            "          4.2006e-02, -1.2755e-01,  1.1435e-03,  1.9041e-01,  6.8096e-02,\n",
            "          1.1217e-01, -2.7467e-02, -9.2438e-02,  1.1598e-01, -6.5274e-05,\n",
            "         -1.3763e-01, -1.0486e-01,  9.5432e-02, -1.1468e-01,  4.6225e-02,\n",
            "         -8.7477e-02, -5.3764e-02, -7.9767e-02, -1.0097e-01,  1.2758e-01],\n",
            "        [ 1.8411e-01,  6.7026e-03, -7.1573e-02, -6.7284e-02,  1.1068e-01,\n",
            "         -1.1341e-01,  1.4033e-02,  8.2318e-02,  1.1928e-01,  2.4856e-05,\n",
            "         -3.4785e-02,  8.3930e-02, -1.2270e-01,  7.0200e-02, -7.1677e-03,\n",
            "          1.6650e-01, -1.2954e-01,  1.6879e-01,  7.0909e-02, -1.5169e-02,\n",
            "          4.9882e-02,  2.5887e-03,  4.1374e-03, -1.0695e-01,  1.0011e-01],\n",
            "        [-2.5363e-02,  2.1157e-02,  1.7799e-02, -9.5045e-02,  1.3456e-01,\n",
            "         -1.0643e-01,  1.1790e-02, -4.7741e-02,  5.1742e-02,  7.8005e-02,\n",
            "         -6.0016e-02, -9.3654e-02,  2.3876e-02,  1.2088e-01, -1.0875e-01,\n",
            "         -7.3433e-02, -1.2937e-01, -6.0581e-02,  3.5553e-03, -1.6183e-01,\n",
            "          6.2297e-02,  2.6592e-03,  2.5572e-02, -6.5912e-02, -9.2225e-02],\n",
            "        [-1.2016e-01,  1.9047e-01, -1.3127e-01, -2.6188e-02, -9.6596e-02,\n",
            "          2.2119e-02, -6.5905e-02,  3.5827e-02, -9.1318e-02, -5.8141e-02,\n",
            "         -1.6799e-01, -8.0954e-02,  9.5809e-02, -2.3065e-03, -1.0061e-01,\n",
            "          6.3476e-02, -1.6753e-02,  1.7154e-01,  1.5589e-01,  3.8445e-02,\n",
            "          7.7477e-02, -1.7729e-06, -2.3374e-02, -9.6405e-03, -9.8765e-02],\n",
            "        [ 9.9039e-04, -1.4332e-01,  1.1869e-01, -1.3094e-01, -1.8033e-02,\n",
            "          8.4684e-05,  1.3598e-01, -9.2730e-02,  1.2093e-01,  1.3190e-01,\n",
            "         -9.2903e-02, -3.7397e-02, -1.3077e-01, -4.4145e-02, -1.2191e-02,\n",
            "          8.2203e-02,  7.3706e-05,  1.0174e-01, -5.0153e-02,  1.3357e-01,\n",
            "         -4.2566e-02, -8.0252e-07,  8.6764e-05,  5.3447e-02, -1.0690e-03],\n",
            "        [-4.2502e-02, -1.0288e-01,  5.6018e-02, -8.4693e-02, -1.2454e-01,\n",
            "         -2.9384e-02,  1.4682e-05,  9.7208e-02, -3.0991e-02, -3.1915e-05,\n",
            "         -5.9172e-02, -1.2922e-01, -6.2442e-02, -4.8400e-06, -2.7260e-02,\n",
            "         -8.1901e-02, -1.1434e-01, -1.1265e-01, -1.2299e-01, -1.1908e-01,\n",
            "          4.4461e-02,  8.6965e-02, -3.1567e-05,  2.3400e-02,  9.4698e-04]])), ('linear4.bias', tensor([-0.1226, -0.0556,  0.0442,  0.0756,  0.1490,  0.1536, -0.0150, -0.0823,\n",
            "        -0.0513, -0.1268])), ('linear5.weight', tensor([[-0.2423,  0.2567, -0.2694, -0.1149, -0.2247,  0.2946, -0.2484,  0.1979,\n",
            "          0.1389,  0.1206],\n",
            "        [-0.2640,  0.0419,  0.2878,  0.1931,  0.1076, -0.2332, -0.2542,  0.0203,\n",
            "          0.1506,  0.2013]])), ('linear5.bias', tensor([-0.2162,  0.1603]))])\n"
          ]
        }
      ]
    },
    {
      "cell_type": "code",
      "source": [
        "def prepare_batch(batch, device):\n",
        "    inputs = batch['Images'][tio.DATA].to(device)\n",
        "    inputs= inputs.reshape(-1,223200)\n",
        "    labels = batch['OS'].to(device)\n",
        "    return inputs, labels"
      ],
      "metadata": {
        "id": "i_GM7f3SBFXV"
      },
      "execution_count": 59,
      "outputs": []
    },
    {
      "cell_type": "code",
      "source": [
        "def to_device(data, device):\n",
        "    if isinstance(data, (list, tuple)):\n",
        "        return [to_device(x, device) for x in data]\n",
        "    elif isinstance(data, dict):\n",
        "        return {key: to_device(value, device) for key, value in data.items()}\n",
        "    elif isinstance(data, torch.Tensor):  # Assicurati che data sia un tensore PyTorch\n",
        "        return data.to(device, non_blocking=True)\n",
        "    else:\n",
        "        return data  # Gestisci altri tipi di dati senza modificarli"
      ],
      "metadata": {
        "id": "6S9Od0L3uaDi"
      },
      "execution_count": 60,
      "outputs": []
    },
    {
      "cell_type": "code",
      "source": [
        "model2 = to_device(FFN(input_size, hidden_size, hidden_size1, hidden_size2, hidden_size3, output_size), device)\n",
        "model2"
      ],
      "metadata": {
        "id": "QGAdWn9hplDL",
        "colab": {
          "base_uri": "https://localhost:8080/"
        },
        "outputId": "c14c15e0-9db6-4af6-a9d4-ad760e5c1c65"
      },
      "execution_count": 61,
      "outputs": [
        {
          "output_type": "execute_result",
          "data": {
            "text/plain": [
              "FFN(\n",
              "  (linear1): Linear(in_features=223200, out_features=100, bias=True)\n",
              "  (linear2): Linear(in_features=100, out_features=50, bias=True)\n",
              "  (linear3): Linear(in_features=50, out_features=25, bias=True)\n",
              "  (linear4): Linear(in_features=25, out_features=10, bias=True)\n",
              "  (linear5): Linear(in_features=10, out_features=2, bias=True)\n",
              ")"
            ]
          },
          "metadata": {},
          "execution_count": 61
        }
      ]
    },
    {
      "cell_type": "code",
      "source": [
        "# load the best model checkpoint\n",
        "\n",
        "best_model_cp = torch.load('/content/FFN.pth')\n",
        "best_model_epoch = best_model_cp['epoch']\n",
        "print(f\"Best model was saved at {best_model_epoch} epochs\\n\")"
      ],
      "metadata": {
        "id": "b9xroVHmp-AR",
        "colab": {
          "base_uri": "https://localhost:8080/"
        },
        "outputId": "17a6506d-95e1-4dec-d142-621181deddc7"
      },
      "execution_count": 62,
      "outputs": [
        {
          "output_type": "stream",
          "name": "stdout",
          "text": [
            "Best model was saved at 5 epochs\n",
            "\n"
          ]
        }
      ]
    },
    {
      "cell_type": "code",
      "source": [
        "# loss function\n",
        "criterion = nn.CrossEntropyLoss()\n",
        "\n",
        "# optimizer\n",
        "optimizer = torch.optim.Adam(model2.parameters(), lr=0.01, weight_decay=0.1)\n",
        "\n",
        "# scheduler\n",
        "scheduler = torch.optim.lr_scheduler.OneCycleLR(optimizer, max_lr=0.01, epochs=5,\n",
        "                                                steps_per_epoch=len(train_dl))\n",
        "\n",
        "# initialize SaveBestModel class\n",
        "save_best_model = SaveBestModel()"
      ],
      "metadata": {
        "id": "DRY87jUeqM0w"
      },
      "execution_count": 63,
      "outputs": []
    },
    {
      "cell_type": "code",
      "source": [
        "print('Loading best epoch saved model weights...')\n",
        "model2.load_state_dict(best_model_cp['model_state_dict'])\n",
        "# optimizer\n",
        "optimizer.load_state_dict(best_model_cp['optimizer_state_dict'])\n",
        "# scheduler\n",
        "scheduler.load_state_dict(best_model_cp['scheduler_state_dict'])"
      ],
      "metadata": {
        "id": "lxzrY6CQqjfl",
        "colab": {
          "base_uri": "https://localhost:8080/"
        },
        "outputId": "09a62db6-ff9c-4bae-e8f5-144364120473"
      },
      "execution_count": 64,
      "outputs": [
        {
          "output_type": "stream",
          "name": "stdout",
          "text": [
            "Loading best epoch saved model weights...\n"
          ]
        }
      ]
    },
    {
      "cell_type": "code",
      "source": [
        "test = [evaluate(model2, test_loader)]\n",
        "test\n"
      ],
      "metadata": {
        "id": "FAcJWG-hoKue",
        "colab": {
          "base_uri": "https://localhost:8080/"
        },
        "outputId": "90ff527e-082c-41fe-8153-a3e0e286b2ea"
      },
      "execution_count": 65,
      "outputs": [
        {
          "output_type": "stream",
          "name": "stdout",
          "text": [
            "\n",
            "outputs dei due neuroni:  tensor([[-7.4454, -6.8483],\n",
            "        [-6.7581, -6.4166],\n",
            "        [-5.7712, -5.7141],\n",
            "        [-7.1170, -6.8104],\n",
            "        [-5.8290, -5.9841],\n",
            "        [-8.8300, -8.3776],\n",
            "        [-7.1393, -6.5461],\n",
            "        [-6.8569, -6.4033],\n",
            "        [-6.6242, -6.7668],\n",
            "        [-8.1101, -7.6906]])\n",
            "\n",
            "precision preds:  tensor([1, 1, 1, 1, 0, 1, 1, 1, 0, 1])\n",
            "\n",
            "precision targets:  tensor([1, 1, 1, 1, 1, 1, 1, 1, 1, 1])\n",
            "\n",
            "validation step loss:  tensor(0.5662)\n",
            "\n",
            "validation step accuracy:  tensor(0.8000)\n",
            "\n",
            "validation step precision:  tensor(1.)\n",
            "\n",
            "outputs dei due neuroni:  tensor([[-6.4112, -6.0442],\n",
            "        [-6.4120, -6.4021],\n",
            "        [-7.3438, -7.2031],\n",
            "        [-6.2499, -6.5535],\n",
            "        [-7.2536, -6.7389],\n",
            "        [-7.0813, -6.8112],\n",
            "        [-6.4120, -6.4021],\n",
            "        [-7.5510, -7.3723],\n",
            "        [-6.5380, -6.5954],\n",
            "        [-7.0033, -7.0181]])\n",
            "\n",
            "precision preds:  tensor([1, 1, 1, 0, 1, 1, 1, 1, 0, 0])\n",
            "\n",
            "precision targets:  tensor([1, 1, 1, 1, 1, 1, 1, 1, 1, 1])\n",
            "\n",
            "validation step loss:  tensor(0.6451)\n",
            "\n",
            "validation step accuracy:  tensor(0.7000)\n",
            "\n",
            "validation step precision:  tensor(1.)\n",
            "\n",
            "outputs dei due neuroni:  tensor([[-7.5857, -7.6221],\n",
            "        [-5.9134, -6.2707],\n",
            "        [-6.8783, -6.8637],\n",
            "        [-6.3770, -6.3009],\n",
            "        [-6.8160, -6.9822],\n",
            "        [-6.1337, -6.1852],\n",
            "        [-7.8664, -7.4664],\n",
            "        [-7.8820, -7.7950],\n",
            "        [-6.5470, -6.6639],\n",
            "        [-5.7688, -5.7363]])\n",
            "\n",
            "precision preds:  tensor([0, 0, 1, 1, 0, 0, 1, 1, 0, 1])\n",
            "\n",
            "precision targets:  tensor([0, 0, 0, 0, 0, 0, 0, 0, 0, 0])\n",
            "\n",
            "validation step loss:  tensor(0.6916)\n",
            "\n",
            "validation step accuracy:  tensor(0.5000)\n",
            "\n",
            "validation step precision:  tensor(0.)\n",
            "\n",
            "outputs dei due neuroni:  tensor([[-6.8879, -6.7703],\n",
            "        [-6.6316, -6.6614],\n",
            "        [-7.0122, -6.8708],\n",
            "        [-8.2531, -7.9410],\n",
            "        [-7.1966, -7.1737],\n",
            "        [-6.7796, -6.5296],\n",
            "        [-6.7391, -6.8392],\n",
            "        [-5.6699, -5.8720],\n",
            "        [-6.0382, -5.8950],\n",
            "        [-6.8971, -6.6743]])\n",
            "\n",
            "precision preds:  tensor([1, 0, 1, 1, 1, 1, 0, 0, 1, 1])\n",
            "\n",
            "precision targets:  tensor([0, 0, 0, 0, 0, 0, 0, 0, 0, 0])\n",
            "\n",
            "validation step loss:  tensor(0.7410)\n",
            "\n",
            "validation step accuracy:  tensor(0.3000)\n",
            "\n",
            "validation step precision:  tensor(0.)\n",
            "\n",
            "validation_epoch_end loss:  tensor(0.6610)\n",
            "\n",
            "validation_epoch_end accuracy:  tensor(0.5750)\n",
            "\n",
            "validation_epoch_end precision:  tensor(0.5000)\n"
          ]
        },
        {
          "output_type": "execute_result",
          "data": {
            "text/plain": [
              "[{'val_loss': 0.6609611511230469,\n",
              "  'val_acc': 0.574999988079071,\n",
              "  'val_prec': 0.5}]"
            ]
          },
          "metadata": {},
          "execution_count": 65
        }
      ]
    },
    {
      "cell_type": "code",
      "execution_count": 66,
      "metadata": {
        "id": "7Zw6pJYvUmiN"
      },
      "outputs": [],
      "source": [
        "#test_dl = DataLoader(test_ds, num_workers=0) # CAMBIATO PER FARE IL TEST SU TUTTO"
      ]
    },
    {
      "cell_type": "code",
      "execution_count": 67,
      "metadata": {
        "id": "mLeAcIbFyzP9"
      },
      "outputs": [],
      "source": [
        "test_dl = DataLoader(test_ds, num_workers=0)"
      ]
    },
    {
      "cell_type": "markdown",
      "metadata": {
        "id": "mUr8Q1Aiy1re"
      },
      "source": [
        "test_dl = DataLoader(test_ds, batch_size= 11)"
      ]
    },
    {
      "cell_type": "code",
      "execution_count": 68,
      "metadata": {
        "id": "Fy1Vr5djwYZo"
      },
      "outputs": [],
      "source": [
        "test_loader = DeviceDataLoader(test_dl, device)"
      ]
    },
    {
      "cell_type": "code",
      "execution_count": 69,
      "metadata": {
        "id": "RX-8xKDGwHDO",
        "colab": {
          "base_uri": "https://localhost:8080/"
        },
        "outputId": "3002b3b1-fb7b-4c1a-e6ee-e078aa4d5eaf"
      },
      "outputs": [
        {
          "output_type": "stream",
          "name": "stdout",
          "text": [
            "cpu\n"
          ]
        }
      ],
      "source": [
        "print (test_loader.device)"
      ]
    },
    {
      "cell_type": "code",
      "execution_count": 70,
      "metadata": {
        "id": "IR9sV6WlayXa"
      },
      "outputs": [],
      "source": [
        "import random"
      ]
    },
    {
      "cell_type": "code",
      "execution_count": 71,
      "metadata": {
        "id": "mAg2Ij5ba6rf"
      },
      "outputs": [],
      "source": [
        "subj= random.choice(test_ds)"
      ]
    },
    {
      "cell_type": "code",
      "execution_count": 72,
      "metadata": {
        "id": "D6LZ2JaUbAIp",
        "colab": {
          "base_uri": "https://localhost:8080/"
        },
        "outputId": "0448fbda-025d-475e-9ab2-32b1442d761f"
      },
      "outputs": [
        {
          "output_type": "stream",
          "name": "stdout",
          "text": [
            "<torchio.data.dataset.SubjectsDataset object at 0x7e6fa8c3f310>\n"
          ]
        }
      ],
      "source": [
        "print(test_ds)"
      ]
    },
    {
      "cell_type": "code",
      "execution_count": 73,
      "metadata": {
        "id": "wkaLnG1MbPnv",
        "colab": {
          "base_uri": "https://localhost:8080/"
        },
        "outputId": "53386790-703e-4d7d-8976-5aa41c8279b8"
      },
      "outputs": [
        {
          "output_type": "execute_result",
          "data": {
            "text/plain": [
              "torch.Size([6, 30, 40, 31])"
            ]
          },
          "metadata": {},
          "execution_count": 73
        }
      ],
      "source": [
        "input_tensor= subj['Images'][tio.DATA].to(device)\n",
        "input_tensor.shape"
      ]
    },
    {
      "cell_type": "code",
      "execution_count": 74,
      "metadata": {
        "id": "mXFWGcf8bSD_",
        "colab": {
          "base_uri": "https://localhost:8080/"
        },
        "outputId": "5b99e704-b7d8-43ad-cf93-2775142bd638"
      },
      "outputs": [
        {
          "output_type": "stream",
          "name": "stdout",
          "text": [
            "torch.Size([1, 223200])\n"
          ]
        }
      ],
      "source": [
        "input_tensor=subj['Images'][tio.DATA].reshape(-1,223200).to(device)\n",
        "print(input_tensor.shape)"
      ]
    },
    {
      "cell_type": "markdown",
      "metadata": {
        "id": "C5HXMgOoyaiR"
      },
      "source": []
    },
    {
      "cell_type": "code",
      "execution_count": 74,
      "metadata": {
        "id": "5ngQQSNRyY9l"
      },
      "outputs": [],
      "source": []
    },
    {
      "cell_type": "code",
      "execution_count": 75,
      "metadata": {
        "id": "VCdS1pb-u-HN"
      },
      "outputs": [],
      "source": [
        "model_path= '/content/drive/MyDrive/model.pth'\n",
        "torch.save(model.state_dict(), model_path)"
      ]
    },
    {
      "cell_type": "code",
      "execution_count": 76,
      "metadata": {
        "id": "CwKUqD4BxNGT",
        "colab": {
          "base_uri": "https://localhost:8080/"
        },
        "outputId": "68ab7284-1991-4579-c5fb-c338c4ea8e63"
      },
      "outputs": [
        {
          "output_type": "stream",
          "name": "stdout",
          "text": [
            "OrderedDict([('linear1.weight', tensor([[ 6.3529e-04, -2.1947e-04, -7.4667e-04,  ..., -4.4842e-04,\n",
            "         -4.1174e-04,  1.1884e-03],\n",
            "        [-1.3601e-03, -9.1271e-04, -1.7238e-03,  ..., -1.5006e-03,\n",
            "         -1.4000e-03, -1.3154e-03],\n",
            "        [-2.4953e-03,  5.7755e-04,  7.5570e-04,  ...,  2.3375e-04,\n",
            "         -4.0253e-04, -1.6720e-04],\n",
            "        ...,\n",
            "        [-2.5135e-04,  9.6492e-06, -1.5611e-04,  ..., -8.8248e-04,\n",
            "          2.5592e-06, -1.4179e-04],\n",
            "        [-3.6518e-04,  1.0419e-03,  9.1289e-04,  ...,  5.1977e-04,\n",
            "          5.2685e-04, -1.5554e-04],\n",
            "        [ 5.7060e-04,  1.6871e-04,  2.9040e-04,  ...,  1.1962e-04,\n",
            "         -1.5502e-05, -7.8066e-06]])), ('linear1.bias', tensor([-9.5274e-04,  1.1024e-03,  5.2060e-05,  2.5729e-06,  3.5562e-04,\n",
            "        -4.8030e-04, -4.8714e-04,  1.3407e-07, -5.4828e-04,  1.2096e-06,\n",
            "         2.3577e-04,  2.7057e-05,  3.2036e-06, -6.4002e-05,  3.2193e-04,\n",
            "         2.1510e-06, -2.7563e-04,  9.8654e-06,  1.1553e-04,  4.5549e-04,\n",
            "        -3.4295e-04, -3.5510e-05, -9.2745e-05, -3.9198e-05,  1.1704e-03,\n",
            "         3.4321e-04,  7.6006e-06,  6.9511e-04,  4.3362e-05,  1.2423e-05,\n",
            "        -1.7680e-06,  1.5995e-04,  6.3044e-04,  1.2240e-04, -3.7271e-04,\n",
            "         8.5367e-06, -7.8681e-07, -4.3153e-04, -2.4042e-04, -1.3544e-06,\n",
            "         3.3300e-06, -1.2615e-03, -7.9750e-04, -1.5628e-06,  2.0642e-06,\n",
            "        -1.3559e-04, -6.8222e-04,  2.0852e-04,  7.4178e-06,  1.3275e-04,\n",
            "         4.4060e-07, -6.4831e-04,  8.3465e-04, -3.7446e-05, -1.7851e-06,\n",
            "        -4.4199e-04, -4.0147e-07,  1.7670e-06, -1.4205e-06,  5.3757e-04,\n",
            "        -7.6949e-05, -6.7831e-04,  6.8172e-07, -4.7644e-04, -3.4266e-07,\n",
            "        -2.9635e-06, -6.0491e-06, -9.4968e-04,  8.2320e-05, -2.4327e-05,\n",
            "        -1.5424e-04, -7.5380e-04,  6.6307e-06,  1.1528e-04,  1.2179e-06,\n",
            "        -8.2052e-04, -4.5459e-06, -1.9398e-04,  2.7084e-03, -6.6423e-04,\n",
            "         1.5412e-05,  9.5050e-04,  6.0226e-06, -9.2207e-04, -2.7326e-04,\n",
            "        -3.3850e-05, -1.9441e-05,  3.9106e-04,  1.7003e-03, -5.8803e-06,\n",
            "        -4.0278e-04, -8.8999e-04,  2.1579e-03, -8.1729e-05, -1.2516e-03,\n",
            "         6.0179e-04,  2.2743e-04,  1.0882e-04, -3.2549e-06,  6.8030e-06])), ('linear2.weight', tensor([[-2.9508e-02, -4.4670e-02,  6.4413e-02,  ...,  6.6034e-02,\n",
            "          1.3247e-02, -1.6515e-03],\n",
            "        [ 8.9505e-02, -1.2952e-02,  9.8783e-02,  ...,  1.2988e-02,\n",
            "         -4.4610e-02, -6.6645e-03],\n",
            "        [ 7.2476e-02, -1.6635e-03,  1.8685e-02,  ..., -6.0887e-05,\n",
            "          9.0669e-02, -3.2874e-02],\n",
            "        ...,\n",
            "        [ 3.0787e-02, -3.1696e-02,  2.6908e-02,  ...,  7.5577e-02,\n",
            "          5.8610e-02, -2.1052e-02],\n",
            "        [-9.9114e-02, -1.7249e-02,  8.6949e-02,  ...,  6.4948e-02,\n",
            "          6.2287e-02, -2.4127e-02],\n",
            "        [-3.2132e-02, -1.7947e-02, -8.4009e-02,  ...,  7.6302e-02,\n",
            "          5.0181e-02,  1.0755e-02]])), ('linear2.bias', tensor([-0.0164, -0.0602, -0.0276,  0.0273, -0.0377,  0.0224, -0.0187,  0.0527,\n",
            "        -0.0171,  0.0657, -0.0009,  0.0431,  0.0448,  0.0039,  0.0591, -0.0682,\n",
            "         0.0506, -0.0209, -0.0520,  0.0005,  0.0270,  0.0172,  0.0532, -0.0174,\n",
            "         0.0283,  0.0431, -0.0364,  0.0649, -0.0070, -0.0569, -0.0697, -0.0535,\n",
            "         0.0087, -0.0261, -0.0520,  0.0624, -0.0479,  0.0323,  0.0354,  0.0520,\n",
            "         0.0729, -0.0218,  0.0411, -0.0100,  0.0047,  0.0286,  0.0057,  0.0415,\n",
            "        -0.0536,  0.0375])), ('linear3.weight', tensor([[-1.4121e-01, -1.3630e-02,  1.0341e-01,  ...,  1.2782e-01,\n",
            "         -1.1917e-01,  1.9603e-02],\n",
            "        [ 9.4613e-03,  1.0121e-01, -9.2829e-02,  ...,  7.4154e-02,\n",
            "         -5.5391e-02, -4.0444e-02],\n",
            "        [ 9.6698e-03, -5.3038e-02,  3.3666e-02,  ...,  7.8660e-02,\n",
            "         -1.5419e-05,  3.7010e-05],\n",
            "        ...,\n",
            "        [-3.9196e-02,  7.2190e-02,  5.1141e-02,  ..., -8.1990e-03,\n",
            "         -4.2800e-02, -5.0244e-03],\n",
            "        [-1.1137e-01,  1.3729e-02,  1.5223e-02,  ...,  9.4989e-02,\n",
            "         -1.1632e-01,  3.8793e-02],\n",
            "        [ 7.0835e-02,  1.2638e-01, -9.0669e-02,  ..., -6.4293e-02,\n",
            "         -9.8673e-02,  1.0601e-01]])), ('linear3.bias', tensor([-0.0717, -0.0453,  0.0048,  0.0962,  0.0624, -0.0513,  0.0890,  0.0939,\n",
            "         0.0808, -0.0039, -0.0217,  0.1078,  0.0226,  0.0295,  0.0414,  0.0767,\n",
            "         0.0133, -0.0572,  0.0089,  0.0441, -0.0404,  0.0483,  0.0957,  0.0713,\n",
            "         0.0716])), ('linear4.weight', tensor([[ 1.8297e-01,  3.2539e-02, -7.1763e-03,  1.6997e-01, -8.3682e-02,\n",
            "          1.2405e-01, -1.4554e-01, -1.0740e-01, -9.7913e-02,  5.5346e-02,\n",
            "         -5.2075e-02, -4.1554e-02, -1.3610e-01, -1.7749e-01,  4.3107e-02,\n",
            "         -3.5196e-02, -7.9947e-02,  8.9638e-02, -5.8194e-02,  1.9341e-01,\n",
            "          8.9770e-02, -7.5732e-06,  7.8485e-02,  1.2031e-01,  1.8655e-01],\n",
            "        [-4.3965e-02,  1.8434e-01, -8.9540e-07, -1.2380e-01,  3.4480e-02,\n",
            "          1.6968e-01,  1.5009e-02, -1.2644e-01,  3.8577e-02, -2.6055e-02,\n",
            "          1.3451e-01, -4.8924e-02,  3.8434e-02, -9.4984e-02,  4.9506e-04,\n",
            "         -1.5140e-01, -8.7928e-02, -1.3523e-01,  2.2159e-02,  1.1767e-01,\n",
            "          8.5442e-02, -1.3152e-01, -6.1555e-02, -4.8704e-02, -5.1433e-02],\n",
            "        [ 5.7065e-02, -1.5798e-01,  3.8235e-02, -9.5203e-02,  1.4142e-02,\n",
            "         -2.5481e-02, -1.2824e-01, -4.5255e-02,  7.0578e-02,  4.2041e-02,\n",
            "          1.3399e-01,  1.1896e-01, -6.7358e-02,  1.3042e-02,  8.8149e-05,\n",
            "         -1.5696e-01, -1.6678e-01, -1.8624e-01,  4.2279e-02,  1.0114e-01,\n",
            "         -1.2629e-01,  5.6765e-02, -1.2624e-01,  1.6534e-02,  6.0879e-02],\n",
            "        [ 1.9807e-01, -3.4270e-02, -1.2093e-01, -7.3883e-02, -6.9636e-02,\n",
            "         -3.7014e-02, -1.5194e-02, -6.4087e-02,  1.0058e-01,  8.0433e-02,\n",
            "         -1.0446e-01, -8.8863e-02,  1.2695e-01,  5.7533e-02,  4.6694e-02,\n",
            "         -1.1248e-02,  9.7271e-02, -9.6141e-02,  1.5756e-01, -1.4301e-01,\n",
            "          7.9041e-02,  6.8636e-02, -5.4745e-02, -1.5802e-01, -1.9167e-01],\n",
            "        [-3.6498e-02,  1.5427e-01, -1.3141e-01, -1.1263e-01, -3.7479e-03,\n",
            "          4.2006e-02, -1.2755e-01,  1.1435e-03,  1.9041e-01,  6.8096e-02,\n",
            "          1.1217e-01, -2.7467e-02, -9.2438e-02,  1.1598e-01, -6.5274e-05,\n",
            "         -1.3763e-01, -1.0486e-01,  9.5432e-02, -1.1468e-01,  4.6225e-02,\n",
            "         -8.7477e-02, -5.3764e-02, -7.9767e-02, -1.0097e-01,  1.2758e-01],\n",
            "        [ 1.8411e-01,  6.7026e-03, -7.1573e-02, -6.7284e-02,  1.1068e-01,\n",
            "         -1.1341e-01,  1.4033e-02,  8.2318e-02,  1.1928e-01,  2.4856e-05,\n",
            "         -3.4785e-02,  8.3930e-02, -1.2270e-01,  7.0200e-02, -7.1677e-03,\n",
            "          1.6650e-01, -1.2954e-01,  1.6879e-01,  7.0909e-02, -1.5169e-02,\n",
            "          4.9882e-02,  2.5887e-03,  4.1374e-03, -1.0695e-01,  1.0011e-01],\n",
            "        [-2.5363e-02,  2.1157e-02,  1.7799e-02, -9.5045e-02,  1.3456e-01,\n",
            "         -1.0643e-01,  1.1790e-02, -4.7741e-02,  5.1742e-02,  7.8005e-02,\n",
            "         -6.0016e-02, -9.3654e-02,  2.3876e-02,  1.2088e-01, -1.0875e-01,\n",
            "         -7.3433e-02, -1.2937e-01, -6.0581e-02,  3.5553e-03, -1.6183e-01,\n",
            "          6.2297e-02,  2.6592e-03,  2.5572e-02, -6.5912e-02, -9.2225e-02],\n",
            "        [-1.2016e-01,  1.9047e-01, -1.3127e-01, -2.6188e-02, -9.6596e-02,\n",
            "          2.2119e-02, -6.5905e-02,  3.5827e-02, -9.1318e-02, -5.8141e-02,\n",
            "         -1.6799e-01, -8.0954e-02,  9.5809e-02, -2.3065e-03, -1.0061e-01,\n",
            "          6.3476e-02, -1.6753e-02,  1.7154e-01,  1.5589e-01,  3.8445e-02,\n",
            "          7.7477e-02, -1.7729e-06, -2.3374e-02, -9.6405e-03, -9.8765e-02],\n",
            "        [ 9.9039e-04, -1.4332e-01,  1.1869e-01, -1.3094e-01, -1.8033e-02,\n",
            "          8.4684e-05,  1.3598e-01, -9.2730e-02,  1.2093e-01,  1.3190e-01,\n",
            "         -9.2903e-02, -3.7397e-02, -1.3077e-01, -4.4145e-02, -1.2191e-02,\n",
            "          8.2203e-02,  7.3706e-05,  1.0174e-01, -5.0153e-02,  1.3357e-01,\n",
            "         -4.2566e-02, -8.0252e-07,  8.6764e-05,  5.3447e-02, -1.0690e-03],\n",
            "        [-4.2502e-02, -1.0288e-01,  5.6018e-02, -8.4693e-02, -1.2454e-01,\n",
            "         -2.9384e-02,  1.4682e-05,  9.7208e-02, -3.0991e-02, -3.1915e-05,\n",
            "         -5.9172e-02, -1.2922e-01, -6.2442e-02, -4.8400e-06, -2.7260e-02,\n",
            "         -8.1901e-02, -1.1434e-01, -1.1265e-01, -1.2299e-01, -1.1908e-01,\n",
            "          4.4461e-02,  8.6965e-02, -3.1567e-05,  2.3400e-02,  9.4698e-04]])), ('linear4.bias', tensor([-0.1226, -0.0556,  0.0442,  0.0756,  0.1490,  0.1536, -0.0150, -0.0823,\n",
            "        -0.0513, -0.1268])), ('linear5.weight', tensor([[-0.2423,  0.2567, -0.2694, -0.1149, -0.2247,  0.2946, -0.2484,  0.1979,\n",
            "          0.1389,  0.1206],\n",
            "        [-0.2640,  0.0419,  0.2878,  0.1931,  0.1076, -0.2332, -0.2542,  0.0203,\n",
            "          0.1506,  0.2013]])), ('linear5.bias', tensor([-0.2162,  0.1603]))])\n"
          ]
        }
      ],
      "source": [
        "print(model.state_dict())"
      ]
    },
    {
      "cell_type": "code",
      "execution_count": 77,
      "metadata": {
        "id": "Y_0NQ3K3vDDG"
      },
      "outputs": [],
      "source": [
        "model.eval()\n",
        "\n",
        "with torch.no_grad():\n",
        "  probabilities = model(input_tensor)"
      ]
    },
    {
      "cell_type": "code",
      "execution_count": 78,
      "metadata": {
        "id": "Hg0wkiSOzNzK",
        "colab": {
          "base_uri": "https://localhost:8080/"
        },
        "outputId": "a5afc165-1c47-4388-bce5-a061b7ac1a14"
      },
      "outputs": [
        {
          "output_type": "execute_result",
          "data": {
            "text/plain": [
              "torch.Size([1, 2])"
            ]
          },
          "metadata": {},
          "execution_count": 78
        }
      ],
      "source": [
        "probabilities.shape"
      ]
    },
    {
      "cell_type": "code",
      "execution_count": 79,
      "metadata": {
        "id": "RFmoL5sF3DX8"
      },
      "outputs": [],
      "source": [
        "#print(probabilities)"
      ]
    },
    {
      "cell_type": "code",
      "execution_count": 80,
      "metadata": {
        "id": "X2NKrsWY0X-n"
      },
      "outputs": [],
      "source": [
        "_, preds = torch.max(probabilities, dim=1)"
      ]
    },
    {
      "cell_type": "code",
      "execution_count": 81,
      "metadata": {
        "id": "G-SZvxih9a-m",
        "colab": {
          "base_uri": "https://localhost:8080/"
        },
        "outputId": "85193449-2cad-4aec-dfbc-4afc739d1844"
      },
      "outputs": [
        {
          "output_type": "execute_result",
          "data": {
            "text/plain": [
              "tensor([1])"
            ]
          },
          "metadata": {},
          "execution_count": 81
        }
      ],
      "source": [
        "preds"
      ]
    },
    {
      "cell_type": "code",
      "execution_count": 82,
      "metadata": {
        "id": "OJnm25JI1aIt"
      },
      "outputs": [],
      "source": [
        "predicted_label = preds[0].item()"
      ]
    },
    {
      "cell_type": "code",
      "execution_count": 83,
      "metadata": {
        "id": "U2MaHNH13QqX"
      },
      "outputs": [],
      "source": [
        "label_true= subj['OS']"
      ]
    },
    {
      "cell_type": "code",
      "execution_count": 84,
      "metadata": {
        "id": "4dFkmRna9sy-",
        "colab": {
          "base_uri": "https://localhost:8080/"
        },
        "outputId": "1b73b825-cc66-4824-fa1c-d41b54fd4604"
      },
      "outputs": [
        {
          "output_type": "stream",
          "name": "stdout",
          "text": [
            "label predicted: 1 label_true: 0\n"
          ]
        }
      ],
      "source": [
        "print('label predicted:', predicted_label, 'label_true:',label_true)"
      ]
    },
    {
      "cell_type": "code",
      "execution_count": 84,
      "metadata": {
        "id": "pz4OhvkmueLs"
      },
      "outputs": [],
      "source": []
    }
  ],
  "metadata": {
    "accelerator": "GPU",
    "colab": {
      "provenance": []
    },
    "kernelspec": {
      "display_name": "Python 3",
      "name": "python3"
    },
    "language_info": {
      "name": "python"
    }
  },
  "nbformat": 4,
  "nbformat_minor": 0
}