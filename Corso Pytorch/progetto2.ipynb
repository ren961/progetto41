{
 "cells": [
  {
   "cell_type": "code",
   "execution_count": 1,
   "metadata": {},
   "outputs": [],
   "source": [
    "import torch\n",
    "import torchvision\n",
    "import torch.nn as nn\n",
    "import torch.nn.functional as F\n",
    "import matplotlib as plt\n",
    "import pandas as pd\n",
    "\n",
    "from torch.utils.data import DataLoader, TensorDataset, random_split\n",
    "from torchvision.datasets.utils import download_url\n"
   ]
  },
  {
   "attachments": {},
   "cell_type": "markdown",
   "metadata": {},
   "source": [
    "# Download e esplorazione dei dati"
   ]
  },
  {
   "cell_type": "code",
   "execution_count": 2,
   "metadata": {},
   "outputs": [
    {
     "name": "stdout",
     "output_type": "stream",
     "text": [
      "Using downloaded and verified file: ./insurance.csv\n"
     ]
    }
   ],
   "source": [
    "DATASET_URL = \"https://gist.github.com/BirajCoder/5f068dfe759c1ea6bdfce9535acdb72d/raw/c84d84e3c80f93be67f6c069cbdc0195ec36acbd/insurance.csv\"\n",
    "DATA_FILENAME = \"insurance.csv\"\n",
    "download_url(DATASET_URL, '.')"
   ]
  },
  {
   "cell_type": "code",
   "execution_count": 3,
   "metadata": {},
   "outputs": [
    {
     "data": {
      "text/html": [
       "<div>\n",
       "<style scoped>\n",
       "    .dataframe tbody tr th:only-of-type {\n",
       "        vertical-align: middle;\n",
       "    }\n",
       "\n",
       "    .dataframe tbody tr th {\n",
       "        vertical-align: top;\n",
       "    }\n",
       "\n",
       "    .dataframe thead th {\n",
       "        text-align: right;\n",
       "    }\n",
       "</style>\n",
       "<table border=\"1\" class=\"dataframe\">\n",
       "  <thead>\n",
       "    <tr style=\"text-align: right;\">\n",
       "      <th></th>\n",
       "      <th>age</th>\n",
       "      <th>sex</th>\n",
       "      <th>bmi</th>\n",
       "      <th>children</th>\n",
       "      <th>smoker</th>\n",
       "      <th>region</th>\n",
       "      <th>charges</th>\n",
       "    </tr>\n",
       "  </thead>\n",
       "  <tbody>\n",
       "    <tr>\n",
       "      <th>0</th>\n",
       "      <td>19</td>\n",
       "      <td>female</td>\n",
       "      <td>27.900</td>\n",
       "      <td>0</td>\n",
       "      <td>yes</td>\n",
       "      <td>southwest</td>\n",
       "      <td>16884.92400</td>\n",
       "    </tr>\n",
       "    <tr>\n",
       "      <th>1</th>\n",
       "      <td>18</td>\n",
       "      <td>male</td>\n",
       "      <td>33.770</td>\n",
       "      <td>1</td>\n",
       "      <td>no</td>\n",
       "      <td>southeast</td>\n",
       "      <td>1725.55230</td>\n",
       "    </tr>\n",
       "    <tr>\n",
       "      <th>2</th>\n",
       "      <td>28</td>\n",
       "      <td>male</td>\n",
       "      <td>33.000</td>\n",
       "      <td>3</td>\n",
       "      <td>no</td>\n",
       "      <td>southeast</td>\n",
       "      <td>4449.46200</td>\n",
       "    </tr>\n",
       "    <tr>\n",
       "      <th>3</th>\n",
       "      <td>33</td>\n",
       "      <td>male</td>\n",
       "      <td>22.705</td>\n",
       "      <td>0</td>\n",
       "      <td>no</td>\n",
       "      <td>northwest</td>\n",
       "      <td>21984.47061</td>\n",
       "    </tr>\n",
       "    <tr>\n",
       "      <th>4</th>\n",
       "      <td>32</td>\n",
       "      <td>male</td>\n",
       "      <td>28.880</td>\n",
       "      <td>0</td>\n",
       "      <td>no</td>\n",
       "      <td>northwest</td>\n",
       "      <td>3866.85520</td>\n",
       "    </tr>\n",
       "  </tbody>\n",
       "</table>\n",
       "</div>"
      ],
      "text/plain": [
       "   age     sex     bmi  children smoker     region      charges\n",
       "0   19  female  27.900         0    yes  southwest  16884.92400\n",
       "1   18    male  33.770         1     no  southeast   1725.55230\n",
       "2   28    male  33.000         3     no  southeast   4449.46200\n",
       "3   33    male  22.705         0     no  northwest  21984.47061\n",
       "4   32    male  28.880         0     no  northwest   3866.85520"
      ]
     },
     "execution_count": 3,
     "metadata": {},
     "output_type": "execute_result"
    }
   ],
   "source": [
    "dataframe_raw = pd.read_csv(DATA_FILENAME)\n",
    "dataframe_raw.head()"
   ]
  },
  {
   "cell_type": "code",
   "execution_count": 4,
   "metadata": {},
   "outputs": [],
   "source": [
    "your_name = 'Renato'"
   ]
  },
  {
   "cell_type": "code",
   "execution_count": 5,
   "metadata": {},
   "outputs": [],
   "source": [
    "def customize_dataset(dataframe_raw, rand_str):\n",
    "\n",
    "    dataframe = dataframe_raw.copy(deep = True)         # Crea una copia del dataframe, ponendo deep = True le modifiche apportate non modifica il dataframe originale\n",
    "\n",
    "    # Eliminazione di alcune righe\n",
    "    dataframe = dataframe.sample(int(0.95 * len(dataframe)), random_state = int(ord(rand_str[0])))\n",
    "    # .sample(): Restituisce un numero specificato di righe    /    random_state(): controlla il mescolamento dei dati prima di dividerli\n",
    "\n",
    "    # Scalatura input\n",
    "    dataframe.bmi = dataframe.bmi * ord(rand_str[1])/100.\n",
    "\n",
    "    # Scalatura target\n",
    "\n",
    "    dataframe.charges = dataframe.charges * ord(rand_str[2])/100\n",
    "\n",
    "    # Eliminazione colonne\n",
    "    if ord(rand_str[3]) % 2 == 1:\n",
    "        dataframe = dataframe.drop(['region'], axis=1)\n",
    "\n",
    "    return dataframe\n"
   ]
  },
  {
   "cell_type": "code",
   "execution_count": 6,
   "metadata": {},
   "outputs": [
    {
     "data": {
      "text/html": [
       "<div>\n",
       "<style scoped>\n",
       "    .dataframe tbody tr th:only-of-type {\n",
       "        vertical-align: middle;\n",
       "    }\n",
       "\n",
       "    .dataframe tbody tr th {\n",
       "        vertical-align: top;\n",
       "    }\n",
       "\n",
       "    .dataframe thead th {\n",
       "        text-align: right;\n",
       "    }\n",
       "</style>\n",
       "<table border=\"1\" class=\"dataframe\">\n",
       "  <thead>\n",
       "    <tr style=\"text-align: right;\">\n",
       "      <th></th>\n",
       "      <th>age</th>\n",
       "      <th>sex</th>\n",
       "      <th>bmi</th>\n",
       "      <th>children</th>\n",
       "      <th>smoker</th>\n",
       "      <th>charges</th>\n",
       "    </tr>\n",
       "  </thead>\n",
       "  <tbody>\n",
       "    <tr>\n",
       "      <th>457</th>\n",
       "      <td>57</td>\n",
       "      <td>female</td>\n",
       "      <td>30.79995</td>\n",
       "      <td>0</td>\n",
       "      <td>no</td>\n",
       "      <td>13024.852555</td>\n",
       "    </tr>\n",
       "    <tr>\n",
       "      <th>1050</th>\n",
       "      <td>44</td>\n",
       "      <td>female</td>\n",
       "      <td>37.32455</td>\n",
       "      <td>1</td>\n",
       "      <td>no</td>\n",
       "      <td>8825.448995</td>\n",
       "    </tr>\n",
       "    <tr>\n",
       "      <th>56</th>\n",
       "      <td>58</td>\n",
       "      <td>female</td>\n",
       "      <td>32.14325</td>\n",
       "      <td>2</td>\n",
       "      <td>no</td>\n",
       "      <td>14968.105625</td>\n",
       "    </tr>\n",
       "    <tr>\n",
       "      <th>311</th>\n",
       "      <td>19</td>\n",
       "      <td>female</td>\n",
       "      <td>24.94700</td>\n",
       "      <td>0</td>\n",
       "      <td>no</td>\n",
       "      <td>1911.113600</td>\n",
       "    </tr>\n",
       "    <tr>\n",
       "      <th>1288</th>\n",
       "      <td>20</td>\n",
       "      <td>male</td>\n",
       "      <td>39.79400</td>\n",
       "      <td>2</td>\n",
       "      <td>yes</td>\n",
       "      <td>42179.022600</td>\n",
       "    </tr>\n",
       "  </tbody>\n",
       "</table>\n",
       "</div>"
      ],
      "text/plain": [
       "      age     sex       bmi  children smoker       charges\n",
       "457    57  female  30.79995         0     no  13024.852555\n",
       "1050   44  female  37.32455         1     no   8825.448995\n",
       "56     58  female  32.14325         2     no  14968.105625\n",
       "311    19  female  24.94700         0     no   1911.113600\n",
       "1288   20    male  39.79400         2    yes  42179.022600"
      ]
     },
     "execution_count": 6,
     "metadata": {},
     "output_type": "execute_result"
    }
   ],
   "source": [
    "dataframe = customize_dataset(dataframe_raw, your_name)\n",
    "dataframe.head()"
   ]
  },
  {
   "attachments": {},
   "cell_type": "markdown",
   "metadata": {},
   "source": [
    "**Domanda 1:** quante righe ha **'dataset'**?"
   ]
  },
  {
   "cell_type": "code",
   "execution_count": 7,
   "metadata": {},
   "outputs": [
    {
     "data": {
      "text/plain": [
       "1271"
      ]
     },
     "execution_count": 7,
     "metadata": {},
     "output_type": "execute_result"
    }
   ],
   "source": [
    "num_rows = len(dataframe.index)\n",
    "num_rows"
   ]
  },
  {
   "attachments": {},
   "cell_type": "markdown",
   "metadata": {},
   "source": [
    "**Domanda 2:** quante righe ha 'dataset'?"
   ]
  },
  {
   "cell_type": "code",
   "execution_count": 8,
   "metadata": {},
   "outputs": [
    {
     "data": {
      "text/plain": [
       "6"
      ]
     },
     "execution_count": 8,
     "metadata": {},
     "output_type": "execute_result"
    }
   ],
   "source": [
    "num_columns = len(dataframe.columns)\n",
    "num_columns"
   ]
  },
  {
   "attachments": {},
   "cell_type": "markdown",
   "metadata": {},
   "source": [
    "**Domanda 3:** Quali sono i titoli delle colonne di input?"
   ]
  },
  {
   "cell_type": "code",
   "execution_count": 9,
   "metadata": {},
   "outputs": [
    {
     "data": {
      "text/plain": [
       "['age', 'sex', 'bmi', 'children', 'smoker']"
      ]
     },
     "execution_count": 9,
     "metadata": {},
     "output_type": "execute_result"
    }
   ],
   "source": [
    "input_cols = dataframe.columns[:5].tolist()\n",
    "input_cols"
   ]
  },
  {
   "attachments": {},
   "cell_type": "markdown",
   "metadata": {},
   "source": [
    "**Domanda 4:** Quali colonne non possiedono valori numerici?"
   ]
  },
  {
   "cell_type": "code",
   "execution_count": 10,
   "metadata": {},
   "outputs": [
    {
     "data": {
      "text/plain": [
       "['sex', 'smoker']"
      ]
     },
     "execution_count": 10,
     "metadata": {},
     "output_type": "execute_result"
    }
   ],
   "source": [
    "numerics = ['int16', 'int32', 'int64', 'float16', 'float32', 'float64']\n",
    "categorical_cols = dataframe.select_dtypes(exclude = numerics).columns.tolist()\n",
    "categorical_cols"
   ]
  },
  {
   "attachments": {},
   "cell_type": "markdown",
   "metadata": {},
   "source": [
    "**Domanda 5:** Quali sono i titoli delle colonne di output?"
   ]
  },
  {
   "cell_type": "code",
   "execution_count": 11,
   "metadata": {},
   "outputs": [
    {
     "data": {
      "text/plain": [
       "Index(['charges'], dtype='object')"
      ]
     },
     "execution_count": 11,
     "metadata": {},
     "output_type": "execute_result"
    }
   ],
   "source": [
    "output_cols = dataframe.columns[5:6]\n",
    "output_cols"
   ]
  },
  {
   "attachments": {},
   "cell_type": "markdown",
   "metadata": {},
   "source": [
    "**Domanda bonus:** minimo, massimo e media dei valori in charges, si può vedere la distribuzione dei valori in un grafico?"
   ]
  },
  {
   "cell_type": "code",
   "execution_count": 12,
   "metadata": {},
   "outputs": [
    {
     "name": "stdout",
     "output_type": "stream",
     "text": [
      "Il valore massimo è:  70147.470811\n",
      "Il valore minimo è:  1234.06129\n",
      "Il valore medio è:  14433.083083868529\n"
     ]
    }
   ],
   "source": [
    "max_charges = dataframe[\"charges\"].max()\n",
    "min_charges = dataframe[\"charges\"].min()\n",
    "mean_charges = dataframe[\"charges\"].mean()\n",
    "\n",
    "print('Il valore massimo è: ', max_charges)\n",
    "print('Il valore minimo è: ', min_charges)\n",
    "print('Il valore medio è: ', mean_charges)"
   ]
  },
  {
   "attachments": {},
   "cell_type": "markdown",
   "metadata": {},
   "source": [
    "Distribuzione dei valori di charges:"
   ]
  },
  {
   "cell_type": "code",
   "execution_count": 13,
   "metadata": {},
   "outputs": [
    {
     "data": {
      "text/plain": [
       "<Axes: ylabel='Density'>"
      ]
     },
     "execution_count": 13,
     "metadata": {},
     "output_type": "execute_result"
    },
    {
     "data": {
      "image/png": "[encoded data removed]",
      "text/plain": [
       "<Figure size 640x480 with 1 Axes>"
      ]
     },
     "metadata": {},
     "output_type": "display_data"
    }
   ],
   "source": [
    "dataframe['charges'].plot(kind = 'kde')"
   ]
  },
  {
   "attachments": {},
   "cell_type": "markdown",
   "metadata": {},
   "source": [
    "# Preparazione dataset per il training"
   ]
  },
  {
   "attachments": {},
   "cell_type": "markdown",
   "metadata": {},
   "source": [
    "Per poter eserguire il training abbiamo bisogno di avere dei tensori, quindi faremo una trasformazione da pandas a pytorch: **Pandas --> NumPy --> Pytorch**"
   ]
  },
  {
   "attachments": {},
   "cell_type": "markdown",
   "metadata": {},
   "source": [
    "Passaggio da dataframe ad arry:"
   ]
  },
  {
   "cell_type": "code",
   "execution_count": 14,
   "metadata": {},
   "outputs": [],
   "source": [
    "def dataframe_to_arrays(dataframe):\n",
    "    dataframe1 = dataframe.copy(deep = True)        #copia dataframe\n",
    "\n",
    "    # Conversione delle colonne non numeriche a numeriche\n",
    "    for col in categorical_cols:\n",
    "        dataframe1[col] = dataframe1[col].astype('category').cat.codes      # Categorizza attraverso codici numerici\n",
    "\n",
    "    # Estrazione di input e output sotto forma di array numPy\n",
    "    inputs_array = dataframe1[input_cols].to_numpy()\n",
    "    targets_array = dataframe1[output_cols].to_numpy()\n",
    "\n",
    "    return inputs_array, targets_array"
   ]
  },
  {
   "cell_type": "code",
   "execution_count": 15,
   "metadata": {},
   "outputs": [
    {
     "data": {
      "text/plain": [
       "(array([[57.     ,  0.     , 30.79995,  0.     ,  0.     ],\n",
       "        [44.     ,  0.     , 37.32455,  1.     ,  0.     ],\n",
       "        [58.     ,  0.     , 32.14325,  2.     ,  0.     ],\n",
       "        ...,\n",
       "        [59.     ,  0.     , 35.148  ,  2.     ,  0.     ],\n",
       "        [41.     ,  1.     , 29.088  ,  1.     ,  0.     ],\n",
       "        [36.     ,  0.     , 30.3202 ,  0.     ,  0.     ]]),\n",
       " array([[13024.852555],\n",
       "        [ 8825.448995],\n",
       "        [14968.105625],\n",
       "        ...,\n",
       "        [40601.668833],\n",
       "        [ 6910.4585  ],\n",
       "        [ 5799.39338 ]]))"
      ]
     },
     "execution_count": 15,
     "metadata": {},
     "output_type": "execute_result"
    }
   ],
   "source": [
    "inputs_array, targets_array = dataframe_to_arrays(dataframe)\n",
    "inputs_array, targets_array"
   ]
  },
  {
   "attachments": {},
   "cell_type": "markdown",
   "metadata": {},
   "source": [
    "**Domanda 6:** convertire array numpy in tensori PyTorch (NB! Fare attenzione che siano float32)"
   ]
  },
  {
   "cell_type": "code",
   "execution_count": 16,
   "metadata": {},
   "outputs": [],
   "source": [
    "inputs = torch.from_numpy(inputs_array).to(torch.float32)\n",
    "targets = torch.from_numpy(targets_array).to(torch.float32)"
   ]
  },
  {
   "cell_type": "code",
   "execution_count": 17,
   "metadata": {},
   "outputs": [
    {
     "data": {
      "text/plain": [
       "(torch.float32, torch.float32)"
      ]
     },
     "execution_count": 17,
     "metadata": {},
     "output_type": "execute_result"
    }
   ],
   "source": [
    "inputs.dtype, targets.dtype     # Verifica tipologia dati"
   ]
  },
  {
   "cell_type": "code",
   "execution_count": 18,
   "metadata": {},
   "outputs": [
    {
     "name": "stdout",
     "output_type": "stream",
     "text": [
      "1271\n"
     ]
    }
   ],
   "source": [
    "dataset = TensorDataset(inputs, targets)\n",
    "print(len(dataset))"
   ]
  },
  {
   "attachments": {},
   "cell_type": "markdown",
   "metadata": {},
   "source": [
    "**Domanda 7:** Scegliere un numero tra 0.1 e 0.2 per determinare la frazione di dati che verranno usati per creare un validation set, quindi usare random_split per creare training e validation set"
   ]
  },
  {
   "cell_type": "code",
   "execution_count": 19,
   "metadata": {},
   "outputs": [
    {
     "name": "stdout",
     "output_type": "stream",
     "text": [
      "Dimensione validation test:  254\n",
      "Dimensione training test:  1017\n"
     ]
    }
   ],
   "source": [
    "val_percent = 0.2\n",
    "val_size = int (num_rows * val_percent)\n",
    "print('Dimensione validation test: ', val_size)\n",
    "train_size = num_rows - val_size\n",
    "print('Dimensione training test: ', train_size)\n",
    "\n",
    "train_ds, val_ds = random_split(dataset, [train_size, val_size])"
   ]
  },
  {
   "attachments": {},
   "cell_type": "markdown",
   "metadata": {},
   "source": [
    "**Domanda 8:** Scegliere una dimensione di lotto per il data loader"
   ]
  },
  {
   "cell_type": "code",
   "execution_count": 20,
   "metadata": {},
   "outputs": [],
   "source": [
    "batch_size = 8"
   ]
  },
  {
   "cell_type": "code",
   "execution_count": 21,
   "metadata": {},
   "outputs": [],
   "source": [
    "train_loader = DataLoader(train_ds, batch_size, shuffle = True)\n",
    "val_loader = DataLoader(val_ds, batch_size)"
   ]
  },
  {
   "cell_type": "code",
   "execution_count": 22,
   "metadata": {},
   "outputs": [
    {
     "name": "stdout",
     "output_type": "stream",
     "text": [
      "inputs:  tensor([[40.0000,  0.0000, 22.4422,  2.0000,  1.0000],\n",
      "        [43.0000,  0.0000, 25.5227,  1.0000,  1.0000],\n",
      "        [45.0000,  0.0000, 27.9214,  1.0000,  0.0000],\n",
      "        [26.0000,  1.0000, 17.8467,  0.0000,  0.0000],\n",
      "        [59.0000,  1.0000, 25.7146,  1.0000,  0.0000],\n",
      "        [21.0000,  1.0000, 31.4110,  0.0000,  0.0000],\n",
      "        [30.0000,  1.0000, 35.8853,  0.0000,  1.0000],\n",
      "        [29.0000,  1.0000, 30.0324,  2.0000,  0.0000]])\n",
      "targets:  tensor([[21388.6914],\n",
      "        [23948.4766],\n",
      "        [31174.2070],\n",
      "        [ 2949.0442],\n",
      "        [14205.3916],\n",
      "        [ 1678.9432],\n",
      "        [40645.2812],\n",
      "        [19973.6641]])\n"
     ]
    }
   ],
   "source": [
    "for xb, yb in train_loader:\n",
    "    print('inputs: ', xb)\n",
    "    print('targets: ', yb)\n",
    "    break"
   ]
  },
  {
   "attachments": {},
   "cell_type": "markdown",
   "metadata": {},
   "source": [
    "# Creare un modello di regressione lineare"
   ]
  },
  {
   "cell_type": "code",
   "execution_count": 23,
   "metadata": {},
   "outputs": [],
   "source": [
    "input_size = len(input_cols)\n",
    "output_size = len(output_cols)"
   ]
  },
  {
   "cell_type": "code",
   "execution_count": 24,
   "metadata": {},
   "outputs": [
    {
     "data": {
      "text/plain": [
       "5"
      ]
     },
     "execution_count": 24,
     "metadata": {},
     "output_type": "execute_result"
    }
   ],
   "source": [
    "input_size"
   ]
  },
  {
   "cell_type": "code",
   "execution_count": 25,
   "metadata": {},
   "outputs": [
    {
     "data": {
      "text/plain": [
       "1"
      ]
     },
     "execution_count": 25,
     "metadata": {},
     "output_type": "execute_result"
    }
   ],
   "source": [
    "output_size"
   ]
  },
  {
   "cell_type": "code",
   "execution_count": 26,
   "metadata": {},
   "outputs": [],
   "source": [
    "class InsuranceModel(nn.Module):\n",
    "    def __init__(self):\n",
    "        super().__init__()\n",
    "        self.linear = nn.Linear(input_size, output_size)\n",
    "        \n",
    "    def forward(self, xb):\n",
    "        out = self.linear(xb)\n",
    "        return out\n",
    "    \n",
    "    def training_step(self, batch):\n",
    "        inputs, targets = batch\n",
    "        out = self(inputs)   \n",
    "\n",
    "        loss = F.l1_loss(out, targets)\n",
    "        return loss\n",
    "    \n",
    "    def validation_step(self, batch):\n",
    "        inputs, targets = batch\n",
    "        out = self(inputs)  \n",
    "        loss = F.l1_loss(out, targets)\n",
    "        return {'val_loss': loss.detach()}\n",
    "        \n",
    "    def validation_epoch_end(self, outputs):\n",
    "        batch_losses = [x['val_loss'] for x in outputs]\n",
    "        epoch_loss = torch.stack(batch_losses).mean()\n",
    "        return {'val_loss': epoch_loss.item()}\n",
    "    \n",
    "    def epoch_end(self, epoch, result, num_epochs):\n",
    "        if (epoch+1) % 20 == 0 or epoch == num_epochs-1:\n",
    "            print(\"Epoch [{}], val_loss: {:.4f}\".format(epoch+1, result['val_loss']))  "
   ]
  },
  {
   "cell_type": "code",
   "execution_count": 27,
   "metadata": {},
   "outputs": [],
   "source": [
    "model = InsuranceModel()"
   ]
  },
  {
   "cell_type": "code",
   "execution_count": 28,
   "metadata": {},
   "outputs": [
    {
     "data": {
      "text/plain": [
       "<generator object Module.parameters at 0x7fd7905645f0>"
      ]
     },
     "execution_count": 28,
     "metadata": {},
     "output_type": "execute_result"
    }
   ],
   "source": [
    "model.parameters()"
   ]
  },
  {
   "cell_type": "code",
   "execution_count": 29,
   "metadata": {},
   "outputs": [
    {
     "data": {
      "text/plain": [
       "Parameter containing:\n",
       "tensor([[ 0.1712, -0.4165, -0.1237, -0.1863,  0.1933]], requires_grad=True)"
      ]
     },
     "execution_count": 29,
     "metadata": {},
     "output_type": "execute_result"
    }
   ],
   "source": [
    "model.linear.weight"
   ]
  },
  {
   "cell_type": "code",
   "execution_count": 30,
   "metadata": {},
   "outputs": [
    {
     "data": {
      "text/plain": [
       "Parameter containing:\n",
       "tensor([-0.2033], requires_grad=True)"
      ]
     },
     "execution_count": 30,
     "metadata": {},
     "output_type": "execute_result"
    }
   ],
   "source": [
    "model.linear.bias"
   ]
  },
  {
   "cell_type": "code",
   "execution_count": 31,
   "metadata": {},
   "outputs": [
    {
     "name": "stdout",
     "output_type": "stream",
     "text": [
      "[tensor([[49.0000,  0.0000, 22.8361,  1.0000,  0.0000],\n",
      "        [28.0000,  1.0000, 27.2498,  2.0000,  0.0000],\n",
      "        [51.0000,  0.0000, 41.0666,  0.0000,  0.0000],\n",
      "        [39.0000,  1.0000, 24.7551,  2.0000,  0.0000],\n",
      "        [19.0000,  0.0000, 29.1890,  0.0000,  0.0000],\n",
      "        [35.0000,  1.0000, 29.1890,  3.0000,  0.0000],\n",
      "        [31.0000,  1.0000, 31.3757,  3.0000,  0.0000],\n",
      "        [36.0000,  0.0000, 30.3202,  0.0000,  0.0000]]), tensor([[10523.6904],\n",
      "        [ 4878.6035],\n",
      "        [10863.2480],\n",
      "        [ 7381.2109],\n",
      "        [ 1917.5354],\n",
      "        [ 6519.5308],\n",
      "        [ 5967.5259],\n",
      "        [ 5799.3936]])]\n"
     ]
    }
   ],
   "source": [
    "print(next(iter(val_loader)))"
   ]
  },
  {
   "cell_type": "code",
   "execution_count": 32,
   "metadata": {},
   "outputs": [
    {
     "data": {
      "text/plain": [
       "Parameter containing:\n",
       "tensor([[ 0.1712, -0.4165, -0.1237, -0.1863,  0.1933]], requires_grad=True)"
      ]
     },
     "execution_count": 32,
     "metadata": {},
     "output_type": "execute_result"
    }
   ],
   "source": [
    "model.linear.weight"
   ]
  },
  {
   "attachments": {},
   "cell_type": "markdown",
   "metadata": {},
   "source": [
    "# Training del model"
   ]
  },
  {
   "cell_type": "code",
   "execution_count": 33,
   "metadata": {},
   "outputs": [],
   "source": [
    "def evaluate(model, val_loader):\n",
    "    outputs = [model.validation_step(batch) for batch in val_loader]\n",
    "    return model.validation_epoch_end(outputs)\n",
    "\n",
    "def fit(epochs, lr, model, train_loader, val_loader, opt_func=torch.optim.SGD):\n",
    "    history = []\n",
    "    optimizer = opt_func(model.parameters(), lr)\n",
    "    for epoch in range(epochs):\n",
    "        # Training Phase \n",
    "        for batch in train_loader:\n",
    "            loss = model.training_step(batch)\n",
    "            loss.backward()\n",
    "            optimizer.step()\n",
    "            optimizer.zero_grad()\n",
    "        # Validation phase\n",
    "        result = evaluate(model, val_loader)\n",
    "        model.epoch_end(epoch, result, epochs)\n",
    "        history.append(result)\n",
    "    return history"
   ]
  },
  {
   "attachments": {},
   "cell_type": "markdown",
   "metadata": {},
   "source": [
    "**Domanda 9:** usa la funzione evaluate per calcolare la perdita del validation set prima del training"
   ]
  },
  {
   "cell_type": "code",
   "execution_count": 34,
   "metadata": {},
   "outputs": [
    {
     "name": "stdout",
     "output_type": "stream",
     "text": [
      "{'val_loss': 13276.0400390625}\n"
     ]
    }
   ],
   "source": [
    "result = evaluate(model, val_loader)\n",
    "print(result)"
   ]
  },
  {
   "cell_type": "code",
   "execution_count": 35,
   "metadata": {},
   "outputs": [
    {
     "name": "stdout",
     "output_type": "stream",
     "text": [
      "Epoch [20], val_loss: 6466.1978\n",
      "Epoch [40], val_loss: 6367.3857\n",
      "Epoch [60], val_loss: 6341.3721\n",
      "Epoch [80], val_loss: 6341.1133\n",
      "Epoch [100], val_loss: 6295.9697\n",
      "Epoch [120], val_loss: 6276.3862\n",
      "Epoch [140], val_loss: 6264.3877\n",
      "Epoch [160], val_loss: 6285.1675\n",
      "Epoch [180], val_loss: 6237.2427\n",
      "Epoch [200], val_loss: 6228.7402\n",
      "Epoch [220], val_loss: 6253.1426\n",
      "Epoch [240], val_loss: 6242.7490\n",
      "Epoch [260], val_loss: 6232.6748\n",
      "Epoch [280], val_loss: 6190.4375\n",
      "Epoch [300], val_loss: 6190.2378\n",
      "Epoch [320], val_loss: 6247.3779\n",
      "Epoch [340], val_loss: 6151.9937\n",
      "Epoch [360], val_loss: 6140.5908\n",
      "Epoch [380], val_loss: 6209.0698\n",
      "Epoch [400], val_loss: 6121.5430\n",
      "Epoch [420], val_loss: 6185.5732\n",
      "Epoch [440], val_loss: 6114.7417\n",
      "Epoch [460], val_loss: 6197.1191\n",
      "Epoch [480], val_loss: 6112.7295\n",
      "Epoch [500], val_loss: 6112.8979\n",
      "Epoch [520], val_loss: 6083.0166\n",
      "Epoch [540], val_loss: 6057.6387\n",
      "Epoch [560], val_loss: 6058.3677\n",
      "Epoch [580], val_loss: 6041.8652\n",
      "Epoch [600], val_loss: 6015.9541\n",
      "Epoch [620], val_loss: 6080.7861\n",
      "Epoch [640], val_loss: 5999.6919\n",
      "Epoch [660], val_loss: 5990.5742\n",
      "Epoch [680], val_loss: 6007.7285\n",
      "Epoch [700], val_loss: 6101.1743\n",
      "Epoch [720], val_loss: 5958.6143\n",
      "Epoch [740], val_loss: 5997.2993\n",
      "Epoch [760], val_loss: 6018.3892\n",
      "Epoch [780], val_loss: 5930.2632\n",
      "Epoch [800], val_loss: 5921.8394\n",
      "Epoch [820], val_loss: 5981.8213\n",
      "Epoch [840], val_loss: 6106.0928\n",
      "Epoch [860], val_loss: 5903.3091\n",
      "Epoch [880], val_loss: 5974.2544\n",
      "Epoch [900], val_loss: 5876.3159\n",
      "Epoch [920], val_loss: 5941.4658\n",
      "Epoch [940], val_loss: 5889.2197\n",
      "Epoch [960], val_loss: 5919.5708\n",
      "Epoch [980], val_loss: 5837.5840\n",
      "Epoch [1000], val_loss: 5901.1294\n",
      "Epoch [1020], val_loss: 5815.5332\n",
      "Epoch [1040], val_loss: 5852.2700\n",
      "Epoch [1060], val_loss: 5802.5464\n",
      "Epoch [1080], val_loss: 5923.3320\n",
      "Epoch [1100], val_loss: 5861.0664\n",
      "Epoch [1120], val_loss: 5768.5044\n",
      "Epoch [1140], val_loss: 5821.4858\n",
      "Epoch [1160], val_loss: 5752.9766\n",
      "Epoch [1180], val_loss: 5765.0073\n",
      "Epoch [1200], val_loss: 5760.4873\n",
      "Epoch [1220], val_loss: 5723.9829\n",
      "Epoch [1240], val_loss: 5715.5308\n",
      "Epoch [1260], val_loss: 5771.1494\n",
      "Epoch [1280], val_loss: 5702.7085\n",
      "Epoch [1300], val_loss: 5735.0366\n",
      "Epoch [1320], val_loss: 5710.9341\n",
      "Epoch [1340], val_loss: 5672.3486\n",
      "Epoch [1360], val_loss: 5675.0527\n",
      "Epoch [1380], val_loss: 5681.3105\n",
      "Epoch [1400], val_loss: 5705.8340\n",
      "Epoch [1420], val_loss: 5687.5156\n",
      "Epoch [1440], val_loss: 5674.6143\n",
      "Epoch [1460], val_loss: 5658.6035\n",
      "Epoch [1480], val_loss: 5625.9966\n",
      "Epoch [1500], val_loss: 5597.4595\n",
      "Epoch [1520], val_loss: 5683.9712\n",
      "Epoch [1540], val_loss: 5664.4824\n",
      "Epoch [1560], val_loss: 5566.0229\n",
      "Epoch [1580], val_loss: 5601.8491\n",
      "Epoch [1600], val_loss: 5555.6938\n",
      "Epoch [1620], val_loss: 5642.9438\n",
      "Epoch [1640], val_loss: 5540.4663\n",
      "Epoch [1660], val_loss: 5530.3389\n",
      "Epoch [1680], val_loss: 5514.9370\n",
      "Epoch [1700], val_loss: 5589.1587\n",
      "Epoch [1720], val_loss: 5612.0303\n",
      "Epoch [1740], val_loss: 5514.1455\n",
      "Epoch [1760], val_loss: 5479.9053\n",
      "Epoch [1780], val_loss: 5480.2300\n",
      "Epoch [1800], val_loss: 5454.9600\n",
      "Epoch [1820], val_loss: 5459.3223\n",
      "Epoch [1840], val_loss: 5436.4443\n",
      "Epoch [1860], val_loss: 5429.5317\n",
      "Epoch [1880], val_loss: 5429.2388\n",
      "Epoch [1900], val_loss: 5439.5605\n",
      "Epoch [1920], val_loss: 5450.6318\n",
      "Epoch [1940], val_loss: 5391.1841\n",
      "Epoch [1960], val_loss: 5383.0088\n",
      "Epoch [1980], val_loss: 5403.2549\n",
      "Epoch [2000], val_loss: 5365.7441\n",
      "Epoch [2020], val_loss: 5442.6504\n",
      "Epoch [2040], val_loss: 5348.4653\n",
      "Epoch [2060], val_loss: 5354.9141\n",
      "Epoch [2080], val_loss: 5435.3174\n",
      "Epoch [2100], val_loss: 5384.3848\n",
      "Epoch [2120], val_loss: 5311.2603\n",
      "Epoch [2140], val_loss: 5314.8242\n",
      "Epoch [2160], val_loss: 5307.8364\n",
      "Epoch [2180], val_loss: 5290.0361\n",
      "Epoch [2200], val_loss: 5283.0981\n",
      "Epoch [2220], val_loss: 5313.6138\n",
      "Epoch [2240], val_loss: 5258.4209\n",
      "Epoch [2260], val_loss: 5247.3213\n",
      "Epoch [2280], val_loss: 5249.9512\n",
      "Epoch [2300], val_loss: 5232.3467\n",
      "Epoch [2320], val_loss: 5312.2505\n",
      "Epoch [2340], val_loss: 5220.4731\n",
      "Epoch [2360], val_loss: 5205.9819\n",
      "Epoch [2380], val_loss: 5206.9404\n",
      "Epoch [2400], val_loss: 5228.0117\n",
      "Epoch [2420], val_loss: 5226.2515\n",
      "Epoch [2440], val_loss: 5167.8994\n",
      "Epoch [2460], val_loss: 5155.9150\n",
      "Epoch [2480], val_loss: 5226.4878\n",
      "Epoch [2500], val_loss: 5163.7583\n",
      "Epoch [2520], val_loss: 5166.8081\n",
      "Epoch [2540], val_loss: 5292.0234\n",
      "Epoch [2560], val_loss: 5117.4590\n",
      "Epoch [2580], val_loss: 5219.9531\n",
      "Epoch [2600], val_loss: 5187.2393\n",
      "Epoch [2620], val_loss: 5143.9248\n",
      "Epoch [2640], val_loss: 5100.0605\n",
      "Epoch [2660], val_loss: 5080.8623\n",
      "Epoch [2680], val_loss: 5060.5879\n",
      "Epoch [2700], val_loss: 5055.9150\n",
      "Epoch [2720], val_loss: 5089.8330\n",
      "Epoch [2740], val_loss: 5056.8994\n",
      "Epoch [2760], val_loss: 5020.9272\n",
      "Epoch [2780], val_loss: 5014.2417\n",
      "Epoch [2800], val_loss: 5101.4150\n",
      "Epoch [2820], val_loss: 5003.6875\n",
      "Epoch [2840], val_loss: 4991.2866\n",
      "Epoch [2860], val_loss: 5095.5938\n",
      "Epoch [2880], val_loss: 4968.0713\n",
      "Epoch [2900], val_loss: 4959.3003\n",
      "Epoch [2920], val_loss: 4957.9150\n",
      "Epoch [2940], val_loss: 4955.7627\n",
      "Epoch [2960], val_loss: 4962.9219\n",
      "Epoch [2980], val_loss: 4923.1548\n",
      "Epoch [3000], val_loss: 4962.9126\n",
      "Epoch [3020], val_loss: 4906.0503\n",
      "Epoch [3040], val_loss: 4897.7485\n",
      "Epoch [3060], val_loss: 5036.4375\n",
      "Epoch [3080], val_loss: 4884.4541\n",
      "Epoch [3100], val_loss: 4964.1372\n",
      "Epoch [3120], val_loss: 4930.2461\n",
      "Epoch [3140], val_loss: 4854.1748\n",
      "Epoch [3160], val_loss: 4842.7114\n",
      "Epoch [3180], val_loss: 4932.5366\n",
      "Epoch [3200], val_loss: 4891.1348\n",
      "Epoch [3220], val_loss: 4831.5718\n",
      "Epoch [3240], val_loss: 4853.7925\n",
      "Epoch [3260], val_loss: 4840.7251\n",
      "Epoch [3280], val_loss: 4879.7007\n",
      "Epoch [3300], val_loss: 4845.3589\n",
      "Epoch [3320], val_loss: 4840.0605\n",
      "Epoch [3340], val_loss: 4811.6567\n",
      "Epoch [3360], val_loss: 4859.7402\n",
      "Epoch [3380], val_loss: 4776.0005\n",
      "Epoch [3400], val_loss: 4782.8574\n",
      "Epoch [3420], val_loss: 4817.2480\n",
      "Epoch [3440], val_loss: 4719.2515\n",
      "Epoch [3460], val_loss: 4732.7119\n",
      "Epoch [3480], val_loss: 4717.4102\n",
      "Epoch [3500], val_loss: 4692.8921\n",
      "Epoch [3520], val_loss: 4731.7627\n",
      "Epoch [3540], val_loss: 4675.6099\n",
      "Epoch [3560], val_loss: 4665.8979\n",
      "Epoch [3580], val_loss: 4785.6133\n",
      "Epoch [3600], val_loss: 4648.8232\n",
      "Epoch [3620], val_loss: 4676.4302\n",
      "Epoch [3640], val_loss: 4634.8516\n",
      "Epoch [3660], val_loss: 4652.7065\n",
      "Epoch [3680], val_loss: 4677.2314\n",
      "Epoch [3700], val_loss: 4646.2666\n",
      "Epoch [3720], val_loss: 4602.5527\n",
      "Epoch [3740], val_loss: 4674.2261\n",
      "Epoch [3760], val_loss: 4581.3335\n",
      "Epoch [3780], val_loss: 4578.2441\n",
      "Epoch [3800], val_loss: 4578.8066\n",
      "Epoch [3820], val_loss: 4556.9287\n",
      "Epoch [3840], val_loss: 4546.8325\n",
      "Epoch [3860], val_loss: 4535.6411\n",
      "Epoch [3880], val_loss: 4527.4780\n",
      "Epoch [3900], val_loss: 4674.2905\n",
      "Epoch [3920], val_loss: 4525.0903\n",
      "Epoch [3940], val_loss: 4522.5107\n",
      "Epoch [3960], val_loss: 4542.6265\n",
      "Epoch [3980], val_loss: 4484.3711\n",
      "Epoch [4000], val_loss: 4476.1812\n",
      "Epoch [4020], val_loss: 4469.5952\n",
      "Epoch [4040], val_loss: 4563.6177\n",
      "Epoch [4060], val_loss: 4451.3457\n",
      "Epoch [4080], val_loss: 4476.7539\n",
      "Epoch [4100], val_loss: 4470.7510\n",
      "Epoch [4120], val_loss: 4437.4839\n",
      "Epoch [4140], val_loss: 4466.2080\n",
      "Epoch [4160], val_loss: 4464.5303\n",
      "Epoch [4180], val_loss: 4492.6382\n",
      "Epoch [4200], val_loss: 4555.8755\n",
      "Epoch [4220], val_loss: 4470.1387\n",
      "Epoch [4240], val_loss: 4376.7324\n",
      "Epoch [4260], val_loss: 4383.4756\n",
      "Epoch [4280], val_loss: 4498.8491\n",
      "Epoch [4300], val_loss: 4387.3584\n",
      "Epoch [4320], val_loss: 4350.4072\n",
      "Epoch [4340], val_loss: 4371.1934\n",
      "Epoch [4360], val_loss: 4330.1079\n",
      "Epoch [4380], val_loss: 4320.9517\n",
      "Epoch [4400], val_loss: 4320.0527\n",
      "Epoch [4420], val_loss: 4304.6035\n",
      "Epoch [4440], val_loss: 4297.7637\n",
      "Epoch [4460], val_loss: 4314.7148\n",
      "Epoch [4480], val_loss: 4283.6255\n",
      "Epoch [4500], val_loss: 4306.5659\n",
      "Epoch [4520], val_loss: 4281.2954\n",
      "Epoch [4540], val_loss: 4258.8340\n",
      "Epoch [4560], val_loss: 4312.0220\n",
      "Epoch [4580], val_loss: 4278.9863\n",
      "Epoch [4600], val_loss: 4384.6616\n",
      "Epoch [4620], val_loss: 4326.1182\n",
      "Epoch [4640], val_loss: 4249.0288\n",
      "Epoch [4660], val_loss: 4270.3594\n",
      "Epoch [4680], val_loss: 4321.5317\n",
      "Epoch [4700], val_loss: 4250.0439\n",
      "Epoch [4720], val_loss: 4315.2759\n",
      "Epoch [4740], val_loss: 4190.6357\n",
      "Epoch [4760], val_loss: 4270.4160\n",
      "Epoch [4780], val_loss: 4177.6582\n",
      "Epoch [4800], val_loss: 4171.3516\n",
      "Epoch [4820], val_loss: 4160.1396\n",
      "Epoch [4840], val_loss: 4220.3574\n",
      "Epoch [4860], val_loss: 4152.9829\n",
      "Epoch [4880], val_loss: 4139.5947\n",
      "Epoch [4900], val_loss: 4165.9653\n",
      "Epoch [4920], val_loss: 4144.0376\n",
      "Epoch [4940], val_loss: 4119.5923\n",
      "Epoch [4960], val_loss: 4221.0083\n",
      "Epoch [4980], val_loss: 4127.2129\n",
      "Epoch [5000], val_loss: 4102.0664\n",
      "Epoch [5020], val_loss: 4094.3020\n",
      "Epoch [5040], val_loss: 4092.3613\n",
      "Epoch [5060], val_loss: 4082.3884\n",
      "Epoch [5080], val_loss: 4101.1484\n",
      "Epoch [5100], val_loss: 4089.1284\n",
      "Epoch [5120], val_loss: 4091.3101\n"
     ]
    }
   ],
   "source": [
    "epochs = 5120\n",
    "lr = 0.1\n",
    "history1 = fit(epochs, lr, model, train_loader, val_loader)"
   ]
  },
  {
   "cell_type": "code",
   "execution_count": 36,
   "metadata": {},
   "outputs": [
    {
     "name": "stdout",
     "output_type": "stream",
     "text": [
      "Epoch [20], val_loss: 4086.4395\n",
      "Epoch [40], val_loss: 4085.2065\n",
      "Epoch [60], val_loss: 4063.3074\n",
      "Epoch [80], val_loss: 4163.5933\n",
      "Epoch [100], val_loss: 4125.0181\n",
      "Epoch [120], val_loss: 4040.4165\n",
      "Epoch [140], val_loss: 4172.0986\n",
      "Epoch [160], val_loss: 4024.5198\n",
      "Epoch [180], val_loss: 4069.4238\n",
      "Epoch [200], val_loss: 4062.2090\n",
      "Epoch [220], val_loss: 4055.7915\n",
      "Epoch [240], val_loss: 4012.2139\n",
      "Epoch [260], val_loss: 4002.0811\n",
      "Epoch [280], val_loss: 3995.4575\n",
      "Epoch [300], val_loss: 3997.7305\n",
      "Epoch [320], val_loss: 4025.3843\n",
      "Epoch [340], val_loss: 3982.7563\n",
      "Epoch [360], val_loss: 4079.0999\n",
      "Epoch [380], val_loss: 3972.9517\n",
      "Epoch [400], val_loss: 3968.5725\n",
      "Epoch [420], val_loss: 4070.0334\n",
      "Epoch [440], val_loss: 3964.0298\n",
      "Epoch [460], val_loss: 3989.2783\n",
      "Epoch [480], val_loss: 3975.8706\n",
      "Epoch [500], val_loss: 3966.5020\n",
      "Epoch [520], val_loss: 3956.9287\n",
      "Epoch [540], val_loss: 3945.9292\n",
      "Epoch [560], val_loss: 3969.9724\n",
      "Epoch [580], val_loss: 3998.2285\n",
      "Epoch [600], val_loss: 4034.9048\n",
      "Epoch [620], val_loss: 3932.0891\n",
      "Epoch [640], val_loss: 3937.4473\n",
      "Epoch [660], val_loss: 3931.2324\n",
      "Epoch [680], val_loss: 4110.3223\n",
      "Epoch [700], val_loss: 3928.4783\n",
      "Epoch [720], val_loss: 3959.6958\n",
      "Epoch [740], val_loss: 3956.8647\n",
      "Epoch [760], val_loss: 3950.5234\n",
      "Epoch [780], val_loss: 3930.6880\n",
      "Epoch [800], val_loss: 3907.7856\n",
      "Epoch [820], val_loss: 3903.9607\n",
      "Epoch [840], val_loss: 3957.7942\n",
      "Epoch [860], val_loss: 3927.1345\n",
      "Epoch [880], val_loss: 3896.5430\n",
      "Epoch [900], val_loss: 3896.5520\n",
      "Epoch [920], val_loss: 3960.9841\n",
      "Epoch [940], val_loss: 3903.0461\n",
      "Epoch [960], val_loss: 3887.2275\n",
      "Epoch [980], val_loss: 3907.6038\n",
      "Epoch [1000], val_loss: 3886.8965\n",
      "Epoch [1020], val_loss: 3902.5432\n",
      "Epoch [1040], val_loss: 3878.5515\n",
      "Epoch [1060], val_loss: 3889.0205\n",
      "Epoch [1080], val_loss: 4027.8831\n",
      "Epoch [1100], val_loss: 3872.4043\n",
      "Epoch [1120], val_loss: 3880.5090\n",
      "Epoch [1140], val_loss: 3870.8618\n",
      "Epoch [1160], val_loss: 3908.1216\n",
      "Epoch [1180], val_loss: 3898.1716\n",
      "Epoch [1200], val_loss: 3865.5542\n",
      "Epoch [1220], val_loss: 3887.7815\n",
      "Epoch [1240], val_loss: 3863.8145\n",
      "Epoch [1260], val_loss: 3904.8499\n",
      "Epoch [1280], val_loss: 3890.5083\n",
      "Epoch [1300], val_loss: 3870.5002\n",
      "Epoch [1320], val_loss: 3861.0181\n",
      "Epoch [1340], val_loss: 3861.9734\n",
      "Epoch [1360], val_loss: 3850.1013\n",
      "Epoch [1380], val_loss: 3919.3889\n",
      "Epoch [1400], val_loss: 3957.6748\n",
      "Epoch [1420], val_loss: 3848.7734\n",
      "Epoch [1440], val_loss: 3927.2739\n",
      "Epoch [1460], val_loss: 3892.6577\n",
      "Epoch [1480], val_loss: 3850.0747\n",
      "Epoch [1500], val_loss: 3870.9971\n",
      "Epoch [1520], val_loss: 3882.4131\n",
      "Epoch [1540], val_loss: 3885.7664\n",
      "Epoch [1560], val_loss: 3837.8835\n",
      "Epoch [1580], val_loss: 3879.9817\n",
      "Epoch [1600], val_loss: 3845.5664\n",
      "Epoch [1620], val_loss: 3872.0671\n",
      "Epoch [1640], val_loss: 3916.4524\n",
      "Epoch [1660], val_loss: 3876.2070\n",
      "Epoch [1680], val_loss: 3842.0200\n",
      "Epoch [1700], val_loss: 3836.9897\n",
      "Epoch [1720], val_loss: 3837.4121\n",
      "Epoch [1740], val_loss: 3911.4851\n",
      "Epoch [1760], val_loss: 3829.5654\n",
      "Epoch [1780], val_loss: 3842.7979\n",
      "Epoch [1800], val_loss: 3858.1287\n",
      "Epoch [1820], val_loss: 3829.4644\n",
      "Epoch [1840], val_loss: 3957.5742\n",
      "Epoch [1860], val_loss: 3827.5298\n",
      "Epoch [1880], val_loss: 3860.8921\n",
      "Epoch [1900], val_loss: 3827.7761\n",
      "Epoch [1920], val_loss: 3885.2090\n",
      "Epoch [1940], val_loss: 3892.8079\n",
      "Epoch [1960], val_loss: 3837.6038\n",
      "Epoch [1980], val_loss: 3825.0454\n",
      "Epoch [2000], val_loss: 3983.2480\n",
      "Epoch [2020], val_loss: 3828.2915\n",
      "Epoch [2040], val_loss: 3851.3899\n",
      "Epoch [2060], val_loss: 4000.8120\n",
      "Epoch [2080], val_loss: 3838.3250\n",
      "Epoch [2100], val_loss: 3826.5837\n",
      "Epoch [2120], val_loss: 3827.5681\n",
      "Epoch [2140], val_loss: 3834.6384\n",
      "Epoch [2160], val_loss: 3833.5107\n",
      "Epoch [2180], val_loss: 3821.8821\n",
      "Epoch [2200], val_loss: 3868.5325\n",
      "Epoch [2220], val_loss: 3822.3896\n",
      "Epoch [2240], val_loss: 3863.6848\n",
      "Epoch [2260], val_loss: 3820.9600\n",
      "Epoch [2280], val_loss: 3824.1538\n",
      "Epoch [2300], val_loss: 3830.2524\n",
      "Epoch [2320], val_loss: 3821.1616\n",
      "Epoch [2340], val_loss: 3830.1851\n",
      "Epoch [2360], val_loss: 3933.1504\n",
      "Epoch [2380], val_loss: 3879.7100\n",
      "Epoch [2400], val_loss: 3870.8201\n",
      "Epoch [2420], val_loss: 3952.4504\n",
      "Epoch [2440], val_loss: 3824.5103\n",
      "Epoch [2460], val_loss: 3821.6199\n",
      "Epoch [2480], val_loss: 3818.1292\n",
      "Epoch [2500], val_loss: 3834.5637\n",
      "Epoch [2520], val_loss: 3816.4641\n",
      "Epoch [2540], val_loss: 3815.9824\n",
      "Epoch [2560], val_loss: 3847.6448\n",
      "Epoch [2580], val_loss: 3830.7778\n",
      "Epoch [2600], val_loss: 3898.7148\n",
      "Epoch [2620], val_loss: 3820.5999\n",
      "Epoch [2640], val_loss: 3828.0981\n",
      "Epoch [2660], val_loss: 3813.4473\n",
      "Epoch [2680], val_loss: 3815.9084\n",
      "Epoch [2700], val_loss: 3900.2808\n",
      "Epoch [2720], val_loss: 3815.5349\n",
      "Epoch [2740], val_loss: 3813.7871\n",
      "Epoch [2760], val_loss: 3829.2786\n",
      "Epoch [2780], val_loss: 3859.4951\n",
      "Epoch [2800], val_loss: 3815.4707\n",
      "Epoch [2820], val_loss: 3878.1865\n",
      "Epoch [2840], val_loss: 3907.8071\n",
      "Epoch [2860], val_loss: 3810.7942\n",
      "Epoch [2880], val_loss: 3825.6785\n",
      "Epoch [2900], val_loss: 3843.9958\n",
      "Epoch [2920], val_loss: 3819.2930\n",
      "Epoch [2940], val_loss: 3810.2029\n",
      "Epoch [2960], val_loss: 3811.6709\n",
      "Epoch [2980], val_loss: 3838.4502\n",
      "Epoch [3000], val_loss: 3877.4458\n",
      "Epoch [3020], val_loss: 3851.4492\n",
      "Epoch [3040], val_loss: 3807.9395\n",
      "Epoch [3060], val_loss: 3828.1318\n",
      "Epoch [3080], val_loss: 3854.0405\n",
      "Epoch [3100], val_loss: 3810.7642\n",
      "Epoch [3120], val_loss: 3834.7766\n",
      "Epoch [3140], val_loss: 3813.0967\n",
      "Epoch [3160], val_loss: 3871.3923\n",
      "Epoch [3180], val_loss: 3828.6321\n",
      "Epoch [3200], val_loss: 3845.4683\n",
      "Epoch [3220], val_loss: 3807.0698\n",
      "Epoch [3240], val_loss: 3809.9639\n",
      "Epoch [3260], val_loss: 3808.6514\n",
      "Epoch [3280], val_loss: 3810.7236\n",
      "Epoch [3300], val_loss: 3812.7590\n",
      "Epoch [3320], val_loss: 3960.4243\n",
      "Epoch [3340], val_loss: 3810.4082\n",
      "Epoch [3360], val_loss: 3806.1401\n",
      "Epoch [3380], val_loss: 3852.1482\n",
      "Epoch [3400], val_loss: 3806.5232\n",
      "Epoch [3420], val_loss: 3815.2693\n",
      "Epoch [3440], val_loss: 3884.1958\n",
      "Epoch [3460], val_loss: 3862.1489\n",
      "Epoch [3480], val_loss: 3851.9021\n",
      "Epoch [3500], val_loss: 3815.0623\n",
      "Epoch [3520], val_loss: 3956.0161\n",
      "Epoch [3540], val_loss: 3883.9380\n",
      "Epoch [3560], val_loss: 3803.7881\n",
      "Epoch [3580], val_loss: 3812.5786\n",
      "Epoch [3600], val_loss: 3823.2261\n",
      "Epoch [3620], val_loss: 3804.1865\n",
      "Epoch [3640], val_loss: 3803.0049\n",
      "Epoch [3660], val_loss: 3845.2771\n",
      "Epoch [3680], val_loss: 3812.2661\n",
      "Epoch [3700], val_loss: 3837.2773\n",
      "Epoch [3720], val_loss: 3809.1516\n",
      "Epoch [3740], val_loss: 3981.4570\n",
      "Epoch [3760], val_loss: 3810.9612\n",
      "Epoch [3780], val_loss: 3820.2117\n",
      "Epoch [3800], val_loss: 3882.7573\n",
      "Epoch [3820], val_loss: 3829.6750\n",
      "Epoch [3840], val_loss: 3874.6418\n",
      "Epoch [3860], val_loss: 3833.7927\n",
      "Epoch [3880], val_loss: 3814.9053\n",
      "Epoch [3900], val_loss: 3828.6055\n",
      "Epoch [3920], val_loss: 3826.7915\n",
      "Epoch [3940], val_loss: 3836.2632\n",
      "Epoch [3960], val_loss: 3803.9321\n",
      "Epoch [3980], val_loss: 3871.5737\n",
      "Epoch [4000], val_loss: 3877.9905\n",
      "Epoch [4020], val_loss: 3815.1455\n",
      "Epoch [4040], val_loss: 3830.0173\n",
      "Epoch [4060], val_loss: 3862.2490\n",
      "Epoch [4080], val_loss: 3846.7300\n",
      "Epoch [4100], val_loss: 3899.0151\n",
      "Epoch [4120], val_loss: 3805.1262\n",
      "Epoch [4140], val_loss: 3802.8047\n",
      "Epoch [4160], val_loss: 3875.1074\n",
      "Epoch [4180], val_loss: 3799.5000\n",
      "Epoch [4200], val_loss: 3815.9785\n",
      "Epoch [4220], val_loss: 3867.0737\n",
      "Epoch [4240], val_loss: 3937.3398\n",
      "Epoch [4260], val_loss: 3838.2380\n",
      "Epoch [4280], val_loss: 3838.6335\n",
      "Epoch [4300], val_loss: 3816.2214\n",
      "Epoch [4320], val_loss: 3867.3625\n",
      "Epoch [4340], val_loss: 3804.4087\n",
      "Epoch [4360], val_loss: 3807.3096\n",
      "Epoch [4380], val_loss: 3799.1194\n",
      "Epoch [4400], val_loss: 3855.3086\n",
      "Epoch [4420], val_loss: 3888.3774\n",
      "Epoch [4440], val_loss: 3820.9590\n",
      "Epoch [4460], val_loss: 3799.4458\n",
      "Epoch [4480], val_loss: 3839.7104\n",
      "Epoch [4500], val_loss: 3819.1829\n",
      "Epoch [4520], val_loss: 3817.6514\n",
      "Epoch [4540], val_loss: 3825.8245\n",
      "Epoch [4560], val_loss: 3816.9045\n",
      "Epoch [4580], val_loss: 3839.1416\n",
      "Epoch [4600], val_loss: 3850.0171\n",
      "Epoch [4620], val_loss: 3818.8794\n",
      "Epoch [4640], val_loss: 3852.8240\n",
      "Epoch [4660], val_loss: 3837.4851\n",
      "Epoch [4680], val_loss: 3804.6509\n",
      "Epoch [4700], val_loss: 3800.6450\n",
      "Epoch [4720], val_loss: 3859.7134\n",
      "Epoch [4740], val_loss: 3879.6538\n",
      "Epoch [4760], val_loss: 3813.8752\n",
      "Epoch [4780], val_loss: 3854.9250\n",
      "Epoch [4800], val_loss: 3839.6404\n",
      "Epoch [4820], val_loss: 3806.6465\n",
      "Epoch [4840], val_loss: 3854.5605\n",
      "Epoch [4860], val_loss: 3799.6091\n",
      "Epoch [4880], val_loss: 3824.5334\n",
      "Epoch [4900], val_loss: 3803.0640\n",
      "Epoch [4920], val_loss: 3843.7478\n",
      "Epoch [4940], val_loss: 3820.1321\n",
      "Epoch [4960], val_loss: 3803.9219\n",
      "Epoch [4980], val_loss: 3835.8923\n",
      "Epoch [5000], val_loss: 3800.3738\n",
      "Epoch [5020], val_loss: 3808.1431\n",
      "Epoch [5040], val_loss: 3868.2158\n",
      "Epoch [5060], val_loss: 3798.9863\n",
      "Epoch [5080], val_loss: 3810.7913\n",
      "Epoch [5100], val_loss: 3808.8105\n",
      "Epoch [5120], val_loss: 3831.5889\n"
     ]
    }
   ],
   "source": [
    "epochs = 5120\n",
    "lr = 0.1\n",
    "history2 = fit(epochs, lr, model, train_loader, val_loader)"
   ]
  },
  {
   "cell_type": "code",
   "execution_count": 37,
   "metadata": {},
   "outputs": [
    {
     "name": "stdout",
     "output_type": "stream",
     "text": [
      "Epoch [20], val_loss: 3858.8059\n",
      "Epoch [40], val_loss: 3826.6509\n",
      "Epoch [60], val_loss: 3835.7273\n",
      "Epoch [80], val_loss: 3853.5774\n",
      "Epoch [100], val_loss: 3797.8125\n",
      "Epoch [120], val_loss: 3819.4927\n",
      "Epoch [140], val_loss: 3813.9976\n",
      "Epoch [160], val_loss: 3844.7734\n",
      "Epoch [180], val_loss: 3810.1311\n",
      "Epoch [200], val_loss: 3823.6023\n",
      "Epoch [220], val_loss: 3865.7068\n",
      "Epoch [240], val_loss: 3807.7388\n",
      "Epoch [260], val_loss: 3812.0000\n",
      "Epoch [280], val_loss: 3874.4880\n",
      "Epoch [300], val_loss: 3806.9336\n",
      "Epoch [320], val_loss: 3808.3618\n",
      "Epoch [340], val_loss: 3855.8096\n",
      "Epoch [360], val_loss: 3808.5547\n",
      "Epoch [380], val_loss: 3808.6965\n",
      "Epoch [400], val_loss: 3805.0415\n",
      "Epoch [420], val_loss: 3819.6077\n",
      "Epoch [440], val_loss: 3797.3159\n",
      "Epoch [460], val_loss: 3803.3674\n",
      "Epoch [480], val_loss: 3845.2202\n",
      "Epoch [500], val_loss: 3797.6353\n",
      "Epoch [520], val_loss: 3830.9939\n",
      "Epoch [540], val_loss: 3826.2803\n",
      "Epoch [560], val_loss: 3984.8394\n",
      "Epoch [580], val_loss: 3829.3159\n",
      "Epoch [600], val_loss: 3798.9238\n",
      "Epoch [620], val_loss: 3825.8335\n",
      "Epoch [640], val_loss: 3813.5771\n",
      "Epoch [660], val_loss: 3866.5640\n",
      "Epoch [680], val_loss: 3878.8794\n",
      "Epoch [700], val_loss: 3833.6677\n",
      "Epoch [720], val_loss: 3802.1399\n",
      "Epoch [740], val_loss: 3848.6108\n",
      "Epoch [760], val_loss: 3852.9294\n",
      "Epoch [780], val_loss: 3804.0549\n",
      "Epoch [800], val_loss: 3806.8918\n",
      "Epoch [820], val_loss: 3813.4712\n",
      "Epoch [840], val_loss: 3854.3738\n",
      "Epoch [860], val_loss: 3797.4695\n",
      "Epoch [880], val_loss: 3831.9963\n",
      "Epoch [900], val_loss: 3797.1826\n",
      "Epoch [920], val_loss: 3806.2141\n",
      "Epoch [940], val_loss: 3804.9451\n",
      "Epoch [960], val_loss: 3798.6462\n",
      "Epoch [980], val_loss: 3829.3135\n",
      "Epoch [1000], val_loss: 3815.7656\n",
      "Epoch [1020], val_loss: 3803.7683\n",
      "Epoch [1040], val_loss: 3829.8188\n",
      "Epoch [1060], val_loss: 3809.8259\n",
      "Epoch [1080], val_loss: 3842.0869\n",
      "Epoch [1100], val_loss: 3806.3557\n",
      "Epoch [1120], val_loss: 3801.6614\n",
      "Epoch [1140], val_loss: 3797.4092\n",
      "Epoch [1160], val_loss: 3838.4917\n",
      "Epoch [1180], val_loss: 3815.5171\n",
      "Epoch [1200], val_loss: 3804.4343\n",
      "Epoch [1220], val_loss: 3798.4751\n",
      "Epoch [1240], val_loss: 3812.0652\n",
      "Epoch [1260], val_loss: 3797.9561\n",
      "Epoch [1280], val_loss: 3816.9119\n",
      "Epoch [1300], val_loss: 3803.8853\n",
      "Epoch [1320], val_loss: 3843.8340\n",
      "Epoch [1340], val_loss: 3832.3694\n",
      "Epoch [1360], val_loss: 3879.2546\n",
      "Epoch [1380], val_loss: 3816.2607\n",
      "Epoch [1400], val_loss: 3855.0645\n",
      "Epoch [1420], val_loss: 3857.0425\n",
      "Epoch [1440], val_loss: 3815.9226\n",
      "Epoch [1460], val_loss: 3824.8398\n",
      "Epoch [1480], val_loss: 3826.2563\n",
      "Epoch [1500], val_loss: 3804.5615\n",
      "Epoch [1520], val_loss: 3826.0859\n",
      "Epoch [1540], val_loss: 3802.9412\n",
      "Epoch [1560], val_loss: 3840.5723\n",
      "Epoch [1580], val_loss: 3822.8872\n",
      "Epoch [1600], val_loss: 3797.8096\n",
      "Epoch [1620], val_loss: 3841.3418\n",
      "Epoch [1640], val_loss: 3842.8064\n",
      "Epoch [1660], val_loss: 3901.3618\n",
      "Epoch [1680], val_loss: 3797.4060\n",
      "Epoch [1700], val_loss: 3820.4060\n",
      "Epoch [1720], val_loss: 3810.0166\n",
      "Epoch [1740], val_loss: 3836.9849\n",
      "Epoch [1760], val_loss: 3875.3552\n",
      "Epoch [1780], val_loss: 3797.4124\n",
      "Epoch [1800], val_loss: 3840.6777\n",
      "Epoch [1820], val_loss: 3830.9504\n",
      "Epoch [1840], val_loss: 3811.7998\n",
      "Epoch [1860], val_loss: 3798.2969\n",
      "Epoch [1880], val_loss: 3814.7273\n",
      "Epoch [1900], val_loss: 3805.3154\n",
      "Epoch [1920], val_loss: 3796.9907\n",
      "Epoch [1940], val_loss: 3849.3936\n",
      "Epoch [1960], val_loss: 3814.5461\n",
      "Epoch [1980], val_loss: 3831.1987\n",
      "Epoch [2000], val_loss: 3898.4822\n",
      "Epoch [2020], val_loss: 3834.4072\n",
      "Epoch [2040], val_loss: 3865.5400\n",
      "Epoch [2060], val_loss: 3807.5625\n",
      "Epoch [2080], val_loss: 3962.1440\n",
      "Epoch [2100], val_loss: 3853.1489\n",
      "Epoch [2120], val_loss: 3797.4104\n",
      "Epoch [2140], val_loss: 3795.6550\n",
      "Epoch [2160], val_loss: 3797.9844\n",
      "Epoch [2180], val_loss: 3797.9131\n",
      "Epoch [2200], val_loss: 3859.9929\n",
      "Epoch [2220], val_loss: 3821.9595\n",
      "Epoch [2240], val_loss: 3799.6914\n",
      "Epoch [2260], val_loss: 3874.2583\n",
      "Epoch [2280], val_loss: 3796.5044\n",
      "Epoch [2300], val_loss: 3821.7014\n",
      "Epoch [2320], val_loss: 3827.8457\n",
      "Epoch [2340], val_loss: 3819.5378\n",
      "Epoch [2360], val_loss: 3807.8135\n",
      "Epoch [2380], val_loss: 3892.1912\n",
      "Epoch [2400], val_loss: 3796.0483\n",
      "Epoch [2420], val_loss: 3809.4075\n",
      "Epoch [2440], val_loss: 3849.7749\n",
      "Epoch [2460], val_loss: 3809.1780\n",
      "Epoch [2480], val_loss: 3890.1069\n",
      "Epoch [2500], val_loss: 3807.8003\n",
      "Epoch [2520], val_loss: 3830.8711\n",
      "Epoch [2540], val_loss: 3910.2422\n",
      "Epoch [2560], val_loss: 3876.0188\n",
      "Epoch [2580], val_loss: 3799.5100\n",
      "Epoch [2600], val_loss: 3823.2749\n",
      "Epoch [2620], val_loss: 3825.6418\n",
      "Epoch [2640], val_loss: 3825.3389\n",
      "Epoch [2660], val_loss: 3820.8718\n",
      "Epoch [2680], val_loss: 3864.0005\n",
      "Epoch [2700], val_loss: 3836.5715\n",
      "Epoch [2720], val_loss: 3814.6184\n",
      "Epoch [2740], val_loss: 3834.1694\n",
      "Epoch [2760], val_loss: 3803.2925\n",
      "Epoch [2780], val_loss: 3948.3740\n",
      "Epoch [2800], val_loss: 3804.7603\n",
      "Epoch [2820], val_loss: 3852.3459\n",
      "Epoch [2840], val_loss: 3808.7251\n",
      "Epoch [2860], val_loss: 3815.6953\n",
      "Epoch [2880], val_loss: 3797.3977\n",
      "Epoch [2900], val_loss: 3835.5596\n",
      "Epoch [2920], val_loss: 3921.8533\n",
      "Epoch [2940], val_loss: 3804.3840\n",
      "Epoch [2960], val_loss: 3795.0864\n",
      "Epoch [2980], val_loss: 3803.3726\n",
      "Epoch [3000], val_loss: 3873.5576\n",
      "Epoch [3020], val_loss: 3822.5049\n",
      "Epoch [3040], val_loss: 3797.1958\n",
      "Epoch [3060], val_loss: 3823.6572\n"
     ]
    }
   ],
   "source": [
    "epochs = 5120\n",
    "lr = 0.1\n",
    "history3 = fit(epochs, lr, model, train_loader, val_loader)"
   ]
  },
  {
   "cell_type": "code",
   "execution_count": null,
   "metadata": {},
   "outputs": [],
   "source": [
    "epochs = 5120\n",
    "lr = 0.1\n",
    "history4 = fit(epochs, lr, model, train_loader, val_loader)"
   ]
  },
  {
   "cell_type": "code",
   "execution_count": null,
   "metadata": {},
   "outputs": [],
   "source": [
    "epochs = 5120\n",
    "lr = 0.1\n",
    "history5 = fit(epochs, lr, model, train_loader, val_loader)"
   ]
  },
  {
   "cell_type": "code",
   "execution_count": null,
   "metadata": {},
   "outputs": [],
   "source": [
    "val_loss = evaluate(model, val_loader)\n",
    "val_loss\n",
    "\n",
    "# NB! Valore di perdita altissimo, non riusciamo a ridurlo ulteriormente senza andare in overfitting"
   ]
  },
  {
   "cell_type": "code",
   "execution_count": null,
   "metadata": {},
   "outputs": [],
   "source": [
    "def predict_single(input, target, model):\n",
    "    inputs = input.unsqueeze(0)\n",
    "    predictions = torch.max(model(inputs)).unsqueeze(0)\n",
    "    prediction = predictions[0].detach()\n",
    "    print(\"Input:\", input)\n",
    "    print(\"Target:\", target)\n",
    "    print(\"Prediction:\", prediction)"
   ]
  },
  {
   "cell_type": "code",
   "execution_count": null,
   "metadata": {},
   "outputs": [],
   "source": [
    "input, target = val_ds[0]\n",
    "predict_single(input, target, model)"
   ]
  },
  {
   "cell_type": "code",
   "execution_count": null,
   "metadata": {},
   "outputs": [],
   "source": [
    "input, target = val_ds[10]\n",
    "predict_single(input, target, model)"
   ]
  },
  {
   "cell_type": "code",
   "execution_count": null,
   "metadata": {},
   "outputs": [],
   "source": [
    "input, target = val_ds[23]\n",
    "predict_single(input, target, model)"
   ]
  }
 ],
 "metadata": {
  "kernelspec": {
   "display_name": "base",
   "language": "python",
   "name": "python3"
  },
  "language_info": {
   "codemirror_mode": {
    "name": "ipython",
    "version": 3
   },
   "file_extension": ".py",
   "mimetype": "text/x-python",
   "name": "python",
   "nbconvert_exporter": "python",
   "pygments_lexer": "ipython3",
   "version": "3.10.10"
  },
  "orig_nbformat": 4
 },
 "nbformat": 4,
 "nbformat_minor": 2
}
